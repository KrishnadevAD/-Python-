{
 "cells": [
  {
   "cell_type": "markdown",
   "id": "b42b06d1",
   "metadata": {},
   "source": [
    " ## assignment "
   ]
  },
  {
   "cell_type": "raw",
   "id": "f3600382",
   "metadata": {},
   "source": [
    " Write a python  function to calculate the factorial of a non- negative  integer"
   ]
  },
  {
   "cell_type": "code",
   "execution_count": 1,
   "id": "ff4f5ff3",
   "metadata": {},
   "outputs": [],
   "source": [
    "def factorial(num):\n",
    "    if num==0 or num == 1:\n",
    "        return 1\n",
    "    else:\n",
    "        return num*factorial(num-1)\n",
    "    "
   ]
  },
  {
   "cell_type": "code",
   "execution_count": 2,
   "id": "1dc710f0",
   "metadata": {},
   "outputs": [
    {
     "data": {
      "text/plain": [
       "40320"
      ]
     },
     "execution_count": 2,
     "metadata": {},
     "output_type": "execute_result"
    }
   ],
   "source": [
    "factorial(8)"
   ]
  },
  {
   "cell_type": "code",
   "execution_count": 3,
   "id": "d5727000",
   "metadata": {},
   "outputs": [
    {
     "data": {
      "text/plain": [
       "1"
      ]
     },
     "execution_count": 3,
     "metadata": {},
     "output_type": "execute_result"
    }
   ],
   "source": [
    "factorial(1)"
   ]
  },
  {
   "cell_type": "code",
   "execution_count": 4,
   "id": "0d990021",
   "metadata": {},
   "outputs": [
    {
     "data": {
      "text/plain": [
       "6"
      ]
     },
     "execution_count": 4,
     "metadata": {},
     "output_type": "execute_result"
    }
   ],
   "source": [
    "factorial(3)"
   ]
  },
  {
   "cell_type": "raw",
   "id": "d426c7e8",
   "metadata": {},
   "source": [
    " Write a python function that takes a list and return a new list with unique elements of the list "
   ]
  },
  {
   "cell_type": "code",
   "execution_count": 5,
   "id": "7ec07519",
   "metadata": {},
   "outputs": [],
   "source": [
    "def unique_list(list1):\n",
    "  x = []\n",
    "  for a in list1:\n",
    "    if a not in x:\n",
    "      x.append(a)\n",
    "  return x\n",
    "\n",
    "#print(unique_list([1,2,3,3,3,3,4,5])) \n"
   ]
  },
  {
   "cell_type": "code",
   "execution_count": 6,
   "id": "94d6373d",
   "metadata": {},
   "outputs": [
    {
     "name": "stdout",
     "output_type": "stream",
     "text": [
      "[1, 2, 3, 4, 5]\n"
     ]
    }
   ],
   "source": [
    "print(unique_list([1,2,3,3,3,3,4,5]))  # printing list with agrument passing on it "
   ]
  },
  {
   "cell_type": "raw",
   "id": "79be31ba",
   "metadata": {},
   "source": [
    "Write a program on  python function that accepts a string and calculate the number of upper -case letters \n",
    "and   lower- case letters "
   ]
  },
  {
   "cell_type": "code",
   "execution_count": 7,
   "id": "e8064d47",
   "metadata": {},
   "outputs": [
    {
     "name": "stdout",
     "output_type": "stream",
     "text": [
      "Enter string:kkkkh GHJJHYYYFkmkkk\n",
      "The number of lowercase characters is:\n",
      "10\n",
      "The number of uppercase characters is:\n",
      "9\n",
      "The number of  Both  lower and uppercase character is:\n",
      "19\n"
     ]
    }
   ],
   "source": [
    "string=input(\"Enter string:\")\n",
    "count1=0\n",
    "count2=0\n",
    "total=0\n",
    "for i in string:\n",
    "      if(i.islower()):\n",
    "            count1=count1+1\n",
    "      elif(i.isupper()):\n",
    "            count2=count2+1\n",
    "total = total+count1+count2\n",
    "print(\"The number of lowercase characters is:\")\n",
    "print(count1)\n",
    "print(\"The number of uppercase characters is:\")\n",
    "print(count2)\n",
    "print(\"The number of  Both  lower and uppercase character is:\")\n",
    "print(total)\n",
    "    \n",
    "    "
   ]
  },
  {
   "cell_type": "raw",
   "id": "5696f6f7",
   "metadata": {},
   "source": [
    " Write a python program that accepts a hyphen-separated sequence of words as input\n",
    "    and prints the woeds in a hyphen-separated sequence after sorting them alphabetically\n",
    "    \n",
    "    Sample items : green-red-yellow-black-white\n",
    "    Expected Result : black-green-red-white-yellow"
   ]
  },
  {
   "cell_type": "code",
   "execution_count": 8,
   "id": "42beeb53",
   "metadata": {},
   "outputs": [
    {
     "name": "stdout",
     "output_type": "stream",
     "text": [
      "kkkk - kjhhjkk bbbbb\n",
      " kjhhjkk bbbbb-kkkk \n"
     ]
    }
   ],
   "source": [
    "items=[n for n in input().split('-')]\n",
    "items.sort()\n",
    "print('-'.join(items))"
   ]
  },
  {
   "cell_type": "raw",
   "id": "b690c59f",
   "metadata": {},
   "source": [
    "python program to display 5 th  fibonacci sequence using recursion "
   ]
  },
  {
   "cell_type": "raw",
   "id": "4c2c1777",
   "metadata": {},
   "source": [
    "fibonacci series \n",
    "0\n",
    "1\n",
    "1\n",
    "2\n",
    "3\n",
    "5\n",
    "8\n",
    "13\n",
    "21\n",
    "34\n",
    "\n"
   ]
  },
  {
   "cell_type": "code",
   "execution_count": 13,
   "id": "8f4ff521",
   "metadata": {},
   "outputs": [
    {
     "name": "stdout",
     "output_type": "stream",
     "text": [
      "the numbers of terms 12\n",
      "Fibonacci sequence:\n",
      "0\n",
      "1\n",
      "1\n",
      "2\n",
      "3\n",
      "5\n",
      "8\n",
      "13\n",
      "21\n",
      "34\n",
      "55\n",
      "89\n"
     ]
    }
   ],
   "source": [
    "def fibonacci(n):\n",
    "   if n <= 1:\n",
    "       return n\n",
    "   else:\n",
    "       return(fibonacci(n-1) + fibonacci(n-2))\n",
    "\n",
    "nterms = int(input(\"the numbers of terms \"))\n",
    "# check if the number of terms is valid\n",
    "if nterms <= 0:\n",
    "   print(\"Plese enter a positive integer\")\n",
    "else:\n",
    "   print(\"Fibonacci sequence:\")\n",
    "   for i in range(nterms):\n",
    "       print(fibonacci(i))"
   ]
  },
  {
   "cell_type": "raw",
   "id": "22ae9790",
   "metadata": {},
   "source": [
    " Assignment Calculator \n",
    "    * any no. of input can be  added\n",
    "    * Two no. can be subtracted\n",
    "    * Calculates mean of any number of input \n",
    "    * Squares the given number \n",
    "    * identifies if the given no. is even or odd"
   ]
  },
  {
   "cell_type": "code",
   "execution_count": 14,
   "id": "5a6fcd3e",
   "metadata": {},
   "outputs": [
    {
     "name": "stdout",
     "output_type": "stream",
     "text": [
      "enter any numbers 4\n",
      "enter any numbers 45.5\n"
     ]
    }
   ],
   "source": [
    "number1=float(input(\"enter any numbers \"))\n",
    "number2=float(input(\"enter any numbers \"))\n",
    "sum= number1+number2\n",
    "subtract= number1-number2\n",
    "mean=sum/2\n",
    "square=number1**2 or number2**2\n",
    "# if number1%2==0:\n",
    "#     print(\"Even\")\n",
    "# elif:\n",
    "#     print(\"odd\")\n"
   ]
  },
  {
   "cell_type": "code",
   "execution_count": 15,
   "id": "251ca173",
   "metadata": {},
   "outputs": [
    {
     "name": "stdout",
     "output_type": "stream",
     "text": [
      "49.5\n",
      "-41.5\n",
      "24.75\n",
      "16.0\n"
     ]
    }
   ],
   "source": [
    "print(sum)\n",
    "print(subtract)\n",
    "print(mean)\n",
    "print(square)"
   ]
  },
  {
   "cell_type": "code",
   "execution_count": null,
   "id": "9222ed0e",
   "metadata": {},
   "outputs": [],
   "source": []
  }
 ],
 "metadata": {
  "kernelspec": {
   "display_name": "Python 3 (ipykernel)",
   "language": "python",
   "name": "python3"
  },
  "language_info": {
   "codemirror_mode": {
    "name": "ipython",
    "version": 3
   },
   "file_extension": ".py",
   "mimetype": "text/x-python",
   "name": "python",
   "nbconvert_exporter": "python",
   "pygments_lexer": "ipython3",
   "version": "3.8.10"
  }
 },
 "nbformat": 4,
 "nbformat_minor": 5
}
