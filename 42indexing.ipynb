{
 "cells": [
  {
   "cell_type": "markdown",
   "id": "b9c8193e",
   "metadata": {},
   "source": [
    "### indexing"
   ]
  },
  {
   "cell_type": "code",
   "execution_count": 1,
   "id": "2250ac03",
   "metadata": {},
   "outputs": [],
   "source": [
    "s = \"hello world\""
   ]
  },
  {
   "cell_type": "code",
   "execution_count": 2,
   "id": "5ea286dc",
   "metadata": {},
   "outputs": [
    {
     "data": {
      "text/plain": [
       "'h'"
      ]
     },
     "execution_count": 2,
     "metadata": {},
     "output_type": "execute_result"
    }
   ],
   "source": [
    "s[0]"
   ]
  },
  {
   "cell_type": "code",
   "execution_count": 3,
   "id": "eab586df",
   "metadata": {},
   "outputs": [
    {
     "data": {
      "text/plain": [
       "'d'"
      ]
     },
     "execution_count": 3,
     "metadata": {},
     "output_type": "execute_result"
    }
   ],
   "source": [
    "s[-1]"
   ]
  },
  {
   "cell_type": "markdown",
   "id": "8c722740",
   "metadata": {},
   "source": [
    "### floating point is invalid "
   ]
  },
  {
   "cell_type": "code",
   "execution_count": 19,
   "id": "76a80ed1",
   "metadata": {},
   "outputs": [
    {
     "data": {
      "text/plain": [
       "'llo'"
      ]
     },
     "execution_count": 19,
     "metadata": {},
     "output_type": "execute_result"
    }
   ],
   "source": [
    "s[2:5]"
   ]
  },
  {
   "cell_type": "markdown",
   "id": "f58111d1",
   "metadata": {},
   "source": [
    "### range function  ---> start to  end with  steeps "
   ]
  },
  {
   "cell_type": "code",
   "execution_count": null,
   "id": "e685eed0",
   "metadata": {},
   "outputs": [],
   "source": [
    "range(start:end: steps) # this is  just  the sntax "
   ]
  },
  {
   "cell_type": "markdown",
   "id": "44df8b92",
   "metadata": {},
   "source": [
    "## Interview above "
   ]
  },
  {
   "cell_type": "code",
   "execution_count": null,
   "id": "de105f12",
   "metadata": {},
   "outputs": [],
   "source": [
    "s = \"hello world\"\n"
   ]
  },
  {
   "cell_type": "code",
   "execution_count": null,
   "id": "3e51c181",
   "metadata": {},
   "outputs": [],
   "source": [
    "len(s)"
   ]
  },
  {
   "cell_type": "code",
   "execution_count": null,
   "id": "4e39a281",
   "metadata": {},
   "outputs": [],
   "source": [
    "for index in range(0,10,1):\n",
    "    print(index)"
   ]
  },
  {
   "cell_type": "code",
   "execution_count": null,
   "id": "9bfc46a9",
   "metadata": {},
   "outputs": [],
   "source": [
    "for index in range(0,10,2):\n",
    "    print(\"\\n\")\n",
    "    print(index)"
   ]
  },
  {
   "cell_type": "code",
   "execution_count": null,
   "id": "9a347a50",
   "metadata": {},
   "outputs": [],
   "source": [
    "s = \"hello world\"\n",
    "start =0\n",
    "step = 1\n",
    "stop = len(s)\n",
    "    \n",
    "for index in range(start,stop,step):\n",
    "    letter=s[index]\n",
    "    print(\" the index is {} amd  letter is {}\".format(index,letter))"
   ]
  },
  {
   "cell_type": "markdown",
   "id": "7398c30e",
   "metadata": {},
   "source": [
    "# in # brings each word form particula text "
   ]
  },
  {
   "cell_type": "code",
   "execution_count": null,
   "id": "5d5b47fb",
   "metadata": {},
   "outputs": [],
   "source": [
    "s = \"hello world\"\n",
    "start =len(s)-1\n",
    "step = -1\n",
    "stop = -1\n",
    "    \n",
    "for index in range(start,stop,step):\n",
    "    letter=s[index]\n",
    "    print(\" the index is {} and letter is {}\".format(index,letter))"
   ]
  },
  {
   "cell_type": "code",
   "execution_count": null,
   "id": "c5968a1e",
   "metadata": {},
   "outputs": [],
   "source": [
    " s = \" hello world \"\n",
    "    start "
   ]
  },
  {
   "cell_type": "markdown",
   "id": "a7683303",
   "metadata": {},
   "source": [
    "### assignment"
   ]
  },
  {
   "cell_type": "raw",
   "id": "41e883a3",
   "metadata": {},
   "source": [
    "# WAP to count vowel and consonants on the  given string s =\"HELLO\""
   ]
  },
  {
   "cell_type": "code",
   "execution_count": 1,
   "id": "f3fdb82f",
   "metadata": {},
   "outputs": [
    {
     "name": "stdout",
     "output_type": "stream",
     "text": [
      "Please enter a string as you wish: aeyi\n",
      "The number of vowels: 0\n",
      "\n",
      "The number of consonant: 4\n"
     ]
    }
   ],
   "source": [
    "\n",
    "str=input(\"Please enter a string as you wish: \")\n",
    "vowels=0\n",
    "consonants=0\n",
    "str.lower()\n",
    "for i in str:\n",
    "    if(i == 'a'or i == 'e'or i == 'i'or i == 'o'or i == 'u' ) and (i == 'A'or i == 'E'or i == 'I'or i == 'O'or i == 'U' ):\n",
    "           vowels=vowels+1;\n",
    "    else:\n",
    "        consonants=consonants+1\n",
    "print(\"The number of vowels:\",vowels)\n",
    "print(\"\\nThe number of consonant:\",consonants)"
   ]
  },
  {
   "cell_type": "code",
   "execution_count": 5,
   "id": "777ce9d0",
   "metadata": {},
   "outputs": [],
   "source": [
    "# WAP to count vowel and consonants on the  given string s =\"HELLO\""
   ]
  },
  {
   "cell_type": "code",
   "execution_count": 14,
   "id": "a1f7b63a",
   "metadata": {},
   "outputs": [],
   "source": [
    "s = '  krishnadev '"
   ]
  },
  {
   "cell_type": "code",
   "execution_count": 15,
   "id": "8d434dce",
   "metadata": {},
   "outputs": [],
   "source": [
    "vowel =0\n",
    "cons = 0"
   ]
  },
  {
   "cell_type": "code",
   "execution_count": 16,
   "id": "eb4f9785",
   "metadata": {},
   "outputs": [
    {
     "name": "stdout",
     "output_type": "stream",
     "text": [
      "consonant = \n",
      "consonant = \n",
      "consonant =k\n",
      "consonant =r\n",
      "VOwel = i\n",
      "consonant =s\n",
      "consonant =h\n",
      "consonant =n\n",
      "VOwel = a\n",
      "consonant =d\n",
      "VOwel = e\n",
      "consonant =v\n",
      "consonant = \n",
      "total no of vowel 3\n",
      "total no of cons 10\n"
     ]
    }
   ],
   "source": [
    "for index in range(len(s)):\n",
    "    letter = s[index]\n",
    "    if letter =='a'or letter =='e' or letter=='i' or letter=='o' or letter=='u':\n",
    "        print(\"VOwel = {}\".format(letter))\n",
    "        vowel=vowel+1\n",
    "        \n",
    "    else:\n",
    "        print(\"consonant ={}\".format(letter))\n",
    "        cons =cons+1\n",
    "print(\"total no of vowel {}\".format(vowel))\n",
    "print(\"total no of cons {}\".format(cons))"
   ]
  },
  {
   "cell_type": "code",
   "execution_count": 20,
   "id": "813b7c88",
   "metadata": {},
   "outputs": [
    {
     "name": "stdout",
     "output_type": "stream",
     "text": [
      "consonant =k\n",
      "consonant =r\n",
      "VOwel = i\n",
      "consonant =s\n",
      "consonant =h\n",
      "consonant =n\n",
      "VOwel = a\n",
      "consonant =d\n",
      "VOwel = e\n",
      "consonant =v\n",
      "consonant =A\n",
      "consonant =d\n",
      "consonant =h\n",
      "VOwel = i\n",
      "consonant =k\n",
      "VOwel = a\n",
      "consonant =r\n",
      "VOwel = i\n",
      "consonant =D\n",
      "VOwel = a\n",
      "consonant =n\n",
      "VOwel = u\n",
      "consonant =w\n",
      "VOwel = a\n",
      "consonant =r\n",
      "total no of vowel 9\n",
      "total no of cons 16\n"
     ]
    }
   ],
   "source": [
    "s = '  krishnadev    Adhikari Danuwar '\n",
    "vowel =0\n",
    "cons = 0\n",
    "for index in range(len(s)):\n",
    "    letter = s[index]\n",
    "    if letter =='a'or letter =='e' or letter=='i' or letter=='o' or letter=='u':\n",
    "        print(\"VOwel = {}\".format(letter))\n",
    "        vowel=vowel+1\n",
    "    elif letter == ' ':\n",
    "        continue\n",
    "        \n",
    "    else:\n",
    "        print(\"consonant ={}\".format(letter))\n",
    "        cons =cons+1\n",
    "print(\"total no of vowel {}\".format(vowel))\n",
    "print(\"total no of cons {}\".format(cons))"
   ]
  },
  {
   "cell_type": "code",
   "execution_count": 21,
   "id": "8803985f",
   "metadata": {},
   "outputs": [
    {
     "data": {
      "text/plain": [
       "33"
      ]
     },
     "execution_count": 21,
     "metadata": {},
     "output_type": "execute_result"
    }
   ],
   "source": [
    "len(s)"
   ]
  },
  {
   "cell_type": "raw",
   "id": "52366103",
   "metadata": {},
   "source": [
    "# WAP to count vowel and consonants on the  given string"
   ]
  },
  {
   "cell_type": "code",
   "execution_count": 4,
   "id": "0a3bedb5",
   "metadata": {},
   "outputs": [
    {
     "name": "stdout",
     "output_type": "stream",
     "text": [
      "Total number of vowel and consonant are  : \n",
      "0\n",
      "4\n"
     ]
    }
   ],
   "source": [
    "vcount = 0;  \n",
    "ccount = 0;  \n",
    "str = \" bbbb  \";  \n",
    "   \n",
    "\n",
    "str = str.lower();  \n",
    "for i in range(0,len(str)):   \n",
    " \n",
    "    if str[i] in ('a',\"e\",\"i\",\"o\",\"u\"):  \n",
    "        vcount = vcount + 1;  \n",
    "    elif (str[i] >= 'a' and str[i] <= 'z'):  \n",
    "        ccount = ccount + 1;  \n",
    "print(\"Total number of vowel and consonant are  : \" );  \n",
    "print(vcount);  \n",
    "print(ccount);  "
   ]
  },
  {
   "cell_type": "markdown",
   "id": "15146fef",
   "metadata": {},
   "source": [
    " ### continue statement "
   ]
  },
  {
   "cell_type": "raw",
   "id": "c43c02b9",
   "metadata": {},
   "source": [
    "WAP to print only odd value \n",
    "\n",
    "note --> continue statement will not execute the statement beow it , it escape the logic \\\n",
    "   it is used in the loop  only "
   ]
  },
  {
   "cell_type": "code",
   "execution_count": 24,
   "id": "66a641d0",
   "metadata": {},
   "outputs": [
    {
     "name": "stdout",
     "output_type": "stream",
     "text": [
      "1\n",
      "3\n",
      "5\n",
      "7\n",
      "9\n"
     ]
    }
   ],
   "source": [
    "for i in range (10):\n",
    "    if i%2==0:\n",
    "        continue # it will just leave the  value ( it just escape the logic below that )\n",
    "    else:\n",
    "        print(i)"
   ]
  },
  {
   "cell_type": "code",
   "execution_count": null,
   "id": "738bc67d",
   "metadata": {},
   "outputs": [],
   "source": []
  }
 ],
 "metadata": {
  "kernelspec": {
   "display_name": "Python 3 (ipykernel)",
   "language": "python",
   "name": "python3"
  },
  "language_info": {
   "codemirror_mode": {
    "name": "ipython",
    "version": 3
   },
   "file_extension": ".py",
   "mimetype": "text/x-python",
   "name": "python",
   "nbconvert_exporter": "python",
   "pygments_lexer": "ipython3",
   "version": "3.8.10"
  }
 },
 "nbformat": 4,
 "nbformat_minor": 5
}
