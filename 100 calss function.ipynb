{
 "cells": [
  {
   "cell_type": "raw",
   "id": "48df3f7f",
   "metadata": {},
   "source": [
    "class function nae self \n",
    "init  is not constructor \n",
    "bcause it's type is object \n",
    "it is by default it calls the object "
   ]
  },
  {
   "cell_type": "code",
   "execution_count": 1,
   "id": "617fa01b",
   "metadata": {},
   "outputs": [],
   "source": [
    "def  test(*args,**kwargs):\n",
    "    print(args)\n",
    "    print(kwargs)"
   ]
  },
  {
   "cell_type": "code",
   "execution_count": 2,
   "id": "00eb2bc5",
   "metadata": {},
   "outputs": [
    {
     "name": "stdout",
     "output_type": "stream",
     "text": [
      "(1, 5, 6, 6, 7, 7, 7, 88, 67)\n",
      "{'first_nmae': 'Krishnadev adhikari ', 'last_name': 'Danuwar'}\n"
     ]
    }
   ],
   "source": [
    "test(1,5,6,6,7,7,7,88,67,first_nmae =\"Krishnadev adhikari \",last_name =\"Danuwar\")"
   ]
  },
  {
   "cell_type": "raw",
   "id": "66b26ffe",
   "metadata": {},
   "source": [
    " it detects automatically "
   ]
  },
  {
   "cell_type": "code",
   "execution_count": 8,
   "id": "b8504ce9",
   "metadata": {},
   "outputs": [],
   "source": [
    "class person:\n",
    "    def __init__(self,name):\n",
    "        self.name=name\n",
    "    def display_name(self):\n",
    "        print(\"Type your name  {}\".format(self.name))\n",
    "        "
   ]
  },
  {
   "cell_type": "code",
   "execution_count": 9,
   "id": "c5eaa725",
   "metadata": {},
   "outputs": [],
   "source": [
    "p1=person(\"Krishnadev Adhikari \")"
   ]
  },
  {
   "cell_type": "code",
   "execution_count": 10,
   "id": "05118318",
   "metadata": {},
   "outputs": [
    {
     "data": {
      "text/plain": [
       "'Krishnadev Adhikari '"
      ]
     },
     "execution_count": 10,
     "metadata": {},
     "output_type": "execute_result"
    }
   ],
   "source": [
    "p1.name\n"
   ]
  },
  {
   "cell_type": "code",
   "execution_count": 11,
   "id": "6c1197f2",
   "metadata": {},
   "outputs": [
    {
     "name": "stdout",
     "output_type": "stream",
     "text": [
      "Type your name  Krishnadev Adhikari \n"
     ]
    }
   ],
   "source": [
    "p1.display_name()"
   ]
  },
  {
   "cell_type": "markdown",
   "id": "4c8a1b9f",
   "metadata": {},
   "source": [
    " # inheritance "
   ]
  },
  {
   "cell_type": "markdown",
   "id": "f381aa5a",
   "metadata": {},
   "source": [
    "## single inheritance"
   ]
  },
  {
   "cell_type": "code",
   "execution_count": 15,
   "id": "794f3d3b",
   "metadata": {},
   "outputs": [],
   "source": [
    "class computer:\n",
    "    def __init__(self,CPU,RAM):\n",
    "        self.CPU=CPU\n",
    "        self.RAM=RAM"
   ]
  },
  {
   "cell_type": "code",
   "execution_count": 16,
   "id": "4bb25814",
   "metadata": {},
   "outputs": [],
   "source": [
    "class mobile(computer):\n",
    "    def __init__(self,model,CPU,RAM):\n",
    "        self.model=model\n",
    "        super().__init__(CPU,RAM)"
   ]
  },
  {
   "cell_type": "code",
   "execution_count": 17,
   "id": "3559c1a1",
   "metadata": {},
   "outputs": [],
   "source": [
    "mob=mobile(\"Redmi\",2.4,8)"
   ]
  },
  {
   "cell_type": "code",
   "execution_count": 20,
   "id": "32f60624",
   "metadata": {},
   "outputs": [
    {
     "ename": "AttributeError",
     "evalue": "'mobile' object has no attribute 'di'",
     "output_type": "error",
     "traceback": [
      "\u001b[1;31m---------------------------------------------------------------------------\u001b[0m",
      "\u001b[1;31mAttributeError\u001b[0m                            Traceback (most recent call last)",
      "Input \u001b[1;32mIn [20]\u001b[0m, in \u001b[0;36m<cell line: 1>\u001b[1;34m()\u001b[0m\n\u001b[1;32m----> 1\u001b[0m \u001b[43mmob\u001b[49m\u001b[38;5;241;43m.\u001b[39;49m\u001b[43mdi\u001b[49m\n",
      "\u001b[1;31mAttributeError\u001b[0m: 'mobile' object has no attribute 'di'"
     ]
    }
   ],
   "source": [
    "mob.di"
   ]
  },
  {
   "cell_type": "markdown",
   "id": "1ba16327",
   "metadata": {},
   "source": [
    "mob.CPU"
   ]
  },
  {
   "cell_type": "markdown",
   "id": "07e6d892",
   "metadata": {},
   "source": [
    "# multiple inheritance "
   ]
  },
  {
   "cell_type": "code",
   "execution_count": 27,
   "id": "b7267208",
   "metadata": {},
   "outputs": [],
   "source": [
    "class father:\n",
    "    def __init__(self,Fathername):\n",
    "        self.Fathername=Fathername\n",
    "        \n",
    "    \n",
    "class mother:\n",
    "     def __init__(self,Mothername):\n",
    "        self.Mothername=Mothername\n",
    "    \n"
   ]
  },
  {
   "cell_type": "code",
   "execution_count": 29,
   "id": "2fd27ec1",
   "metadata": {},
   "outputs": [],
   "source": [
    "class child(father,mother):\n",
    "    def __init__(self,Fathername,Mothername,childname):\n",
    "        self.childname=childname\n",
    "        father.__init__(self,Fathername)\n",
    "        mother.__init__(self,Mothername)"
   ]
  },
  {
   "cell_type": "code",
   "execution_count": 30,
   "id": "5cdebecc",
   "metadata": {},
   "outputs": [],
   "source": [
    "c1 =child(\"ram\",\"sita\",\"krishna\")"
   ]
  },
  {
   "cell_type": "code",
   "execution_count": 32,
   "id": "9f0773c7",
   "metadata": {},
   "outputs": [
    {
     "data": {
      "text/plain": [
       "'ram'"
      ]
     },
     "execution_count": 32,
     "metadata": {},
     "output_type": "execute_result"
    }
   ],
   "source": [
    "c1.Fathername"
   ]
  },
  {
   "cell_type": "code",
   "execution_count": 33,
   "id": "daaf400e",
   "metadata": {},
   "outputs": [
    {
     "data": {
      "text/plain": [
       "'sita'"
      ]
     },
     "execution_count": 33,
     "metadata": {},
     "output_type": "execute_result"
    }
   ],
   "source": [
    "c1.Mothername"
   ]
  },
  {
   "cell_type": "code",
   "execution_count": 35,
   "id": "e1d16c3e",
   "metadata": {},
   "outputs": [
    {
     "data": {
      "text/plain": [
       "'krishna'"
      ]
     },
     "execution_count": 35,
     "metadata": {},
     "output_type": "execute_result"
    }
   ],
   "source": [
    "c1.childname"
   ]
  },
  {
   "cell_type": "markdown",
   "id": "b699c32a",
   "metadata": {},
   "source": [
    "  ## mutilevel inheritance "
   ]
  },
  {
   "cell_type": "code",
   "execution_count": null,
   "id": "3ead2500",
   "metadata": {},
   "outputs": [],
   "source": []
  },
  {
   "cell_type": "markdown",
   "id": "efaf6790",
   "metadata": {},
   "source": [
    " ## access specifier "
   ]
  },
  {
   "cell_type": "raw",
   "id": "49e6f3b1",
   "metadata": {},
   "source": [
    " ## access specifier \n",
    "    limiting behavivour of the variable"
   ]
  },
  {
   "cell_type": "code",
   "execution_count": 36,
   "id": "466329cf",
   "metadata": {},
   "outputs": [
    {
     "ename": "NameError",
     "evalue": "name 'emp' is not defined",
     "output_type": "error",
     "traceback": [
      "\u001b[1;31m---------------------------------------------------------------------------\u001b[0m",
      "\u001b[1;31mNameError\u001b[0m                                 Traceback (most recent call last)",
      "Input \u001b[1;32mIn [36]\u001b[0m, in \u001b[0;36m<cell line: 1>\u001b[1;34m()\u001b[0m\n\u001b[1;32m----> 1\u001b[0m \u001b[38;5;28;01mclass\u001b[39;00m \u001b[38;5;21;01minterEmp\u001b[39;00m:\n\u001b[0;32m      2\u001b[0m     \u001b[38;5;66;03m#procted member\u001b[39;00m\n\u001b[0;32m      3\u001b[0m     emp\n",
      "Input \u001b[1;32mIn [36]\u001b[0m, in \u001b[0;36minterEmp\u001b[1;34m()\u001b[0m\n\u001b[0;32m      1\u001b[0m \u001b[38;5;28;01mclass\u001b[39;00m \u001b[38;5;21;01minterEmp\u001b[39;00m:\n\u001b[0;32m      2\u001b[0m     \u001b[38;5;66;03m#procted member\u001b[39;00m\n\u001b[1;32m----> 3\u001b[0m     \u001b[43memp\u001b[49m\n",
      "\u001b[1;31mNameError\u001b[0m: name 'emp' is not defined"
     ]
    }
   ],
   "source": [
    "class interEmp:\n",
    "    #procted member\n",
    "    emp"
   ]
  },
  {
   "cell_type": "code",
   "execution_count": 46,
   "id": "73fe4348",
   "metadata": {},
   "outputs": [],
   "source": [
    "class person:\n",
    "    def __inti__(self,name,balance):\n",
    "        self.name=name\n",
    "        self.balance=balance\n",
    "    def __add__(self,otherobj):\n",
    "        return self.balance + otherobj.balance"
   ]
  },
  {
   "cell_type": "code",
   "execution_count": 47,
   "id": "c17c4d2a",
   "metadata": {},
   "outputs": [
    {
     "ename": "TypeError",
     "evalue": "person() takes no arguments",
     "output_type": "error",
     "traceback": [
      "\u001b[1;31m---------------------------------------------------------------------------\u001b[0m",
      "\u001b[1;31mTypeError\u001b[0m                                 Traceback (most recent call last)",
      "Input \u001b[1;32mIn [47]\u001b[0m, in \u001b[0;36m<cell line: 1>\u001b[1;34m()\u001b[0m\n\u001b[1;32m----> 1\u001b[0m p1\u001b[38;5;241m=\u001b[39m\u001b[43mperson\u001b[49m\u001b[43m(\u001b[49m\u001b[38;5;124;43m\"\u001b[39;49m\u001b[38;5;124;43mKrishna\u001b[39;49m\u001b[38;5;124;43m\"\u001b[39;49m\u001b[43m,\u001b[49m\u001b[38;5;241;43m1200\u001b[39;49m\u001b[43m)\u001b[49m\n\u001b[0;32m      2\u001b[0m p2 \u001b[38;5;241m=\u001b[39mperson(\u001b[38;5;124m\"\u001b[39m\u001b[38;5;124mhari\u001b[39m\u001b[38;5;124m\"\u001b[39m,\u001b[38;5;241m233\u001b[39m)\n",
      "\u001b[1;31mTypeError\u001b[0m: person() takes no arguments"
     ]
    }
   ],
   "source": [
    "p1=person(\"Krishna\",1200)\n",
    "p2 =person(\"hari\",233)"
   ]
  },
  {
   "cell_type": "code",
   "execution_count": 48,
   "id": "e2cc7fc7",
   "metadata": {},
   "outputs": [
    {
     "ename": "NameError",
     "evalue": "name 'p2' is not defined",
     "output_type": "error",
     "traceback": [
      "\u001b[1;31m---------------------------------------------------------------------------\u001b[0m",
      "\u001b[1;31mNameError\u001b[0m                                 Traceback (most recent call last)",
      "Input \u001b[1;32mIn [48]\u001b[0m, in \u001b[0;36m<cell line: 1>\u001b[1;34m()\u001b[0m\n\u001b[1;32m----> 1\u001b[0m p1\u001b[38;5;241m+\u001b[39m\u001b[43mp2\u001b[49m\n",
      "\u001b[1;31mNameError\u001b[0m: name 'p2' is not defined"
     ]
    }
   ],
   "source": [
    "p1+p2"
   ]
  },
  {
   "cell_type": "code",
   "execution_count": 49,
   "id": "4a569d6e",
   "metadata": {},
   "outputs": [
    {
     "ename": "TypeError",
     "evalue": "unsupported operand type(s) for +: 'person' and 'int'",
     "output_type": "error",
     "traceback": [
      "\u001b[1;31m---------------------------------------------------------------------------\u001b[0m",
      "\u001b[1;31mTypeError\u001b[0m                                 Traceback (most recent call last)",
      "Input \u001b[1;32mIn [49]\u001b[0m, in \u001b[0;36m<cell line: 1>\u001b[1;34m()\u001b[0m\n\u001b[1;32m----> 1\u001b[0m \u001b[43mp1\u001b[49m\u001b[38;5;241;43m+\u001b[39;49m\u001b[38;5;241;43m4\u001b[39;49m\n",
      "\u001b[1;31mTypeError\u001b[0m: unsupported operand type(s) for +: 'person' and 'int'"
     ]
    }
   ],
   "source": [
    "p1+4 # cannot add object and number becuse + operator only add two person type "
   ]
  },
  {
   "cell_type": "code",
   "execution_count": null,
   "id": "4f634678",
   "metadata": {},
   "outputs": [],
   "source": []
  },
  {
   "cell_type": "code",
   "execution_count": null,
   "id": "8b368701",
   "metadata": {},
   "outputs": [],
   "source": []
  }
 ],
 "metadata": {
  "kernelspec": {
   "display_name": "Python 3 (ipykernel)",
   "language": "python",
   "name": "python3"
  },
  "language_info": {
   "codemirror_mode": {
    "name": "ipython",
    "version": 3
   },
   "file_extension": ".py",
   "mimetype": "text/x-python",
   "name": "python",
   "nbconvert_exporter": "python",
   "pygments_lexer": "ipython3",
   "version": "3.8.10"
  }
 },
 "nbformat": 4,
 "nbformat_minor": 5
}
