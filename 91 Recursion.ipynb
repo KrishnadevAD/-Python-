{
 "cells": [
  {
   "cell_type": "markdown",
   "id": "6cc777f4",
   "metadata": {},
   "source": [
    "# recursion "
   ]
  },
  {
   "cell_type": "code",
   "execution_count": null,
   "id": "b846b469",
   "metadata": {},
   "outputs": [],
   "source": [
    "def test():\n",
    "    test()"
   ]
  },
  {
   "cell_type": "code",
   "execution_count": null,
   "id": "dab428c3",
   "metadata": {},
   "outputs": [],
   "source": [
    "test()"
   ]
  },
  {
   "cell_type": "raw",
   "id": "000cae77",
   "metadata": {},
   "source": [
    " Recursion is a funcion that calls itself "
   ]
  },
  {
   "cell_type": "raw",
   "id": "c1c61256",
   "metadata": {},
   "source": [
    " it is used  in pattern "
   ]
  },
  {
   "cell_type": "raw",
   "id": "b3d14812",
   "metadata": {},
   "source": [
    " find the factorial of the following "
   ]
  },
  {
   "cell_type": "code",
   "execution_count": 1,
   "id": "da562d82",
   "metadata": {},
   "outputs": [],
   "source": [
    "def factorial(num):\n",
    "    if num==0 or num==1:\n",
    "        return 1 \n",
    "    else:\n",
    "        return num*factorial(num-1)"
   ]
  },
  {
   "cell_type": "code",
   "execution_count": 2,
   "id": "f1ae80c1",
   "metadata": {},
   "outputs": [
    {
     "data": {
      "text/plain": [
       "24"
      ]
     },
     "execution_count": 2,
     "metadata": {},
     "output_type": "execute_result"
    }
   ],
   "source": [
    "factorial(4)"
   ]
  },
  {
   "cell_type": "code",
   "execution_count": null,
   "id": "d99adb39",
   "metadata": {},
   "outputs": [],
   "source": []
  }
 ],
 "metadata": {
  "kernelspec": {
   "display_name": "Python 3 (ipykernel)",
   "language": "python",
   "name": "python3"
  },
  "language_info": {
   "codemirror_mode": {
    "name": "ipython",
    "version": 3
   },
   "file_extension": ".py",
   "mimetype": "text/x-python",
   "name": "python",
   "nbconvert_exporter": "python",
   "pygments_lexer": "ipython3",
   "version": "3.8.10"
  }
 },
 "nbformat": 4,
 "nbformat_minor": 5
}
