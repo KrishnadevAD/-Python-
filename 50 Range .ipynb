{
 "cells": [
  {
   "cell_type": "markdown",
   "id": "34737caf",
   "metadata": {},
   "source": [
    "## range "
   ]
  },
  {
   "cell_type": "markdown",
   "id": "78e4cbb5",
   "metadata": {},
   "source": [
    "list(range( 0, 30 , 1))"
   ]
  },
  {
   "cell_type": "markdown",
   "id": "603a9e31",
   "metadata": {},
   "source": [
    "## slicing"
   ]
  },
  {
   "cell_type": "raw",
   "id": "21182e2c",
   "metadata": {},
   "source": [
    " string operation"
   ]
  },
  {
   "cell_type": "code",
   "execution_count": 2,
   "id": "95806b95",
   "metadata": {},
   "outputs": [],
   "source": [
    "txt =\"Hello world \""
   ]
  },
  {
   "cell_type": "code",
   "execution_count": 4,
   "id": "71ddecd0",
   "metadata": {},
   "outputs": [
    {
     "data": {
      "text/plain": [
       "'H'"
      ]
     },
     "execution_count": 4,
     "metadata": {},
     "output_type": "execute_result"
    }
   ],
   "source": [
    "txt[0]"
   ]
  },
  {
   "cell_type": "code",
   "execution_count": 5,
   "id": "30806a64",
   "metadata": {},
   "outputs": [
    {
     "data": {
      "text/plain": [
       "' '"
      ]
     },
     "execution_count": 5,
     "metadata": {},
     "output_type": "execute_result"
    }
   ],
   "source": [
    "txt[5]"
   ]
  },
  {
   "cell_type": "code",
   "execution_count": 7,
   "id": "85e09edb",
   "metadata": {},
   "outputs": [
    {
     "data": {
      "text/plain": [
       "'Hello'"
      ]
     },
     "execution_count": 7,
     "metadata": {},
     "output_type": "execute_result"
    }
   ],
   "source": [
    "txt[0:5]"
   ]
  },
  {
   "cell_type": "code",
   "execution_count": 10,
   "id": "a04046f3",
   "metadata": {},
   "outputs": [
    {
     "data": {
      "text/plain": [
       "' world '"
      ]
     },
     "execution_count": 10,
     "metadata": {},
     "output_type": "execute_result"
    }
   ],
   "source": [
    "txt[5:]"
   ]
  },
  {
   "cell_type": "code",
   "execution_count": 11,
   "id": "5df4d905",
   "metadata": {},
   "outputs": [
    {
     "data": {
      "text/plain": [
       "'Hello'"
      ]
     },
     "execution_count": 11,
     "metadata": {},
     "output_type": "execute_result"
    }
   ],
   "source": [
    "txt[:5]"
   ]
  },
  {
   "cell_type": "code",
   "execution_count": 12,
   "id": "9afa9a8b",
   "metadata": {},
   "outputs": [
    {
     "data": {
      "text/plain": [
       "'o wor'"
      ]
     },
     "execution_count": 12,
     "metadata": {},
     "output_type": "execute_result"
    }
   ],
   "source": [
    "txt[4:9]"
   ]
  },
  {
   "cell_type": "code",
   "execution_count": 13,
   "id": "ee755d6e",
   "metadata": {},
   "outputs": [
    {
     "data": {
      "text/plain": [
       "'hi  good morning'"
      ]
     },
     "execution_count": 13,
     "metadata": {},
     "output_type": "execute_result"
    }
   ],
   "source": [
    "\"hi \" + \" good morning\""
   ]
  },
  {
   "cell_type": "code",
   "execution_count": 14,
   "id": "665f1222",
   "metadata": {},
   "outputs": [
    {
     "data": {
      "text/plain": [
       "'hi hi hi '"
      ]
     },
     "execution_count": 14,
     "metadata": {},
     "output_type": "execute_result"
    }
   ],
   "source": [
    "\"hi \"*3"
   ]
  },
  {
   "cell_type": "code",
   "execution_count": 15,
   "id": "6fe61e48",
   "metadata": {},
   "outputs": [
    {
     "data": {
      "text/plain": [
       "' 333 333 333 333'"
      ]
     },
     "execution_count": 15,
     "metadata": {},
     "output_type": "execute_result"
    }
   ],
   "source": [
    "\" 333\"* 4"
   ]
  },
  {
   "cell_type": "code",
   "execution_count": 16,
   "id": "478790c2",
   "metadata": {},
   "outputs": [
    {
     "data": {
      "text/plain": [
       "str"
      ]
     },
     "execution_count": 16,
     "metadata": {},
     "output_type": "execute_result"
    }
   ],
   "source": [
    "type(\"333\")"
   ]
  },
  {
   "cell_type": "code",
   "execution_count": null,
   "id": "f6211fb7",
   "metadata": {},
   "outputs": [],
   "source": []
  }
 ],
 "metadata": {
  "kernelspec": {
   "display_name": "Python 3 (ipykernel)",
   "language": "python",
   "name": "python3"
  },
  "language_info": {
   "codemirror_mode": {
    "name": "ipython",
    "version": 3
   },
   "file_extension": ".py",
   "mimetype": "text/x-python",
   "name": "python",
   "nbconvert_exporter": "python",
   "pygments_lexer": "ipython3",
   "version": "3.8.10"
  }
 },
 "nbformat": 4,
 "nbformat_minor": 5
}
