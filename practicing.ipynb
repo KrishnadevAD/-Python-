{
 "cells": [
  {
   "cell_type": "markdown",
   "id": "e1c8f56e",
   "metadata": {},
   "source": [
    " ## single line string and multiline str"
   ]
  },
  {
   "cell_type": "code",
   "execution_count": 1,
   "id": "508bded1",
   "metadata": {},
   "outputs": [
    {
     "name": "stdout",
     "output_type": "stream",
     "text": [
      "hello krishnadev adhikari \n"
     ]
    }
   ],
   "source": [
    "a=\"hello krishnadev adhikari \"\n",
    "print(a)"
   ]
  },
  {
   "cell_type": "code",
   "execution_count": 2,
   "id": "b3bc33ea",
   "metadata": {},
   "outputs": [
    {
     "name": "stdout",
     "output_type": "stream",
     "text": [
      "<class 'str'>\n"
     ]
    }
   ],
   "source": [
    "print(type(a))"
   ]
  },
  {
   "cell_type": "code",
   "execution_count": 3,
   "id": "efc29ee8",
   "metadata": {},
   "outputs": [],
   "source": [
    "multi_line_string=\"\"\" hello \n",
    "krishnadev adhikari \n",
    ", how are you ?\"\"\""
   ]
  },
  {
   "cell_type": "code",
   "execution_count": 4,
   "id": "6197b8ca",
   "metadata": {},
   "outputs": [
    {
     "name": "stdout",
     "output_type": "stream",
     "text": [
      " hello \n",
      "krishnadev adhikari \n",
      ", how are you ?\n"
     ]
    }
   ],
   "source": [
    "print(multi_line_string)"
   ]
  },
  {
   "cell_type": "code",
   "execution_count": 5,
   "id": "656c5c2b",
   "metadata": {},
   "outputs": [
    {
     "name": "stdout",
     "output_type": "stream",
     "text": [
      "<class 'str'>\n"
     ]
    }
   ],
   "source": [
    "print(type(multi_line_string))"
   ]
  },
  {
   "cell_type": "code",
   "execution_count": 6,
   "id": "5cbfb13a",
   "metadata": {},
   "outputs": [],
   "source": [
    "multi_line_string1='''\n",
    "hello \n",
    "krishnadev adhikari \n",
    ", how are you ?\n",
    "'''"
   ]
  },
  {
   "cell_type": "code",
   "execution_count": 7,
   "id": "3424070b",
   "metadata": {},
   "outputs": [
    {
     "name": "stdout",
     "output_type": "stream",
     "text": [
      "\n",
      "hello \n",
      "krishnadev adhikari \n",
      ", how are you ?\n",
      "\n"
     ]
    }
   ],
   "source": [
    "print(multi_line_string1)"
   ]
  },
  {
   "cell_type": "code",
   "execution_count": 8,
   "id": "6226d3b0",
   "metadata": {},
   "outputs": [
    {
     "name": "stdout",
     "output_type": "stream",
     "text": [
      "<class 'str'>\n"
     ]
    }
   ],
   "source": [
    "print(type(multi_line_string1))"
   ]
  },
  {
   "cell_type": "code",
   "execution_count": null,
   "id": "e5be901f",
   "metadata": {},
   "outputs": [],
   "source": []
  }
 ],
 "metadata": {
  "kernelspec": {
   "display_name": "Python 3 (ipykernel)",
   "language": "python",
   "name": "python3"
  },
  "language_info": {
   "codemirror_mode": {
    "name": "ipython",
    "version": 3
   },
   "file_extension": ".py",
   "mimetype": "text/x-python",
   "name": "python",
   "nbconvert_exporter": "python",
   "pygments_lexer": "ipython3",
   "version": "3.8.10"
  }
 },
 "nbformat": 4,
 "nbformat_minor": 5
}
