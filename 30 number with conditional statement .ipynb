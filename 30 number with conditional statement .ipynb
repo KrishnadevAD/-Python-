{
 "cells": [
  {
   "cell_type": "markdown",
   "id": "b81287a5",
   "metadata": {},
   "source": [
    " ###  Conditional statement"
   ]
  },
  {
   "cell_type": "markdown",
   "id": "0b62e1e6",
   "metadata": {},
   "source": [
    " ### write a program to  check,  whether a person is eligible for voting or not ( accept age from user ) "
   ]
  },
  {
   "cell_type": "code",
   "execution_count": 11,
   "id": "51aa07ab",
   "metadata": {},
   "outputs": [
    {
     "name": "stdout",
     "output_type": "stream",
     "text": [
      " Enter your age 39\n",
      " you are eligible to vote \n"
     ]
    }
   ],
   "source": [
    " age = int(input(\" Enter your age \"))\n",
    "if age > 18:\n",
    "    print(\" you are eligible to vote \")\n",
    "else:\n",
    "    print(\" you are not eligible to vote \")"
   ]
  },
  {
   "cell_type": "markdown",
   "id": "ee04ab14",
   "metadata": {},
   "source": [
    " ## Nesting and chaining of conditional"
   ]
  },
  {
   "cell_type": "markdown",
   "id": "feb9c629",
   "metadata": {},
   "source": [
    "#### WAP to check if the user input is zero ,  positive and negative and print respective message ___ nesting "
   ]
  },
  {
   "cell_type": "code",
   "execution_count": 12,
   "id": "7ddeefe6",
   "metadata": {},
   "outputs": [
    {
     "name": "stdout",
     "output_type": "stream",
     "text": [
      "enter a number 33\n",
      "the number is positive\n"
     ]
    }
   ],
   "source": [
    "input_num = int(input(\"enter a number \"))\n",
    "if input_num <0:\n",
    "    print(\" the number is negative\")\n",
    "else:\n",
    "    if input_num ==0:\n",
    "        print(\"the number is zero\")\n",
    "    else:\n",
    "        print(\"the number is positive\")\n",
    "        \n"
   ]
  },
  {
   "cell_type": "markdown",
   "id": "a7e701f0",
   "metadata": {},
   "source": []
  },
  {
   "cell_type": "markdown",
   "id": "a6798315",
   "metadata": {},
   "source": [
    "any number of these statemants can be insuted inside one another . indentation is only way to figure out "
   ]
  },
  {
   "cell_type": "code",
   "execution_count": 16,
   "id": "bd8555bb",
   "metadata": {},
   "outputs": [
    {
     "name": "stdout",
     "output_type": "stream",
     "text": [
      " enter a number 444\n",
      " the number is positive \n"
     ]
    }
   ],
   "source": [
    " user_input = int(input(\" enter a number \"))\n",
    "if user_input < 0:\n",
    "    print(\" the number is negative\")\n",
    "elif user_input == 0:\n",
    "    print(\" the number is zero\")\n",
    "else:\n",
    "    print(\" the number is positive \")"
   ]
  },
  {
   "cell_type": "markdown",
   "id": "259f09e3",
   "metadata": {},
   "source": [
    "  * __to  comment the multiple line select the whole code which you want of comment and press ( Enter and ? ) at a time__ "
   ]
  },
  {
   "cell_type": "code",
   "execution_count": 17,
   "id": "fb66dbcd",
   "metadata": {},
   "outputs": [],
   "source": [
    "# # hkshsh\n",
    "# # jhdkhdkha\n",
    "# # ahaj\n",
    "\n",
    "#  control + ?  to comment "
   ]
  },
  {
   "cell_type": "code",
   "execution_count": 20,
   "id": "72f5eb37",
   "metadata": {},
   "outputs": [
    {
     "name": "stdout",
     "output_type": "stream",
     "text": [
      " enter a number 44\n",
      " the number is positive \n"
     ]
    }
   ],
   "source": [
    " user_input = int(input(\" enter a number \"))\n",
    "if user_input < 0:\n",
    "    print(\" the number is negative\")\n",
    "elif user_input == 0:\n",
    "    print(\" the number is zero\")\n",
    "# elif user_input =>0:\n",
    "#     print(\" the number is zero\")\n",
    "else:\n",
    "    print(\" the number is positive \")"
   ]
  },
  {
   "cell_type": "markdown",
   "id": "fe6cf1b6",
   "metadata": {},
   "source": [
    "## WAP to check if the given input is positive , negative of zero   .\n",
    "    ## if it is positive check even or odd and print respective msessag\n",
    "    "
   ]
  },
  {
   "cell_type": "code",
   "execution_count": 25,
   "id": "25061e9f",
   "metadata": {},
   "outputs": [
    {
     "name": "stdout",
     "output_type": "stream",
     "text": [
      " Enter a number 44\n",
      " The number is positive \n",
      "It is even number \n"
     ]
    }
   ],
   "source": [
    " user_input = int(input(\" Enter a number \"))\n",
    "if user_input < 0:\n",
    "    print(\" The number is negative\")\n",
    "elif user_input == 0:\n",
    "    print(\" The number is zero\")\n",
    "# elif user_input =>0:\n",
    "#     print(\" the number is zero\")\n",
    "else:\n",
    "    print(\" The number is positive \")\n",
    "    if user_input % 2 ==0:\n",
    "        print(\"It is even number \")\n",
    "    else:\n",
    "        print(\"It is odd number \")\n",
    "    "
   ]
  },
  {
   "cell_type": "code",
   "execution_count": null,
   "id": "84708c73",
   "metadata": {},
   "outputs": [],
   "source": []
  }
 ],
 "metadata": {
  "kernelspec": {
   "display_name": "Python 3 (ipykernel)",
   "language": "python",
   "name": "python3"
  },
  "language_info": {
   "codemirror_mode": {
    "name": "ipython",
    "version": 3
   },
   "file_extension": ".py",
   "mimetype": "text/x-python",
   "name": "python",
   "nbconvert_exporter": "python",
   "pygments_lexer": "ipython3",
   "version": "3.8.10"
  }
 },
 "nbformat": 4,
 "nbformat_minor": 5
}
