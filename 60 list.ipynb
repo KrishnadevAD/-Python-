{
 "cells": [
  {
   "cell_type": "markdown",
   "id": "ed5c136f",
   "metadata": {},
   "source": [
    "## list "
   ]
  },
  {
   "cell_type": "raw",
   "id": "19defa2a",
   "metadata": {},
   "source": [
    " list is represented in [] bracket "
   ]
  },
  {
   "cell_type": "raw",
   "id": "4fcb3758",
   "metadata": {},
   "source": [
    "list are one  the 4 built in data types "
   ]
  },
  {
   "cell_type": "code",
   "execution_count": 18,
   "id": "e2c89aa2",
   "metadata": {},
   "outputs": [],
   "source": [
    "list=[\"krishna \",\"dev\",\"adhikari\"]"
   ]
  },
  {
   "cell_type": "code",
   "execution_count": 19,
   "id": "8ce7feb2",
   "metadata": {},
   "outputs": [],
   "source": [
    "nums=[9,2,45,0,11]\n"
   ]
  },
  {
   "cell_type": "code",
   "execution_count": 24,
   "id": "341da72c",
   "metadata": {},
   "outputs": [
    {
     "data": {
      "text/plain": [
       "[9, 2, 45, 0, 11]"
      ]
     },
     "execution_count": 24,
     "metadata": {},
     "output_type": "execute_result"
    }
   ],
   "source": [
    "nums"
   ]
  },
  {
   "cell_type": "code",
   "execution_count": 25,
   "id": "3e7c391a",
   "metadata": {},
   "outputs": [
    {
     "data": {
      "text/plain": [
       "5"
      ]
     },
     "execution_count": 25,
     "metadata": {},
     "output_type": "execute_result"
    }
   ],
   "source": [
    "len(nums)"
   ]
  },
  {
   "cell_type": "code",
   "execution_count": 20,
   "id": "691698b6",
   "metadata": {},
   "outputs": [],
   "source": [
    "start = 0\n",
    "stop = len(nums)\n",
    "step = 1"
   ]
  },
  {
   "cell_type": "code",
   "execution_count": 27,
   "id": "770c403d",
   "metadata": {},
   "outputs": [
    {
     "name": "stdout",
     "output_type": "stream",
     "text": [
      " the index is 0 amd  letter is 9\n",
      " the index is 1 amd  letter is 2\n",
      " the index is 2 amd  letter is 45\n",
      " the index is 3 amd  letter is 0\n",
      " the index is 4 amd  letter is 11\n"
     ]
    }
   ],
   "source": [
    "for index in range(start,stop,step):\n",
    "#     print(index)\n",
    "    letter=nums[index]\n",
    "    print(\" the index is {} amd  letter is {}\".format(index,letter))"
   ]
  },
  {
   "cell_type": "raw",
   "id": "7a835dfd",
   "metadata": {},
   "source": [
    " alternative for loop when index is not required "
   ]
  },
  {
   "cell_type": "code",
   "execution_count": 98,
   "id": "e147394c",
   "metadata": {},
   "outputs": [],
   "source": [
    "nums=[9,2,45,0,11]\n",
    "total =0\n"
   ]
  },
  {
   "cell_type": "code",
   "execution_count": 102,
   "id": "7370a3ed",
   "metadata": {},
   "outputs": [
    {
     "name": "stdout",
     "output_type": "stream",
     "text": [
      "134\n"
     ]
    }
   ],
   "source": [
    "for number in nums:\n",
    "    #print(number)\n",
    "    total = total + number\n",
    "print(total)\n",
    "    "
   ]
  },
  {
   "cell_type": "code",
   "execution_count": 100,
   "id": "cad71a00",
   "metadata": {},
   "outputs": [],
   "source": [
    "average = total/len(nums)"
   ]
  },
  {
   "cell_type": "code",
   "execution_count": 101,
   "id": "65f43b83",
   "metadata": {},
   "outputs": [
    {
     "data": {
      "text/plain": [
       "13.4"
      ]
     },
     "execution_count": 101,
     "metadata": {},
     "output_type": "execute_result"
    }
   ],
   "source": [
    "average"
   ]
  },
  {
   "cell_type": "raw",
   "id": "b238a487",
   "metadata": {},
   "source": [
    " negative indexing is the pheonomenon of  the indexing from last which start from end "
   ]
  },
  {
   "cell_type": "markdown",
   "id": "ea3c2469",
   "metadata": {},
   "source": [
    "# negative indexing in python list"
   ]
  },
  {
   "cell_type": "code",
   "execution_count": 63,
   "id": "43ff7fae",
   "metadata": {},
   "outputs": [],
   "source": [
    "fruits =['apple','pinapple','banana','orange','mango']"
   ]
  },
  {
   "cell_type": "code",
   "execution_count": 65,
   "id": "38340900",
   "metadata": {},
   "outputs": [
    {
     "data": {
      "text/plain": [
       "'orange'"
      ]
     },
     "execution_count": 65,
     "metadata": {},
     "output_type": "execute_result"
    }
   ],
   "source": [
    "fruits[3]"
   ]
  },
  {
   "cell_type": "code",
   "execution_count": 66,
   "id": "13acdf78",
   "metadata": {},
   "outputs": [],
   "source": [
    "last_index=len(fruits)-1"
   ]
  },
  {
   "cell_type": "code",
   "execution_count": 71,
   "id": "a946af99",
   "metadata": {},
   "outputs": [],
   "source": [
    "# fruits(last_index)"
   ]
  },
  {
   "cell_type": "code",
   "execution_count": 72,
   "id": "79588779",
   "metadata": {},
   "outputs": [
    {
     "data": {
      "text/plain": [
       "4"
      ]
     },
     "execution_count": 72,
     "metadata": {},
     "output_type": "execute_result"
    }
   ],
   "source": [
    "last_index"
   ]
  },
  {
   "cell_type": "code",
   "execution_count": 73,
   "id": "81a38ac7",
   "metadata": {},
   "outputs": [
    {
     "data": {
      "text/plain": [
       "'mango'"
      ]
     },
     "execution_count": 73,
     "metadata": {},
     "output_type": "execute_result"
    }
   ],
   "source": [
    "fruits[-1]"
   ]
  },
  {
   "cell_type": "markdown",
   "id": "1674bfb8",
   "metadata": {},
   "source": [
    "  ## membership operator ( \"in\" and  \"not in\" )"
   ]
  },
  {
   "cell_type": "raw",
   "id": "e2c4d6cf",
   "metadata": {},
   "source": [
    " to check the number whichis not in list "
   ]
  },
  {
   "cell_type": "code",
   "execution_count": 77,
   "id": "414991c4",
   "metadata": {},
   "outputs": [],
   "source": [
    "class1 =['ram ','shyam ','harie']"
   ]
  },
  {
   "cell_type": "code",
   "execution_count": 78,
   "id": "b035565a",
   "metadata": {},
   "outputs": [
    {
     "data": {
      "text/plain": [
       "False"
      ]
     },
     "execution_count": 78,
     "metadata": {},
     "output_type": "execute_result"
    }
   ],
   "source": [
    "'krishna'in class1"
   ]
  },
  {
   "cell_type": "code",
   "execution_count": 79,
   "id": "13f33ea8",
   "metadata": {},
   "outputs": [
    {
     "data": {
      "text/plain": [
       "True"
      ]
     },
     "execution_count": 79,
     "metadata": {},
     "output_type": "execute_result"
    }
   ],
   "source": [
    "'krishna' not in class1"
   ]
  },
  {
   "cell_type": "markdown",
   "id": "d304e58c",
   "metadata": {},
   "source": [
    " ### mutable "
   ]
  },
  {
   "cell_type": "markdown",
   "id": "f157ab28",
   "metadata": {},
   "source": [
    "#### list is mutable "
   ]
  },
  {
   "cell_type": "code",
   "execution_count": 80,
   "id": "fd0fb134",
   "metadata": {},
   "outputs": [],
   "source": [
    "class1 =['ram ','shyam ','harie']"
   ]
  },
  {
   "cell_type": "code",
   "execution_count": 81,
   "id": "0426a5e9",
   "metadata": {},
   "outputs": [
    {
     "data": {
      "text/plain": [
       "'harie'"
      ]
     },
     "execution_count": 81,
     "metadata": {},
     "output_type": "execute_result"
    }
   ],
   "source": [
    "class1[2]"
   ]
  },
  {
   "cell_type": "code",
   "execution_count": 82,
   "id": "d6058c70",
   "metadata": {},
   "outputs": [],
   "source": [
    "class1[2]=\"Hari\"\n"
   ]
  },
  {
   "cell_type": "code",
   "execution_count": 83,
   "id": "4be2b12f",
   "metadata": {},
   "outputs": [
    {
     "data": {
      "text/plain": [
       "['ram ', 'shyam ', 'Hari']"
      ]
     },
     "execution_count": 83,
     "metadata": {},
     "output_type": "execute_result"
    }
   ],
   "source": [
    "class1"
   ]
  },
  {
   "cell_type": "code",
   "execution_count": null,
   "id": "59b423c2",
   "metadata": {},
   "outputs": [],
   "source": [
    "#### hence ist is mutable "
   ]
  },
  {
   "cell_type": "code",
   "execution_count": 85,
   "id": "900d639a",
   "metadata": {},
   "outputs": [],
   "source": [
    "fruits =[\"apple \",\"mango\",\"orange\",\"mango\",\"orange\"]\n",
    "fruits[1:3]=[\"ram\",\"hari\"]"
   ]
  },
  {
   "cell_type": "code",
   "execution_count": 86,
   "id": "93bac661",
   "metadata": {},
   "outputs": [
    {
     "name": "stdout",
     "output_type": "stream",
     "text": [
      "['apple ', 'ram', 'hari', 'mango', 'orange']\n"
     ]
    }
   ],
   "source": [
    "print(fruits)"
   ]
  },
  {
   "cell_type": "code",
   "execution_count": 87,
   "id": "f499dfbd",
   "metadata": {},
   "outputs": [
    {
     "data": {
      "text/plain": [
       "['apple ', 'ram', 'hari', 'mango', 'orange']"
      ]
     },
     "execution_count": 87,
     "metadata": {},
     "output_type": "execute_result"
    }
   ],
   "source": [
    "fruits"
   ]
  },
  {
   "cell_type": "code",
   "execution_count": 89,
   "id": "e0680313",
   "metadata": {},
   "outputs": [
    {
     "data": {
      "text/plain": [
       "'apple '"
      ]
     },
     "execution_count": 89,
     "metadata": {},
     "output_type": "execute_result"
    }
   ],
   "source": [
    "fruits[0]"
   ]
  },
  {
   "cell_type": "code",
   "execution_count": 90,
   "id": "2545cc72",
   "metadata": {},
   "outputs": [
    {
     "data": {
      "text/plain": [
       "'app'"
      ]
     },
     "execution_count": 90,
     "metadata": {},
     "output_type": "execute_result"
    }
   ],
   "source": [
    "fruits[0][:3]"
   ]
  },
  {
   "cell_type": "markdown",
   "id": "ce8ab05e",
   "metadata": {},
   "source": [
    " mutable and immutable "
   ]
  },
  {
   "cell_type": "code",
   "execution_count": null,
   "id": "991f1afb",
   "metadata": {},
   "outputs": [],
   "source": []
  }
 ],
 "metadata": {
  "kernelspec": {
   "display_name": "Python 3 (ipykernel)",
   "language": "python",
   "name": "python3"
  },
  "language_info": {
   "codemirror_mode": {
    "name": "ipython",
    "version": 3
   },
   "file_extension": ".py",
   "mimetype": "text/x-python",
   "name": "python",
   "nbconvert_exporter": "python",
   "pygments_lexer": "ipython3",
   "version": "3.8.10"
  }
 },
 "nbformat": 4,
 "nbformat_minor": 5
}
