{
 "cells": [
  {
   "cell_type": "markdown",
   "id": "2ee93750",
   "metadata": {},
   "source": [
    "# JSON"
   ]
  },
  {
   "cell_type": "code",
   "execution_count": 2,
   "id": "4b13e56c",
   "metadata": {},
   "outputs": [],
   "source": [
    "import json # json is the dictionary  json= JavaScrip Object Notation"
   ]
  },
  {
   "cell_type": "raw",
   "id": "971c829b",
   "metadata": {},
   "source": [
    "its fuction \n",
    "LOads and dumps \n",
    "it is uesd in backend\n",
    "used in data science "
   ]
  },
  {
   "cell_type": "code",
   "execution_count": 19,
   "id": "bf39f2dd",
   "metadata": {},
   "outputs": [],
   "source": [
    "#dumps , whatever the input is given it convert into string"
   ]
  },
  {
   "cell_type": "code",
   "execution_count": 20,
   "id": "2f813cbb",
   "metadata": {},
   "outputs": [
    {
     "data": {
      "text/plain": [
       "'[1, 2, 3, 4, 5]'"
      ]
     },
     "execution_count": 20,
     "metadata": {},
     "output_type": "execute_result"
    }
   ],
   "source": [
    "json.dumps([1,2,3,4,5])"
   ]
  },
  {
   "cell_type": "code",
   "execution_count": 21,
   "id": "d6db283e",
   "metadata": {},
   "outputs": [],
   "source": [
    "dump=json.dumps([1,2,3,4,5])"
   ]
  },
  {
   "cell_type": "code",
   "execution_count": 22,
   "id": "4042d5ea",
   "metadata": {},
   "outputs": [
    {
     "data": {
      "text/plain": [
       "str"
      ]
     },
     "execution_count": 22,
     "metadata": {},
     "output_type": "execute_result"
    }
   ],
   "source": [
    "type(dump)"
   ]
  },
  {
   "cell_type": "code",
   "execution_count": 23,
   "id": "28a87b10",
   "metadata": {},
   "outputs": [
    {
     "data": {
      "text/plain": [
       "'{\"name\": \"krishnadev\", \"age\": 23}'"
      ]
     },
     "execution_count": 23,
     "metadata": {},
     "output_type": "execute_result"
    }
   ],
   "source": [
    "json.dumps({\"name\":\"krishnadev\",\"age\":23})"
   ]
  },
  {
   "cell_type": "code",
   "execution_count": 24,
   "id": "806f2f74",
   "metadata": {},
   "outputs": [
    {
     "data": {
      "text/plain": [
       "'\"hi\"'"
      ]
     },
     "execution_count": 24,
     "metadata": {},
     "output_type": "execute_result"
    }
   ],
   "source": [
    "json.dumps(\"hi\") # it makes the sting what ever is given except complex"
   ]
  },
  {
   "cell_type": "code",
   "execution_count": 25,
   "id": "64be32e7",
   "metadata": {},
   "outputs": [],
   "source": [
    "dump='{\"name\": \"krishnadev\", \"age\": 23}'"
   ]
  },
  {
   "cell_type": "code",
   "execution_count": 26,
   "id": "a1324400",
   "metadata": {},
   "outputs": [
    {
     "ename": "TypeError",
     "evalue": "string indices must be integers",
     "output_type": "error",
     "traceback": [
      "\u001b[1;31m---------------------------------------------------------------------------\u001b[0m",
      "\u001b[1;31mTypeError\u001b[0m                                 Traceback (most recent call last)",
      "Input \u001b[1;32mIn [26]\u001b[0m, in \u001b[0;36m<cell line: 1>\u001b[1;34m()\u001b[0m\n\u001b[1;32m----> 1\u001b[0m \u001b[43mdump\u001b[49m\u001b[43m[\u001b[49m\u001b[38;5;124;43m\"\u001b[39;49m\u001b[38;5;124;43mname\u001b[39;49m\u001b[38;5;124;43m\"\u001b[39;49m\u001b[43m]\u001b[49m\n",
      "\u001b[1;31mTypeError\u001b[0m: string indices must be integers"
     ]
    }
   ],
   "source": [
    "dump[\"name\"]"
   ]
  },
  {
   "cell_type": "code",
   "execution_count": 30,
   "id": "428b2831",
   "metadata": {},
   "outputs": [],
   "source": [
    "# loads--> it is used to convert in dictionary "
   ]
  },
  {
   "cell_type": "code",
   "execution_count": 27,
   "id": "33a33f50",
   "metadata": {},
   "outputs": [],
   "source": [
    "data=json.loads(dump)"
   ]
  },
  {
   "cell_type": "code",
   "execution_count": 28,
   "id": "cd5334fe",
   "metadata": {},
   "outputs": [
    {
     "data": {
      "text/plain": [
       "{'name': 'krishnadev', 'age': 23}"
      ]
     },
     "execution_count": 28,
     "metadata": {},
     "output_type": "execute_result"
    }
   ],
   "source": [
    "data"
   ]
  },
  {
   "cell_type": "code",
   "execution_count": 29,
   "id": "2eaec0a8",
   "metadata": {},
   "outputs": [
    {
     "data": {
      "text/plain": [
       "dict"
      ]
     },
     "execution_count": 29,
     "metadata": {},
     "output_type": "execute_result"
    }
   ],
   "source": [
    "type(data)"
   ]
  },
  {
   "cell_type": "raw",
   "id": "67365f7c",
   "metadata": {},
   "source": [
    "load work is to change \n",
    "python never understand \"null \" it takes it as \"none\""
   ]
  },
  {
   "cell_type": "code",
   "execution_count": null,
   "id": "29c43a6d",
   "metadata": {},
   "outputs": [],
   "source": []
  }
 ],
 "metadata": {
  "kernelspec": {
   "display_name": "Python 3 (ipykernel)",
   "language": "python",
   "name": "python3"
  },
  "language_info": {
   "codemirror_mode": {
    "name": "ipython",
    "version": 3
   },
   "file_extension": ".py",
   "mimetype": "text/x-python",
   "name": "python",
   "nbconvert_exporter": "python",
   "pygments_lexer": "ipython3",
   "version": "3.8.10"
  }
 },
 "nbformat": 4,
 "nbformat_minor": 5
}
