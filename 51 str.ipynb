{
 "cells": [
  {
   "cell_type": "code",
   "execution_count": 19,
   "id": "99e0af49",
   "metadata": {},
   "outputs": [],
   "source": [
    "txt = \"kri$hnadev \""
   ]
  },
  {
   "cell_type": "raw",
   "id": "713b3f53",
   "metadata": {},
   "source": [
    "immutable-- python string cannt be changed or replaced "
   ]
  },
  {
   "cell_type": "code",
   "execution_count": 20,
   "id": "98b8d221",
   "metadata": {},
   "outputs": [
    {
     "data": {
      "text/plain": [
       "'$'"
      ]
     },
     "execution_count": 20,
     "metadata": {},
     "output_type": "execute_result"
    }
   ],
   "source": [
    "txt[3]"
   ]
  },
  {
   "cell_type": "code",
   "execution_count": 21,
   "id": "691f7deb",
   "metadata": {},
   "outputs": [
    {
     "ename": "TypeError",
     "evalue": "'str' object does not support item assignment",
     "output_type": "error",
     "traceback": [
      "\u001b[1;31m---------------------------------------------------------------------------\u001b[0m",
      "\u001b[1;31mTypeError\u001b[0m                                 Traceback (most recent call last)",
      "Input \u001b[1;32mIn [21]\u001b[0m, in \u001b[0;36m<cell line: 1>\u001b[1;34m()\u001b[0m\n\u001b[1;32m----> 1\u001b[0m \u001b[43mtxt\u001b[49m\u001b[43m[\u001b[49m\u001b[38;5;241;43m3\u001b[39;49m\u001b[43m]\u001b[49m\u001b[38;5;241m=\u001b[39m\u001b[38;5;124m\"\u001b[39m\u001b[38;5;124ms\u001b[39m\u001b[38;5;124m\"\u001b[39m\n",
      "\u001b[1;31mTypeError\u001b[0m: 'str' object does not support item assignment"
     ]
    }
   ],
   "source": [
    "txt[3]=\"s\""
   ]
  },
  {
   "cell_type": "code",
   "execution_count": 22,
   "id": "da3d4dd9",
   "metadata": {},
   "outputs": [
    {
     "data": {
      "text/plain": [
       "'kriShnadev '"
      ]
     },
     "execution_count": 22,
     "metadata": {},
     "output_type": "execute_result"
    }
   ],
   "source": [
    "txt.replace(\"$\",\"S\")"
   ]
  },
  {
   "cell_type": "code",
   "execution_count": 23,
   "id": "55b08d0a",
   "metadata": {},
   "outputs": [],
   "source": [
    "low = \"ktisiisi\""
   ]
  },
  {
   "cell_type": "code",
   "execution_count": 24,
   "id": "09a56d10",
   "metadata": {},
   "outputs": [
    {
     "data": {
      "text/plain": [
       "'KTISIISI'"
      ]
     },
     "execution_count": 24,
     "metadata": {},
     "output_type": "execute_result"
    }
   ],
   "source": [
    "low.upper()"
   ]
  },
  {
   "cell_type": "code",
   "execution_count": 25,
   "id": "9b943119",
   "metadata": {},
   "outputs": [],
   "source": [
    "low1=\"KFJFJKJFK\"\n"
   ]
  },
  {
   "cell_type": "code",
   "execution_count": 26,
   "id": "53662f6d",
   "metadata": {},
   "outputs": [
    {
     "data": {
      "text/plain": [
       "'kfjfjkjfk'"
      ]
     },
     "execution_count": 26,
     "metadata": {},
     "output_type": "execute_result"
    }
   ],
   "source": [
    "low1.lower()"
   ]
  },
  {
   "cell_type": "code",
   "execution_count": 27,
   "id": "28bd0bed",
   "metadata": {},
   "outputs": [],
   "source": [
    "txt=\"ksk  skjsksk  skskksk\"\n"
   ]
  },
  {
   "cell_type": "code",
   "execution_count": 28,
   "id": "058d1ba4",
   "metadata": {},
   "outputs": [
    {
     "data": {
      "text/plain": [
       "'ksk  skjsksk  skskksk'"
      ]
     },
     "execution_count": 28,
     "metadata": {},
     "output_type": "execute_result"
    }
   ],
   "source": [
    "txt"
   ]
  },
  {
   "cell_type": "code",
   "execution_count": 29,
   "id": "7b5b7647",
   "metadata": {},
   "outputs": [],
   "source": [
    "txt =txt.split(\" \")"
   ]
  },
  {
   "cell_type": "code",
   "execution_count": 30,
   "id": "c472204c",
   "metadata": {},
   "outputs": [
    {
     "data": {
      "text/plain": [
       "['ksk', '', 'skjsksk', '', 'skskksk']"
      ]
     },
     "execution_count": 30,
     "metadata": {},
     "output_type": "execute_result"
    }
   ],
   "source": [
    "txt"
   ]
  },
  {
   "cell_type": "code",
   "execution_count": 16,
   "id": "bbf62b0a",
   "metadata": {},
   "outputs": [
    {
     "data": {
      "text/plain": [
       "list"
      ]
     },
     "execution_count": 16,
     "metadata": {},
     "output_type": "execute_result"
    }
   ],
   "source": [
    "type(txt)"
   ]
  },
  {
   "cell_type": "code",
   "execution_count": null,
   "id": "913b7863",
   "metadata": {},
   "outputs": [],
   "source": []
  }
 ],
 "metadata": {
  "kernelspec": {
   "display_name": "Python 3 (ipykernel)",
   "language": "python",
   "name": "python3"
  },
  "language_info": {
   "codemirror_mode": {
    "name": "ipython",
    "version": 3
   },
   "file_extension": ".py",
   "mimetype": "text/x-python",
   "name": "python",
   "nbconvert_exporter": "python",
   "pygments_lexer": "ipython3",
   "version": "3.8.10"
  }
 },
 "nbformat": 4,
 "nbformat_minor": 5
}
