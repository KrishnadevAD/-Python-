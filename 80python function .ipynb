{
 "cells": [
  {
   "cell_type": "markdown",
   "id": "63aa06ed",
   "metadata": {},
   "source": [
    "### python function "
   ]
  },
  {
   "cell_type": "code",
   "execution_count": 1,
   "id": "2dfcb02f",
   "metadata": {},
   "outputs": [],
   "source": [
    "def function_name():\n",
    "    print(\"hello world !!\")"
   ]
  },
  {
   "cell_type": "code",
   "execution_count": 2,
   "id": "c49fa123",
   "metadata": {},
   "outputs": [
    {
     "name": "stdout",
     "output_type": "stream",
     "text": [
      "hello world !!\n"
     ]
    }
   ],
   "source": [
    "function_name()"
   ]
  },
  {
   "cell_type": "code",
   "execution_count": 5,
   "id": "a817a644",
   "metadata": {},
   "outputs": [],
   "source": [
    "def add():\n",
    "    a=4\n",
    "    b=5\n",
    "    c=a+b\n",
    "    print(c)"
   ]
  },
  {
   "cell_type": "code",
   "execution_count": 6,
   "id": "cb936c9a",
   "metadata": {},
   "outputs": [
    {
     "name": "stdout",
     "output_type": "stream",
     "text": [
      "9\n"
     ]
    }
   ],
   "source": [
    "add()"
   ]
  },
  {
   "cell_type": "code",
   "execution_count": 7,
   "id": "8bab333c",
   "metadata": {},
   "outputs": [],
   "source": [
    "def add(a,b):\n",
    "   \n",
    "    c=a+b\n",
    "    print(c)"
   ]
  },
  {
   "cell_type": "code",
   "execution_count": 8,
   "id": "62ca8b27",
   "metadata": {},
   "outputs": [
    {
     "name": "stdout",
     "output_type": "stream",
     "text": [
      "88\n"
     ]
    }
   ],
   "source": [
    "add(33,55)"
   ]
  },
  {
   "cell_type": "code",
   "execution_count": 16,
   "id": "0e690a6e",
   "metadata": {},
   "outputs": [],
   "source": [
    "def mul(a,b): # a and b are paprameters \n",
    "    c=a*b\n",
    "    print(c)"
   ]
  },
  {
   "cell_type": "code",
   "execution_count": 17,
   "id": "d862e9bc",
   "metadata": {},
   "outputs": [
    {
     "name": "stdout",
     "output_type": "stream",
     "text": [
      "8\n"
     ]
    }
   ],
   "source": [
    "mul(2,4)"
   ]
  },
  {
   "cell_type": "code",
   "execution_count": 20,
   "id": "a07d218c",
   "metadata": {},
   "outputs": [],
   "source": [
    "def mul(a,b): # a and b are paprameters \n",
    "    \"\"\"\n",
    "      arguments:\n",
    "       a : int \n",
    "          first number\n",
    "       b : int \n",
    "          second number \n",
    "          output:\n",
    "          c:int \n",
    "            a+b\n",
    "    \"\"\"\n",
    "# this is called  DocSting \n",
    "    c=a*b\n",
    "    print(c)"
   ]
  },
  {
   "cell_type": "code",
   "execution_count": 21,
   "id": "5bddd688",
   "metadata": {},
   "outputs": [
    {
     "name": "stdout",
     "output_type": "stream",
     "text": [
      "20\n"
     ]
    }
   ],
   "source": [
    "mul(4,5)"
   ]
  },
  {
   "cell_type": "code",
   "execution_count": 23,
   "id": "eec6a8a9",
   "metadata": {},
   "outputs": [],
   "source": [
    "def mul(a,b): # a and b are paprameters \n",
    "    \"\"\"\n",
    "      arguments:\n",
    "       a : int \n",
    "          first number\n",
    "       b : int \n",
    "          second number \n",
    "          output:\n",
    "          c:int \n",
    "            a+b\n",
    "    \"\"\"\n",
    "    print(a)\n",
    "    print(b)\n",
    "# this is called  DocSting \n",
    "    c=a*b\n",
    "    print(c)"
   ]
  },
  {
   "cell_type": "code",
   "execution_count": 24,
   "id": "c0ec8b2d",
   "metadata": {},
   "outputs": [
    {
     "ename": "NameError",
     "evalue": "name 'a' is not defined",
     "output_type": "error",
     "traceback": [
      "\u001b[1;31m---------------------------------------------------------------------------\u001b[0m",
      "\u001b[1;31mNameError\u001b[0m                                 Traceback (most recent call last)",
      "Input \u001b[1;32mIn [24]\u001b[0m, in \u001b[0;36m<cell line: 1>\u001b[1;34m()\u001b[0m\n\u001b[1;32m----> 1\u001b[0m mul(\u001b[43ma\u001b[49m,b)\n",
      "\u001b[1;31mNameError\u001b[0m: name 'a' is not defined"
     ]
    }
   ],
   "source": []
  },
  {
   "cell_type": "code",
   "execution_count": 25,
   "id": "c0197f89",
   "metadata": {},
   "outputs": [],
   "source": [
    "def add(a,b):\n",
    "   \n",
    "    c=a+b\n",
    "    print(c)"
   ]
  },
  {
   "cell_type": "code",
   "execution_count": 26,
   "id": "adf84d89",
   "metadata": {},
   "outputs": [
    {
     "name": "stdout",
     "output_type": "stream",
     "text": [
      "88\n"
     ]
    }
   ],
   "source": [
    "add(33,55)"
   ]
  },
  {
   "cell_type": "code",
   "execution_count": 27,
   "id": "b92fe2e5",
   "metadata": {},
   "outputs": [],
   "source": [
    "x= 44\n",
    "y=34"
   ]
  },
  {
   "cell_type": "code",
   "execution_count": 28,
   "id": "83e254a9",
   "metadata": {},
   "outputs": [
    {
     "name": "stdout",
     "output_type": "stream",
     "text": [
      "78\n"
     ]
    }
   ],
   "source": [
    "add(x,y)"
   ]
  },
  {
   "cell_type": "code",
   "execution_count": 29,
   "id": "bc053f62",
   "metadata": {},
   "outputs": [
    {
     "name": "stdout",
     "output_type": "stream",
     "text": [
      "78\n"
     ]
    }
   ],
   "source": [
    "add(y,x)"
   ]
  },
  {
   "cell_type": "code",
   "execution_count": 30,
   "id": "9550405c",
   "metadata": {},
   "outputs": [
    {
     "name": "stdout",
     "output_type": "stream",
     "text": [
      "78\n"
     ]
    }
   ],
   "source": [
    "add(b=x,a=y) # positonal argumnets"
   ]
  },
  {
   "cell_type": "code",
   "execution_count": 31,
   "id": "0ca4472c",
   "metadata": {},
   "outputs": [
    {
     "name": "stdout",
     "output_type": "stream",
     "text": [
      "78\n"
     ]
    }
   ],
   "source": [
    "add(b=y,a=x)"
   ]
  },
  {
   "cell_type": "code",
   "execution_count": 57,
   "id": "67d1c246",
   "metadata": {},
   "outputs": [],
   "source": [
    "def power1(a,b):\n",
    "    c=a**b\n",
    "    return c"
   ]
  },
  {
   "cell_type": "code",
   "execution_count": 58,
   "id": "09743c02",
   "metadata": {},
   "outputs": [
    {
     "data": {
      "text/plain": [
       "8"
      ]
     },
     "execution_count": 58,
     "metadata": {},
     "output_type": "execute_result"
    }
   ],
   "source": [
    "power1(2,3)"
   ]
  },
  {
   "cell_type": "raw",
   "id": "4be817f8",
   "metadata": {},
   "source": [
    " now we have to add the power output with next one than we need to do the folling procedures as mentioned "
   ]
  },
  {
   "cell_type": "code",
   "execution_count": 59,
   "id": "e396523c",
   "metadata": {},
   "outputs": [],
   "source": [
    "z=5"
   ]
  },
  {
   "cell_type": "code",
   "execution_count": 60,
   "id": "2649e94d",
   "metadata": {},
   "outputs": [],
   "source": [
    "result = power1(3,2)"
   ]
  },
  {
   "cell_type": "code",
   "execution_count": 61,
   "id": "4a25e21b",
   "metadata": {},
   "outputs": [
    {
     "data": {
      "text/plain": [
       "9"
      ]
     },
     "execution_count": 61,
     "metadata": {},
     "output_type": "execute_result"
    }
   ],
   "source": [
    "result"
   ]
  },
  {
   "cell_type": "code",
   "execution_count": 64,
   "id": "1f597594",
   "metadata": {},
   "outputs": [],
   "source": [
    "k = power1(4,3)"
   ]
  },
  {
   "cell_type": "code",
   "execution_count": 69,
   "id": "7f6609f4",
   "metadata": {},
   "outputs": [],
   "source": [
    "k1=k+z # reusing the funtion using calling \n",
    "# return the value "
   ]
  },
  {
   "cell_type": "code",
   "execution_count": 68,
   "id": "7ab137eb",
   "metadata": {},
   "outputs": [
    {
     "data": {
      "text/plain": [
       "69"
      ]
     },
     "execution_count": 68,
     "metadata": {},
     "output_type": "execute_result"
    }
   ],
   "source": [
    "k1"
   ]
  },
  {
   "cell_type": "code",
   "execution_count": 70,
   "id": "6849d5cb",
   "metadata": {},
   "outputs": [],
   "source": [
    "def floor_div(a,b):\n",
    "    c=a//b\n",
    "    return c"
   ]
  },
  {
   "cell_type": "code",
   "execution_count": 71,
   "id": "c4e85b16",
   "metadata": {},
   "outputs": [
    {
     "data": {
      "text/plain": [
       "3"
      ]
     },
     "execution_count": 71,
     "metadata": {},
     "output_type": "execute_result"
    }
   ],
   "source": [
    "floor_div(6,2)"
   ]
  },
  {
   "cell_type": "code",
   "execution_count": 72,
   "id": "05f300a4",
   "metadata": {},
   "outputs": [],
   "source": [
    "z=33"
   ]
  },
  {
   "cell_type": "code",
   "execution_count": 73,
   "id": "be583157",
   "metadata": {},
   "outputs": [],
   "source": [
    "result=floor_div(6,2)"
   ]
  },
  {
   "cell_type": "code",
   "execution_count": 76,
   "id": "d763292e",
   "metadata": {},
   "outputs": [],
   "source": [
    "result1= result+z"
   ]
  },
  {
   "cell_type": "code",
   "execution_count": 77,
   "id": "3b0970f4",
   "metadata": {},
   "outputs": [
    {
     "data": {
      "text/plain": [
       "36"
      ]
     },
     "execution_count": 77,
     "metadata": {},
     "output_type": "execute_result"
    }
   ],
   "source": [
    "result1"
   ]
  },
  {
   "cell_type": "raw",
   "id": "2540285d",
   "metadata": {},
   "source": [
    "funtion lee keii kamm garye si return value garnu lai "
   ]
  },
  {
   "cell_type": "markdown",
   "id": "fec3ab61",
   "metadata": {},
   "source": [
    " ### default argument "
   ]
  },
  {
   "cell_type": "code",
   "execution_count": 78,
   "id": "4c7eaabc",
   "metadata": {},
   "outputs": [],
   "source": [
    "def greet(name,msg):\n",
    "    print(\"{} {}\".format(msg,name))"
   ]
  },
  {
   "cell_type": "code",
   "execution_count": 79,
   "id": "2f983f88",
   "metadata": {},
   "outputs": [
    {
     "name": "stdout",
     "output_type": "stream",
     "text": [
      "good morning  krishnadev\n"
     ]
    }
   ],
   "source": [
    "greet(\"krishnadev\",\"good morning \")"
   ]
  },
  {
   "cell_type": "code",
   "execution_count": 81,
   "id": "2659f0c0",
   "metadata": {},
   "outputs": [],
   "source": [
    "def greet(name,msg=  \"good mornign)\"):\n",
    "    print(\"{} {}\".format(msg,name))"
   ]
  },
  {
   "cell_type": "code",
   "execution_count": 82,
   "id": "5eb03016",
   "metadata": {},
   "outputs": [
    {
     "name": "stdout",
     "output_type": "stream",
     "text": [
      "good mornign) krishnadev\n"
     ]
    }
   ],
   "source": [
    "greet(\"krishnadev\")"
   ]
  },
  {
   "cell_type": "code",
   "execution_count": 83,
   "id": "4e99744f",
   "metadata": {},
   "outputs": [
    {
     "name": "stdout",
     "output_type": "stream",
     "text": [
      "krishnadev  krishnadev\n"
     ]
    }
   ],
   "source": [
    "greet(\"krishnadev\",\"krishnadev \")"
   ]
  },
  {
   "cell_type": "raw",
   "id": "ae698be0",
   "metadata": {},
   "source": [
    "positional agrument -----> value is not given\n",
    "defaulat agrument ------> value is given at  the time of  override of the time of the initializton "
   ]
  },
  {
   "cell_type": "code",
   "execution_count": 84,
   "id": "eb576fbc",
   "metadata": {},
   "outputs": [
    {
     "ename": "SyntaxError",
     "evalue": "EOL while scanning string literal (1243864445.py, line 1)",
     "output_type": "error",
     "traceback": [
      "\u001b[1;36m  Input \u001b[1;32mIn [84]\u001b[1;36m\u001b[0m\n\u001b[1;33m    def greet(msg=  \"good mornign , name):\u001b[0m\n\u001b[1;37m                                          ^\u001b[0m\n\u001b[1;31mSyntaxError\u001b[0m\u001b[1;31m:\u001b[0m EOL while scanning string literal\n"
     ]
    }
   ],
   "source": [
    "def greet(msg=  \"good mornign , name):\n",
    "    print(\"{} {}\".format(msg,name))"
   ]
  },
  {
   "cell_type": "code",
   "execution_count": 86,
   "id": "c03bbc21",
   "metadata": {},
   "outputs": [
    {
     "ename": "SyntaxError",
     "evalue": "invalid syntax (1993428981.py, line 1)",
     "output_type": "error",
     "traceback": [
      "\u001b[1;36m  Input \u001b[1;32mIn [86]\u001b[1;36m\u001b[0m\n\u001b[1;33m    def add(a=6,k)\u001b[0m\n\u001b[1;37m                  ^\u001b[0m\n\u001b[1;31mSyntaxError\u001b[0m\u001b[1;31m:\u001b[0m invalid syntax\n"
     ]
    }
   ],
   "source": [
    "def add(a=6,k)"
   ]
  },
  {
   "cell_type": "code",
   "execution_count": 90,
   "id": "bfc478cd",
   "metadata": {},
   "outputs": [],
   "source": [
    "def add(a,b=3,c=4):\n",
    "    return a+b+c"
   ]
  },
  {
   "cell_type": "code",
   "execution_count": 91,
   "id": "0a207589",
   "metadata": {},
   "outputs": [
    {
     "data": {
      "text/plain": [
       "10"
      ]
     },
     "execution_count": 91,
     "metadata": {},
     "output_type": "execute_result"
    }
   ],
   "source": [
    "add(3)"
   ]
  },
  {
   "cell_type": "raw",
   "id": "8668f67d",
   "metadata": {},
   "source": [
    "non default argument do ot  fooolw the degault argument "
   ]
  },
  {
   "cell_type": "code",
   "execution_count": 94,
   "id": "22e68767",
   "metadata": {},
   "outputs": [],
   "source": [
    "def test():\n",
    "    name = \"some_name\""
   ]
  },
  {
   "cell_type": "code",
   "execution_count": 93,
   "id": "475c38a2",
   "metadata": {},
   "outputs": [
    {
     "ename": "SyntaxError",
     "evalue": "invalid syntax (2417327719.py, line 1)",
     "output_type": "error",
     "traceback": [
      "\u001b[1;36m  Input \u001b[1;32mIn [93]\u001b[1;36m\u001b[0m\n\u001b[1;33m    |name\u001b[0m\n\u001b[1;37m    ^\u001b[0m\n\u001b[1;31mSyntaxError\u001b[0m\u001b[1;31m:\u001b[0m invalid syntax\n"
     ]
    }
   ],
   "source": [
    "|name"
   ]
  },
  {
   "cell_type": "code",
   "execution_count": 95,
   "id": "48c7c9a9",
   "metadata": {},
   "outputs": [],
   "source": [
    "def test():\n",
    "    return \"some_name\""
   ]
  },
  {
   "cell_type": "code",
   "execution_count": 96,
   "id": "c97cf360",
   "metadata": {},
   "outputs": [],
   "source": [
    "name=test()"
   ]
  },
  {
   "cell_type": "code",
   "execution_count": 97,
   "id": "450aaae0",
   "metadata": {},
   "outputs": [
    {
     "data": {
      "text/plain": [
       "'some_name'"
      ]
     },
     "execution_count": 97,
     "metadata": {},
     "output_type": "execute_result"
    }
   ],
   "source": [
    "name"
   ]
  },
  {
   "cell_type": "code",
   "execution_count": 100,
   "id": "57becf51",
   "metadata": {},
   "outputs": [],
   "source": [
    "x='awesome'\n",
    "def display():\n",
    "    x=\"fantastic \"\n",
    "    print(x)"
   ]
  },
  {
   "cell_type": "code",
   "execution_count": 101,
   "id": "4ea433aa",
   "metadata": {},
   "outputs": [
    {
     "data": {
      "text/plain": [
       "'awesome'"
      ]
     },
     "execution_count": 101,
     "metadata": {},
     "output_type": "execute_result"
    }
   ],
   "source": [
    "x"
   ]
  },
  {
   "cell_type": "code",
   "execution_count": 102,
   "id": "f221fc2b",
   "metadata": {},
   "outputs": [
    {
     "name": "stdout",
     "output_type": "stream",
     "text": [
      "fantastic \n"
     ]
    }
   ],
   "source": [
    "display()"
   ]
  },
  {
   "cell_type": "code",
   "execution_count": 103,
   "id": "fe9bb748",
   "metadata": {},
   "outputs": [
    {
     "data": {
      "text/plain": [
       "'awesome'"
      ]
     },
     "execution_count": 103,
     "metadata": {},
     "output_type": "execute_result"
    }
   ],
   "source": [
    "x"
   ]
  },
  {
   "cell_type": "code",
   "execution_count": 104,
   "id": "f5fc4894",
   "metadata": {},
   "outputs": [],
   "source": [
    "x='awesome'\n",
    "def display():\n",
    "    global x\n",
    "    x=\"fantastic \"\n",
    "    print(x)"
   ]
  },
  {
   "cell_type": "code",
   "execution_count": 105,
   "id": "c3f766bf",
   "metadata": {},
   "outputs": [
    {
     "data": {
      "text/plain": [
       "'awesome'"
      ]
     },
     "execution_count": 105,
     "metadata": {},
     "output_type": "execute_result"
    }
   ],
   "source": [
    "x"
   ]
  },
  {
   "cell_type": "code",
   "execution_count": 106,
   "id": "3715750c",
   "metadata": {},
   "outputs": [
    {
     "name": "stdout",
     "output_type": "stream",
     "text": [
      "fantastic \n"
     ]
    }
   ],
   "source": [
    "display()"
   ]
  },
  {
   "cell_type": "code",
   "execution_count": 107,
   "id": "dce8ed54",
   "metadata": {},
   "outputs": [
    {
     "data": {
      "text/plain": [
       "'fantastic '"
      ]
     },
     "execution_count": 107,
     "metadata": {},
     "output_type": "execute_result"
    }
   ],
   "source": [
    "x\n"
   ]
  },
  {
   "cell_type": "raw",
   "id": "c98bf8db",
   "metadata": {},
   "source": [
    " now it is global so it override the previous values "
   ]
  },
  {
   "cell_type": "raw",
   "id": "b98b6df9",
   "metadata": {},
   "source": [
    " we have made the gloabal so now we cannot print value of x = \" awesome \"\n",
    "    it will print always  fantastic as it can be acessed "
   ]
  },
  {
   "cell_type": "markdown",
   "id": "9c58c8ae",
   "metadata": {},
   "source": [
    "  #### interwiew "
   ]
  },
  {
   "cell_type": "code",
   "execution_count": 110,
   "id": "e97ef872",
   "metadata": {},
   "outputs": [],
   "source": [
    "def add(*args):\n",
    "    print(type(args))"
   ]
  },
  {
   "cell_type": "code",
   "execution_count": 111,
   "id": "ecb27142",
   "metadata": {},
   "outputs": [
    {
     "name": "stdout",
     "output_type": "stream",
     "text": [
      "<class 'tuple'>\n"
     ]
    }
   ],
   "source": [
    "add(2)"
   ]
  },
  {
   "cell_type": "code",
   "execution_count": 112,
   "id": "c8cef64f",
   "metadata": {},
   "outputs": [
    {
     "name": "stdout",
     "output_type": "stream",
     "text": [
      "<class 'tuple'>\n"
     ]
    }
   ],
   "source": [
    "add(2,3,5,5,666,4)"
   ]
  },
  {
   "cell_type": "raw",
   "id": "ccf04a53",
   "metadata": {},
   "source": [
    " args ko kaam --->variable legnth  input dine ho jastko type chai (tuples aauxa )"
   ]
  },
  {
   "cell_type": "code",
   "execution_count": 113,
   "id": "5d6f5095",
   "metadata": {},
   "outputs": [
    {
     "ename": "SyntaxError",
     "evalue": "invalid syntax (2770859723.py, line 3)",
     "output_type": "error",
     "traceback": [
      "\u001b[1;36m  Input \u001b[1;32mIn [113]\u001b[1;36m\u001b[0m\n\u001b[1;33m    fir uten ====\u001b[0m\n\u001b[1;37m        ^\u001b[0m\n\u001b[1;31mSyntaxError\u001b[0m\u001b[1;31m:\u001b[0m invalid syntax\n"
     ]
    }
   ],
   "source": [
    " def add(*args):\n",
    "        total = 0\n",
    "        fir uten ===="
   ]
  },
  {
   "cell_type": "markdown",
   "id": "a1e293f9",
   "metadata": {},
   "source": [
    "\n",
    "### args =-- takes value in tuple, it is written int the  one star \n",
    " ### kwargs ---> takers value in dictionary , written in the two star "
   ]
  },
  {
   "cell_type": "markdown",
   "id": "459e6d00",
   "metadata": {},
   "source": [
    "## args and kwargs are special keywords "
   ]
  },
  {
   "cell_type": "markdown",
   "id": "b92bc19a",
   "metadata": {},
   "source": [
    "## Assighnment \n"
   ]
  },
  {
   "cell_type": "code",
   "execution_count": 2,
   "id": "701ac3a6",
   "metadata": {},
   "outputs": [
    {
     "name": "stdout",
     "output_type": "stream",
     "text": [
      "Enter a number to check prime or not :  3\n",
      "3 false\n"
     ]
    }
   ],
   "source": [
    "# Program to check if a number is prime or not\n",
    "num = int(input(\"Enter a number to check prime or not :  \"))\n",
    "\n",
    "# define a flag variable\n",
    "flag = 0\n",
    "\n",
    "# prime numbers are greater than 1\n",
    "if num > 1:\n",
    "    # check for factors\n",
    "    for i in range(2, num):\n",
    "        if (num % i) == 0:\n",
    "            # if factor is found, set flag to True\n",
    "            flag = 1\n",
    "            # break out of loop\n",
    "            break\n",
    "\n",
    "# check if flag is True\n",
    "if flag:\n",
    "    print(num, \" True \")\n",
    "else:\n",
    "    print(num, \"false\")"
   ]
  },
  {
   "cell_type": "code",
   "execution_count": 2,
   "id": "3e1db9cb",
   "metadata": {},
   "outputs": [],
   "source": [
    "def is_prime(num):\n",
    "    for number in range(2,num):\n",
    "        if num % number == 0:\n",
    "            return False \n",
    "    return True "
   ]
  },
  {
   "cell_type": "code",
   "execution_count": 3,
   "id": "bc5f7608",
   "metadata": {},
   "outputs": [
    {
     "data": {
      "text/plain": [
       "True"
      ]
     },
     "execution_count": 3,
     "metadata": {},
     "output_type": "execute_result"
    }
   ],
   "source": [
    "is_prime(5)"
   ]
  },
  {
   "cell_type": "code",
   "execution_count": 4,
   "id": "9e23e1b9",
   "metadata": {},
   "outputs": [
    {
     "data": {
      "text/plain": [
       "True"
      ]
     },
     "execution_count": 4,
     "metadata": {},
     "output_type": "execute_result"
    }
   ],
   "source": [
    "is_prime(71)"
   ]
  },
  {
   "cell_type": "code",
   "execution_count": null,
   "id": "a852ba71",
   "metadata": {},
   "outputs": [],
   "source": []
  }
 ],
 "metadata": {
  "kernelspec": {
   "display_name": "Python 3 (ipykernel)",
   "language": "python",
   "name": "python3"
  },
  "language_info": {
   "codemirror_mode": {
    "name": "ipython",
    "version": 3
   },
   "file_extension": ".py",
   "mimetype": "text/x-python",
   "name": "python",
   "nbconvert_exporter": "python",
   "pygments_lexer": "ipython3",
   "version": "3.8.10"
  }
 },
 "nbformat": 4,
 "nbformat_minor": 5
}
