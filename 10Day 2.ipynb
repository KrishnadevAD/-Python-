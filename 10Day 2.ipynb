{
 "cells": [
  {
   "cell_type": "markdown",
   "id": "cadb6a6f",
   "metadata": {},
   "source": [
    "### DAY 2 "
   ]
  },
  {
   "cell_type": "markdown",
   "id": "ee6938be",
   "metadata": {},
   "source": [
    "## key words "
   ]
  },
  {
   "cell_type": "markdown",
   "id": "a2b41ef1",
   "metadata": {},
   "source": [
    "#python are care sensitive "
   ]
  },
  {
   "cell_type": "code",
   "execution_count": 2,
   "id": "edfb32ed",
   "metadata": {},
   "outputs": [
    {
     "data": {
      "text/plain": [
       "False"
      ]
     },
     "execution_count": 2,
     "metadata": {},
     "output_type": "execute_result"
    }
   ],
   "source": [
    "False "
   ]
  },
  {
   "cell_type": "code",
   "execution_count": 3,
   "id": "0f9363dd",
   "metadata": {},
   "outputs": [
    {
     "ename": "SyntaxError",
     "evalue": "cannot assign to False (845106555.py, line 1)",
     "output_type": "error",
     "traceback": [
      "\u001b[1;36m  Input \u001b[1;32mIn [3]\u001b[1;36m\u001b[0m\n\u001b[1;33m    False = 20 # key words lai as a variabe se garnu mildaina\u001b[0m\n\u001b[1;37m    ^\u001b[0m\n\u001b[1;31mSyntaxError\u001b[0m\u001b[1;31m:\u001b[0m cannot assign to False\n"
     ]
    }
   ],
   "source": [
    "False = 20 # key words lai as a variabe se garnu mildaina "
   ]
  },
  {
   "cell_type": "code",
   "execution_count": 4,
   "id": "0b24c3e3",
   "metadata": {},
   "outputs": [],
   "source": [
    "# capital and small are different and than  it is case sencitive "
   ]
  },
  {
   "cell_type": "code",
   "execution_count": 5,
   "id": "0591767c",
   "metadata": {},
   "outputs": [
    {
     "ename": "SyntaxError",
     "evalue": "invalid syntax (1365290719.py, line 1)",
     "output_type": "error",
     "traceback": [
      "\u001b[1;36m  Input \u001b[1;32mIn [5]\u001b[1;36m\u001b[0m\n\u001b[1;33m    global = 20\u001b[0m\n\u001b[1;37m           ^\u001b[0m\n\u001b[1;31mSyntaxError\u001b[0m\u001b[1;31m:\u001b[0m invalid syntax\n"
     ]
    }
   ],
   "source": [
    "global = 20 "
   ]
  },
  {
   "cell_type": "code",
   "execution_count": 6,
   "id": "27392c01",
   "metadata": {},
   "outputs": [],
   "source": [
    "#this is to mention that the key wordd are the reserved wors "
   ]
  },
  {
   "cell_type": "code",
   "execution_count": 7,
   "id": "f0c1c9d7",
   "metadata": {},
   "outputs": [
    {
     "ename": "SyntaxError",
     "evalue": "invalid syntax (408631317.py, line 1)",
     "output_type": "error",
     "traceback": [
      "\u001b[1;36m  Input \u001b[1;32mIn [7]\u001b[1;36m\u001b[0m\n\u001b[1;33m    $num=20\u001b[0m\n\u001b[1;37m    ^\u001b[0m\n\u001b[1;31mSyntaxError\u001b[0m\u001b[1;31m:\u001b[0m invalid syntax\n"
     ]
    }
   ],
   "source": [
    "$num=20 "
   ]
  },
  {
   "cell_type": "code",
   "execution_count": 8,
   "id": "db6721e6",
   "metadata": {},
   "outputs": [],
   "source": [
    "first_number = 45"
   ]
  },
  {
   "cell_type": "code",
   "execution_count": 9,
   "id": "4ff4278e",
   "metadata": {},
   "outputs": [
    {
     "ename": "NameError",
     "evalue": "name 'fist' is not defined",
     "output_type": "error",
     "traceback": [
      "\u001b[1;31m---------------------------------------------------------------------------\u001b[0m",
      "\u001b[1;31mNameError\u001b[0m                                 Traceback (most recent call last)",
      "Input \u001b[1;32mIn [9]\u001b[0m, in \u001b[0;36m<cell line: 1>\u001b[1;34m()\u001b[0m\n\u001b[1;32m----> 1\u001b[0m \u001b[43mfist\u001b[49m\u001b[38;5;241m-\u001b[39mnumber\n",
      "\u001b[1;31mNameError\u001b[0m: name 'fist' is not defined"
     ]
    }
   ],
   "source": [
    "fist-number # it is is invalid "
   ]
  },
  {
   "cell_type": "code",
   "execution_count": 11,
   "id": "40f3f7b6",
   "metadata": {},
   "outputs": [
    {
     "ename": "NameError",
     "evalue": "name 'a' is not defined",
     "output_type": "error",
     "traceback": [
      "\u001b[1;31m---------------------------------------------------------------------------\u001b[0m",
      "\u001b[1;31mNameError\u001b[0m                                 Traceback (most recent call last)",
      "Input \u001b[1;32mIn [11]\u001b[0m, in \u001b[0;36m<cell line: 1>\u001b[1;34m()\u001b[0m\n\u001b[1;32m----> 1\u001b[0m a\u001b[38;5;241m@\u001b[39m\u001b[38;5;241m=\u001b[39m\u001b[38;5;241m0\u001b[39m\n",
      "\u001b[1;31mNameError\u001b[0m: name 'a' is not defined"
     ]
    }
   ],
   "source": [
    "a@=0#it is invalid "
   ]
  },
  {
   "cell_type": "code",
   "execution_count": 12,
   "id": "9b0c77ae",
   "metadata": {},
   "outputs": [
    {
     "ename": "SyntaxError",
     "evalue": "invalid syntax (2263596991.py, line 1)",
     "output_type": "error",
     "traceback": [
      "\u001b[1;36m  Input \u001b[1;32mIn [12]\u001b[1;36m\u001b[0m\n\u001b[1;33m    @krishnadev = 45 #sit is invalaid\u001b[0m\n\u001b[1;37m                ^\u001b[0m\n\u001b[1;31mSyntaxError\u001b[0m\u001b[1;31m:\u001b[0m invalid syntax\n"
     ]
    }
   ],
   "source": [
    "@krishnadev = 45 #sit is invalaid  \n"
   ]
  },
  {
   "cell_type": "code",
   "execution_count": 13,
   "id": "51ac40bc",
   "metadata": {},
   "outputs": [],
   "source": [
    " #identifiers are the combinations of the letters  and "
   ]
  },
  {
   "cell_type": "code",
   "execution_count": 14,
   "id": "178885a8",
   "metadata": {},
   "outputs": [
    {
     "ename": "SyntaxError",
     "evalue": "cannot assign to literal (3751016385.py, line 1)",
     "output_type": "error",
     "traceback": [
      "\u001b[1;36m  Input \u001b[1;32mIn [14]\u001b[1;36m\u001b[0m\n\u001b[1;33m    1=40 # it is invalid\u001b[0m\n\u001b[1;37m    ^\u001b[0m\n\u001b[1;31mSyntaxError\u001b[0m\u001b[1;31m:\u001b[0m cannot assign to literal\n"
     ]
    }
   ],
   "source": [
    " 1=40 # it is invalid "
   ]
  },
  {
   "cell_type": "code",
   "execution_count": 16,
   "id": "85c77d2d",
   "metadata": {},
   "outputs": [],
   "source": [
    "num1= 30 # it is   valid "
   ]
  },
  {
   "cell_type": "code",
   "execution_count": 18,
   "id": "433b9811",
   "metadata": {},
   "outputs": [
    {
     "name": "stdout",
     "output_type": "stream",
     "text": [
      " the value of the variable is  30\n"
     ]
    }
   ],
   "source": [
    "variable =30 \n",
    "print(\" the value of the variable is \",variable )"
   ]
  },
  {
   "cell_type": "code",
   "execution_count": 20,
   "id": "6581d84f",
   "metadata": {},
   "outputs": [
    {
     "name": "stdout",
     "output_type": "stream",
     "text": [
      " the value of the variable is 30\n"
     ]
    }
   ],
   "source": [
    "variable =30 \n",
    "print(\" the value of the variable is {}\".format(variable) ) #irt is mainly used in update of the query in Text pree processing "
   ]
  },
  {
   "cell_type": "code",
   "execution_count": 21,
   "id": "82689c26",
   "metadata": {},
   "outputs": [
    {
     "name": "stdout",
     "output_type": "stream",
     "text": [
      " the value of the variable is 30 .This is\n"
     ]
    }
   ],
   "source": [
    "variable =30 \n",
    "print(\" the value of the variable is {} .This is\".format(variable) )"
   ]
  },
  {
   "cell_type": "code",
   "execution_count": 22,
   "id": "3a18be4b",
   "metadata": {},
   "outputs": [
    {
     "name": "stdout",
     "output_type": "stream",
     "text": [
      " the value of the variable is 30 .This is\n"
     ]
    }
   ],
   "source": [
    "variable =30 \n",
    "print(\" the value of the variable is {} .This is\".format(variable) ) # this is maily used in  the formatt e e]fdjjmefs4\n"
   ]
  },
  {
   "cell_type": "code",
   "execution_count": 24,
   "id": "19a7c69b",
   "metadata": {},
   "outputs": [],
   "source": [
    "variable = 20 \n",
    "Variable = 4000  # it shows the case sensitiive ot the data in the following "
   ]
  },
  {
   "cell_type": "markdown",
   "id": "c9159bf0",
   "metadata": {},
   "source": [
    "## how can we change the  variable in the program "
   ]
  },
  {
   "cell_type": "code",
   "execution_count": 25,
   "id": "5c762372",
   "metadata": {},
   "outputs": [],
   "source": [
    "num1 = 88\n"
   ]
  },
  {
   "cell_type": "code",
   "execution_count": 26,
   "id": "9e575896",
   "metadata": {},
   "outputs": [
    {
     "data": {
      "text/plain": [
       "88"
      ]
     },
     "execution_count": 26,
     "metadata": {},
     "output_type": "execute_result"
    }
   ],
   "source": [
    "num1"
   ]
  },
  {
   "cell_type": "code",
   "execution_count": 27,
   "id": "05aecec6",
   "metadata": {},
   "outputs": [],
   "source": [
    "num1=45 # update the value of the variable "
   ]
  },
  {
   "cell_type": "code",
   "execution_count": 34,
   "id": "08ca6c4c",
   "metadata": {},
   "outputs": [
    {
     "data": {
      "text/plain": [
       "45"
      ]
     },
     "execution_count": 34,
     "metadata": {},
     "output_type": "execute_result"
    }
   ],
   "source": [
    "num1 # the value will be the latest updated # overiding "
   ]
  },
  {
   "cell_type": "markdown",
   "id": "f753db88",
   "metadata": {},
   "source": [
    "markdown implementation "
   ]
  },
  {
   "cell_type": "markdown",
   "id": "9dd35736",
   "metadata": {},
   "source": [
    " ## algebra "
   ]
  },
  {
   "cell_type": "code",
   "execution_count": 30,
   "id": "b3f98a46",
   "metadata": {},
   "outputs": [
    {
     "data": {
      "text/plain": [
       "30"
      ]
     },
     "execution_count": 30,
     "metadata": {},
     "output_type": "execute_result"
    }
   ],
   "source": [
    "x =30 \n",
    "x"
   ]
  },
  {
   "cell_type": "code",
   "execution_count": 33,
   "id": "062afb56",
   "metadata": {},
   "outputs": [],
   "source": [
    " y = x + 494949"
   ]
  },
  {
   "cell_type": "code",
   "execution_count": 35,
   "id": "b21f4367",
   "metadata": {},
   "outputs": [
    {
     "data": {
      "text/plain": [
       "494979"
      ]
     },
     "execution_count": 35,
     "metadata": {},
     "output_type": "execute_result"
    }
   ],
   "source": [
    "y"
   ]
  },
  {
   "cell_type": "code",
   "execution_count": 37,
   "id": "c3e46e55",
   "metadata": {},
   "outputs": [
    {
     "name": "stdout",
     "output_type": "stream",
     "text": [
      "fist numbe is 30\n"
     ]
    }
   ],
   "source": [
    "first =30 \n",
    "print (\"fist numbe is {}\".format(first))"
   ]
  },
  {
   "cell_type": "code",
   "execution_count": 43,
   "id": "e3ad184d",
   "metadata": {},
   "outputs": [],
   "source": [
    "a,b,c= 3 , 5 , 33+4j"
   ]
  },
  {
   "cell_type": "code",
   "execution_count": 40,
   "id": "4b7eab0c",
   "metadata": {},
   "outputs": [
    {
     "data": {
      "text/plain": [
       "3"
      ]
     },
     "execution_count": 40,
     "metadata": {},
     "output_type": "execute_result"
    }
   ],
   "source": [
    "a"
   ]
  },
  {
   "cell_type": "code",
   "execution_count": 41,
   "id": "1e08eb9c",
   "metadata": {},
   "outputs": [
    {
     "data": {
      "text/plain": [
       "5"
      ]
     },
     "execution_count": 41,
     "metadata": {},
     "output_type": "execute_result"
    }
   ],
   "source": [
    "b"
   ]
  },
  {
   "cell_type": "code",
   "execution_count": 45,
   "id": "0a309cbe",
   "metadata": {},
   "outputs": [
    {
     "data": {
      "text/plain": [
       "(33+4j)"
      ]
     },
     "execution_count": 45,
     "metadata": {},
     "output_type": "execute_result"
    }
   ],
   "source": [
    "c # it's in the small bracket  so it is the represntation and it is  the value "
   ]
  },
  {
   "cell_type": "code",
   "execution_count": 62,
   "id": "60d8446d",
   "metadata": {},
   "outputs": [],
   "source": [
    "num1 = 78 \n",
    "num2 = 60 \n",
    "# the swapping of the numbers ,\n",
    "# the k is assignmed for the new variable to assign the   value int variable \n",
    "k = num1 # k is the new type of  variable that assign the value of the variable \n",
    "num1=num2 \n",
    "num2=num1 \n"
   ]
  },
  {
   "cell_type": "code",
   "execution_count": 63,
   "id": "accb5d51",
   "metadata": {},
   "outputs": [
    {
     "name": "stdout",
     "output_type": "stream",
     "text": [
      " The swapping of the  number is 60\n"
     ]
    }
   ],
   "source": [
    "print(\" The swapping of the  number is {}\".format(num1))\n",
    "# the swapping of the value is num1 is "
   ]
  },
  {
   "cell_type": "code",
   "execution_count": 64,
   "id": "2a970601",
   "metadata": {},
   "outputs": [
    {
     "name": "stdout",
     "output_type": "stream",
     "text": [
      " The swapping of the  number is 60\n"
     ]
    }
   ],
   "source": [
    "print(\" The swapping of the  number is {}\".format(num2))\n",
    "# the swapping of the value is "
   ]
  },
  {
   "cell_type": "code",
   "execution_count": 65,
   "id": "c1479d77",
   "metadata": {},
   "outputs": [],
   "source": [
    "## the easiest answer is here !!!\n"
   ]
  },
  {
   "cell_type": "code",
   "execution_count": 66,
   "id": "57776320",
   "metadata": {},
   "outputs": [],
   "source": [
    "num1 = 78 \n",
    "num2 = 60 "
   ]
  },
  {
   "cell_type": "code",
   "execution_count": 67,
   "id": "ede41e14",
   "metadata": {},
   "outputs": [],
   "source": [
    "num1,num2=num2,num1\n",
    "# this is the easiest logic\n"
   ]
  },
  {
   "cell_type": "code",
   "execution_count": 68,
   "id": "6f267e7e",
   "metadata": {},
   "outputs": [
    {
     "name": "stdout",
     "output_type": "stream",
     "text": [
      " The swapping of the  number is 60\n"
     ]
    }
   ],
   "source": [
    "print(\" The swapping of the  number is {}\".format(num1))\n",
    "# the swapping of the value is num1 is "
   ]
  },
  {
   "cell_type": "code",
   "execution_count": 69,
   "id": "03dcb456",
   "metadata": {},
   "outputs": [
    {
     "name": "stdout",
     "output_type": "stream",
     "text": [
      " The swapping of the  number is 78\n"
     ]
    }
   ],
   "source": [
    "print(\" The swapping of the  number is {}\".format(num2))\n",
    "# the swapping of the value is "
   ]
  },
  {
   "cell_type": "code",
   "execution_count": 70,
   "id": "a057d38c",
   "metadata": {},
   "outputs": [
    {
     "ename": "SyntaxError",
     "evalue": "invalid syntax (2156270483.py, line 1)",
     "output_type": "error",
     "traceback": [
      "\u001b[1;36m  Input \u001b[1;32mIn [70]\u001b[1;36m\u001b[0m\n\u001b[1;33m    hence , we can  conclude tha  the it has many variable\u001b[0m\n\u001b[1;37m               ^\u001b[0m\n\u001b[1;31mSyntaxError\u001b[0m\u001b[1;31m:\u001b[0m invalid syntax\n"
     ]
    }
   ],
   "source": [
    "hence , we can  conclude tha  the it has many variable"
   ]
  },
  {
   "cell_type": "code",
   "execution_count": 71,
   "id": "cf38cdc8",
   "metadata": {},
   "outputs": [],
   "source": [
    "##  dynamic language . oop , interpreted language python "
   ]
  },
  {
   "cell_type": "markdown",
   "id": "7ba9f3b6",
   "metadata": {},
   "source": [
    " # what is python ???  #### it above "
   ]
  },
  {
   "cell_type": "code",
   "execution_count": 73,
   "id": "2ecab02a",
   "metadata": {},
   "outputs": [],
   "source": [
    "x,y,z = 55,45.6,5+7j"
   ]
  },
  {
   "cell_type": "code",
   "execution_count": 74,
   "id": "05c807fb",
   "metadata": {},
   "outputs": [
    {
     "data": {
      "text/plain": [
       "55"
      ]
     },
     "execution_count": 74,
     "metadata": {},
     "output_type": "execute_result"
    }
   ],
   "source": [
    "x"
   ]
  },
  {
   "cell_type": "code",
   "execution_count": 75,
   "id": "b321e5c1",
   "metadata": {},
   "outputs": [
    {
     "data": {
      "text/plain": [
       "45.6"
      ]
     },
     "execution_count": 75,
     "metadata": {},
     "output_type": "execute_result"
    }
   ],
   "source": [
    "y"
   ]
  },
  {
   "cell_type": "code",
   "execution_count": 76,
   "id": "20e153c3",
   "metadata": {},
   "outputs": [
    {
     "data": {
      "text/plain": [
       "(5+7j)"
      ]
     },
     "execution_count": 76,
     "metadata": {},
     "output_type": "execute_result"
    }
   ],
   "source": [
    "z"
   ]
  },
  {
   "cell_type": "markdown",
   "id": "f3e18436",
   "metadata": {},
   "source": [
    " ### to see the type \n",
    " type(x)\n",
    " "
   ]
  },
  {
   "cell_type": "code",
   "execution_count": 77,
   "id": "84183fc8",
   "metadata": {},
   "outputs": [
    {
     "data": {
      "text/plain": [
       "int"
      ]
     },
     "execution_count": 77,
     "metadata": {},
     "output_type": "execute_result"
    }
   ],
   "source": [
    "type(x)"
   ]
  },
  {
   "cell_type": "code",
   "execution_count": 78,
   "id": "1f435d22",
   "metadata": {},
   "outputs": [
    {
     "data": {
      "text/plain": [
       "float"
      ]
     },
     "execution_count": 78,
     "metadata": {},
     "output_type": "execute_result"
    }
   ],
   "source": [
    "type(y)"
   ]
  },
  {
   "cell_type": "code",
   "execution_count": 79,
   "id": "c0fbe840",
   "metadata": {},
   "outputs": [
    {
     "data": {
      "text/plain": [
       "complex"
      ]
     },
     "execution_count": 79,
     "metadata": {},
     "output_type": "execute_result"
    }
   ],
   "source": [
    "type(z)"
   ]
  },
  {
   "cell_type": "code",
   "execution_count": 81,
   "id": "597a03e1",
   "metadata": {},
   "outputs": [
    {
     "data": {
      "text/plain": [
       "True"
      ]
     },
     "execution_count": 81,
     "metadata": {},
     "output_type": "execute_result"
    }
   ],
   "source": [
    "isinstance(x,int )# to check the answer whetter it is integer of not ??"
   ]
  },
  {
   "cell_type": "markdown",
   "id": "6ace98c2",
   "metadata": {},
   "source": [
    "### type checking validation "
   ]
  },
  {
   "cell_type": "code",
   "execution_count": 82,
   "id": "a962e425",
   "metadata": {},
   "outputs": [
    {
     "data": {
      "text/plain": [
       "False"
      ]
     },
     "execution_count": 82,
     "metadata": {},
     "output_type": "execute_result"
    }
   ],
   "source": [
    "isinstance(x,float )"
   ]
  },
  {
   "cell_type": "code",
   "execution_count": 83,
   "id": "04c6a704",
   "metadata": {},
   "outputs": [
    {
     "data": {
      "text/plain": [
       "False"
      ]
     },
     "execution_count": 83,
     "metadata": {},
     "output_type": "execute_result"
    }
   ],
   "source": [
    "isinstance(y,int )"
   ]
  },
  {
   "cell_type": "code",
   "execution_count": 85,
   "id": "a4974f65",
   "metadata": {},
   "outputs": [
    {
     "data": {
      "text/plain": [
       "True"
      ]
     },
     "execution_count": 85,
     "metadata": {},
     "output_type": "execute_result"
    }
   ],
   "source": [
    "isinstance(z,complex ) # it is in green color so  its key words and z is the assigned variable"
   ]
  },
  {
   "cell_type": "code",
   "execution_count": 86,
   "id": "a234e992",
   "metadata": {},
   "outputs": [],
   "source": [
    "#### about the string "
   ]
  },
  {
   "cell_type": "code",
   "execution_count": 87,
   "id": "05d78915",
   "metadata": {},
   "outputs": [],
   "source": [
    "text=\" krishnadev is the data scientists\""
   ]
  },
  {
   "cell_type": "code",
   "execution_count": 88,
   "id": "9d1ae65e",
   "metadata": {},
   "outputs": [
    {
     "data": {
      "text/plain": [
       "str"
      ]
     },
     "execution_count": 88,
     "metadata": {},
     "output_type": "execute_result"
    }
   ],
   "source": [
    "type(text)"
   ]
  },
  {
   "cell_type": "code",
   "execution_count": 90,
   "id": "196de863",
   "metadata": {},
   "outputs": [
    {
     "data": {
      "text/plain": [
       "True"
      ]
     },
     "execution_count": 90,
     "metadata": {},
     "output_type": "execute_result"
    }
   ],
   "source": [
    "isinstance(text,str) # checking wheter it is true or not that it is string or not "
   ]
  },
  {
   "cell_type": "code",
   "execution_count": 93,
   "id": "f2c66c22",
   "metadata": {},
   "outputs": [
    {
     "ename": "SyntaxError",
     "evalue": "invalid syntax (917284036.py, line 1)",
     "output_type": "error",
     "traceback": [
      "\u001b[1;36m  Input \u001b[1;32mIn [93]\u001b[1;36m\u001b[0m\n\u001b[1;33m    3***4 ## python  donot recognize it\u001b[0m\n\u001b[1;37m       ^\u001b[0m\n\u001b[1;31mSyntaxError\u001b[0m\u001b[1;31m:\u001b[0m invalid syntax\n"
     ]
    }
   ],
   "source": [
    "3***4 ## python  donot recognize it "
   ]
  },
  {
   "cell_type": "code",
   "execution_count": 94,
   "id": "abc415d4",
   "metadata": {},
   "outputs": [],
   "source": [
    "#  because it is syntax error "
   ]
  },
  {
   "cell_type": "code",
   "execution_count": 95,
   "id": "64c61438",
   "metadata": {},
   "outputs": [],
   "source": [
    " ### what is data type checking is the here valid "
   ]
  },
  {
   "cell_type": "code",
   "execution_count": null,
   "id": "bc5ff75f",
   "metadata": {},
   "outputs": [],
   "source": []
  }
 ],
 "metadata": {
  "kernelspec": {
   "display_name": "Python 3 (ipykernel)",
   "language": "python",
   "name": "python3"
  },
  "language_info": {
   "codemirror_mode": {
    "name": "ipython",
    "version": 3
   },
   "file_extension": ".py",
   "mimetype": "text/x-python",
   "name": "python",
   "nbconvert_exporter": "python",
   "pygments_lexer": "ipython3",
   "version": "3.8.10"
  }
 },
 "nbformat": 4,
 "nbformat_minor": 5
}
