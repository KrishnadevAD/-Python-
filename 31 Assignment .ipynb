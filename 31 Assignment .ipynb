{
 "cells": [
  {
   "cell_type": "markdown",
   "id": "6ec78003",
   "metadata": {},
   "source": [
    " ## _ASSIGNMENT_\n",
    "    "
   ]
  },
  {
   "cell_type": "markdown",
   "id": "9d3ad178",
   "metadata": {},
   "source": [
    "### __Questions :__\n"
   ]
  },
  {
   "cell_type": "markdown",
   "id": "549271f7",
   "metadata": {},
   "source": [
    "*  write a program to display \"Hello\" if a number entered by user is a multiple of Five . Otherwise \"Bye\""
   ]
  },
  {
   "cell_type": "code",
   "execution_count": 1,
   "id": "d08d36f2",
   "metadata": {},
   "outputs": [
    {
     "name": "stdout",
     "output_type": "stream",
     "text": [
      "Enter a number 33\n",
      "BYE\n"
     ]
    }
   ],
   "source": [
    "user_input=int(input(\"Enter a number \"))\n",
    "if user_input % 5 == 0:\n",
    "    print(\"HELLO \")\n",
    "else:\n",
    "    print(\"BYE\")"
   ]
  },
  {
   "cell_type": "raw",
   "id": "3fb48651",
   "metadata": {},
   "source": [
    "*  write a program to calculate the electricity bill  ( accept  number of  unit from user ) according to the following criteria.\n",
    "\n",
    "    unit                         price\n",
    "    first 100 units            No charge \n",
    "    Next 100 units             Rs: 5 per unit\n",
    "    After 200 units            Rs: 10 per unit\n",
    "    \n",
    "    \n",
    "     ( for example if input uint is 350  than total bill amount is Rs: 2000)"
   ]
  },
  {
   "cell_type": "code",
   "execution_count": 2,
   "id": "55a3acd9",
   "metadata": {},
   "outputs": [
    {
     "name": "stdout",
     "output_type": "stream",
     "text": [
      "Enter the Number of unit  44\n",
      "No chare\n"
     ]
    }
   ],
   "source": [
    "user_input=int(input(\"Enter the Number of unit  \"))\n",
    "if user_input<=100:\n",
    "    print(\"No chare\")\n",
    "elif 100<user_input<=200:\n",
    "    print(\"  The charge is  Rs: 5 Per unit \")\n",
    "    print(user_input*5)\n",
    "    \n",
    "else:\n",
    "    print(\" the  charge is Rs :10  \")\n",
    "    charge =(100*5)+((user_input-200)*10)\n",
    "    print(charge)"
   ]
  },
  {
   "cell_type": "raw",
   "id": "701f0c27",
   "metadata": {},
   "source": [
    "* Write a program to check whether the last digit of a number ( Entered by the use ) is divisible by 3 or Not "
   ]
  },
  {
   "cell_type": "code",
   "execution_count": 3,
   "id": "0ac27012",
   "metadata": {},
   "outputs": [
    {
     "name": "stdout",
     "output_type": "stream",
     "text": [
      "Enter a number 444\n",
      " the last  digit is not didvisible by 3 \n"
     ]
    }
   ],
   "source": [
    "user_input=int(input(\"Enter a number \"))\n",
    "k = user_input%10\n",
    "if k%3==0:\n",
    "    print(\" the last digit is divisible  by 3 \")\n",
    "else:\n",
    "    print(\" the last  digit is not didvisible by 3 \")"
   ]
  },
  {
   "cell_type": "code",
   "execution_count": 4,
   "id": "2c0f9c81",
   "metadata": {},
   "outputs": [],
   "source": [
    "#     3/2\n",
    "#     444445%2z\n",
    "#     25//2"
   ]
  },
  {
   "cell_type": "raw",
   "id": "7afd20ab",
   "metadata": {},
   "source": [
    "* The body mass index is calculated by dividig an individual's  weight in kilogram by their \n",
    " height in meters , then dividing the answer again by theri height \n",
    " \n",
    " input:\n",
    " weight = kg\n",
    " height = cm\n",
    " \n",
    " BMI categories:\n",
    "  UnderWeight =<18.5\n",
    "  Normal Weight = 18.5-24.9\n",
    "  Over Weight = 25-29.9\n",
    "  Obesity = BMI  of 30 OR greater \n",
    "  \n",
    "  \n",
    "   BMI =  kg/m^2  : where kg is a person's weight in kilograms and m^2  is \n",
    "   their height in meters Squated."
   ]
  },
  {
   "cell_type": "markdown",
   "id": "8018054c",
   "metadata": {},
   "source": [
    " ## Body Mass Index ( BMI )\n",
    " "
   ]
  },
  {
   "cell_type": "code",
   "execution_count": 5,
   "id": "3a449793",
   "metadata": {},
   "outputs": [
    {
     "ename": "SyntaxError",
     "evalue": "EOL while scanning string literal (2242744393.py, line 5)",
     "output_type": "error",
     "traceback": [
      "\u001b[1;36m  Input \u001b[1;32mIn [5]\u001b[1;36m\u001b[0m\n\u001b[1;33m    print(\"The BMI  of a person whose\u001b[0m\n\u001b[1;37m                                     ^\u001b[0m\n\u001b[1;31mSyntaxError\u001b[0m\u001b[1;31m:\u001b[0m EOL while scanning string literal\n"
     ]
    }
   ],
   "source": [
    "user_input0=float(input(\"Enetr the weight in Kilogram :\"))\n",
    "user_input1=float(input(\"Enetr the  height in Centimeter: \"))\n",
    "height = user_input1/100\n",
    "BMI =(user_input0/height**2)\n",
    "print(\"The BMI  of a person whose\n",
    "      weight {} and height {} is {} kg per meter square. \".format(user_input0,height,BMI))\n",
    "if BMI <=18.5:\n",
    "    print(\"The person is undereight.\")\n",
    "elif 18.5 <BMI<=24.9:\n",
    "    print(\"The person is Normal weeight.\")\n",
    "elif 25<=BMI<=29.9:\n",
    "    print(\"The person is Over weight.\")\n",
    "else:\n",
    "    print(\"The person is obesity.\")\n",
    "    "
   ]
  },
  {
   "cell_type": "code",
   "execution_count": null,
   "id": "3aa17df8",
   "metadata": {},
   "outputs": [],
   "source": []
  }
 ],
 "metadata": {
  "kernelspec": {
   "display_name": "Python 3 (ipykernel)",
   "language": "python",
   "name": "python3"
  },
  "language_info": {
   "codemirror_mode": {
    "name": "ipython",
    "version": 3
   },
   "file_extension": ".py",
   "mimetype": "text/x-python",
   "name": "python",
   "nbconvert_exporter": "python",
   "pygments_lexer": "ipython3",
   "version": "3.8.10"
  }
 },
 "nbformat": 4,
 "nbformat_minor": 5
}
