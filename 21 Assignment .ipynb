{
 "cells": [
  {
   "cell_type": "markdown",
   "id": "a162a8a5",
   "metadata": {},
   "source": [
    "## Assignment"
   ]
  },
  {
   "cell_type": "markdown",
   "id": "b1b1b5b6",
   "metadata": {},
   "source": [
    "## WAP to check whether the user given input integer  is positive of negative number . \n",
    "__If it is positive print positive else print Negative__"
   ]
  },
  {
   "cell_type": "code",
   "execution_count": 5,
   "id": "55669e3d",
   "metadata": {},
   "outputs": [
    {
     "name": "stdout",
     "output_type": "stream",
     "text": [
      "enter a first number :0\n",
      "The number is positive \n"
     ]
    }
   ],
   "source": [
    " num1=int(input(\"enter a first number :\"))\n",
    "#  num2 = int(input(\"enter a second number :\"))\n",
    "if num1>=0:\n",
    "    print(\"The number is positive \")\n",
    "else:\n",
    "    print(\"the number is negative \")\n"
   ]
  },
  {
   "cell_type": "markdown",
   "id": "7bcdc2a8",
   "metadata": {},
   "source": [
    " Note -->\n",
    "     *Here , we have used the type conversion , int \n",
    "    *and input is taken from user by input "
   ]
  },
  {
   "cell_type": "markdown",
   "id": "fa65cbb3",
   "metadata": {},
   "source": [
    "## Assignment operator "
   ]
  },
  {
   "cell_type": "code",
   "execution_count": 6,
   "id": "d47771c9",
   "metadata": {},
   "outputs": [],
   "source": [
    "  a,*b,c = 3,4,5,6,7,7,88,99,567\n",
    "    "
   ]
  },
  {
   "cell_type": "code",
   "execution_count": 7,
   "id": "2a6766e2",
   "metadata": {},
   "outputs": [
    {
     "data": {
      "text/plain": [
       "3"
      ]
     },
     "execution_count": 7,
     "metadata": {},
     "output_type": "execute_result"
    }
   ],
   "source": [
    "a\n"
   ]
  },
  {
   "cell_type": "code",
   "execution_count": 8,
   "id": "4ad5ff4d",
   "metadata": {},
   "outputs": [
    {
     "data": {
      "text/plain": [
       "[4, 5, 6, 7, 7, 88, 99]"
      ]
     },
     "execution_count": 8,
     "metadata": {},
     "output_type": "execute_result"
    }
   ],
   "source": [
    "b\n"
   ]
  },
  {
   "cell_type": "code",
   "execution_count": 9,
   "id": "61f87b27",
   "metadata": {},
   "outputs": [
    {
     "data": {
      "text/plain": [
       "567"
      ]
     },
     "execution_count": 9,
     "metadata": {},
     "output_type": "execute_result"
    }
   ],
   "source": [
    "c"
   ]
  },
  {
   "cell_type": "code",
   "execution_count": 11,
   "id": "e3e37687",
   "metadata": {},
   "outputs": [],
   "source": [
    " a,b,*c = 3,4,5,6,7,7,88,99,567"
   ]
  },
  {
   "cell_type": "code",
   "execution_count": 12,
   "id": "d93b7044",
   "metadata": {},
   "outputs": [
    {
     "data": {
      "text/plain": [
       "3"
      ]
     },
     "execution_count": 12,
     "metadata": {},
     "output_type": "execute_result"
    }
   ],
   "source": [
    "a"
   ]
  },
  {
   "cell_type": "code",
   "execution_count": 13,
   "id": "7828b546",
   "metadata": {},
   "outputs": [
    {
     "data": {
      "text/plain": [
       "4"
      ]
     },
     "execution_count": 13,
     "metadata": {},
     "output_type": "execute_result"
    }
   ],
   "source": [
    "b"
   ]
  },
  {
   "cell_type": "code",
   "execution_count": 14,
   "id": "04bd38ac",
   "metadata": {},
   "outputs": [
    {
     "data": {
      "text/plain": [
       "[5, 6, 7, 7, 88, 99, 567]"
      ]
     },
     "execution_count": 14,
     "metadata": {},
     "output_type": "execute_result"
    }
   ],
   "source": [
    "c"
   ]
  },
  {
   "cell_type": "code",
   "execution_count": 15,
   "id": "129a3fa0",
   "metadata": {},
   "outputs": [],
   "source": [
    " *a,b,c = 3,4,5,6,7,7,88,99,567"
   ]
  },
  {
   "cell_type": "code",
   "execution_count": 16,
   "id": "cf0cbb9c",
   "metadata": {},
   "outputs": [
    {
     "data": {
      "text/plain": [
       "[3, 4, 5, 6, 7, 7, 88]"
      ]
     },
     "execution_count": 16,
     "metadata": {},
     "output_type": "execute_result"
    }
   ],
   "source": [
    "a"
   ]
  },
  {
   "cell_type": "code",
   "execution_count": 17,
   "id": "e73288cb",
   "metadata": {},
   "outputs": [
    {
     "data": {
      "text/plain": [
       "99"
      ]
     },
     "execution_count": 17,
     "metadata": {},
     "output_type": "execute_result"
    }
   ],
   "source": [
    "b"
   ]
  },
  {
   "cell_type": "code",
   "execution_count": 18,
   "id": "c33864b5",
   "metadata": {},
   "outputs": [
    {
     "data": {
      "text/plain": [
       "567"
      ]
     },
     "execution_count": 18,
     "metadata": {},
     "output_type": "execute_result"
    }
   ],
   "source": [
    "c"
   ]
  },
  {
   "cell_type": "code",
   "execution_count": 19,
   "id": "4b6ac573",
   "metadata": {},
   "outputs": [
    {
     "ename": "SyntaxError",
     "evalue": "two starred expressions in assignment (3658956012.py, line 1)",
     "output_type": "error",
     "traceback": [
      "\u001b[1;36m  Input \u001b[1;32mIn [19]\u001b[1;36m\u001b[0m\n\u001b[1;33m    a,*b,*c = 3,4,5,6,7,7,88,99,567\u001b[0m\n\u001b[1;37m    ^\u001b[0m\n\u001b[1;31mSyntaxError\u001b[0m\u001b[1;31m:\u001b[0m two starred expressions in assignment\n"
     ]
    }
   ],
   "source": [
    " a,*b,*c = 3,4,5,6,7,7,88,99,567"
   ]
  },
  {
   "cell_type": "markdown",
   "id": "8461d31a",
   "metadata": {},
   "source": [
    " * we cannot give two starred in the expression of the assignment operator "
   ]
  },
  {
   "cell_type": "code",
   "execution_count": null,
   "id": "1e5e8e06",
   "metadata": {},
   "outputs": [],
   "source": []
  }
 ],
 "metadata": {
  "kernelspec": {
   "display_name": "Python 3 (ipykernel)",
   "language": "python",
   "name": "python3"
  },
  "language_info": {
   "codemirror_mode": {
    "name": "ipython",
    "version": 3
   },
   "file_extension": ".py",
   "mimetype": "text/x-python",
   "name": "python",
   "nbconvert_exporter": "python",
   "pygments_lexer": "ipython3",
   "version": "3.8.10"
  }
 },
 "nbformat": 4,
 "nbformat_minor": 5
}
