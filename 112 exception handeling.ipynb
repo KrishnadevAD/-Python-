{
 "cells": [
  {
   "cell_type": "code",
   "execution_count": 1,
   "id": "6ac23492",
   "metadata": {},
   "outputs": [],
   "source": [
    "a=44\n",
    "b=0\n"
   ]
  },
  {
   "cell_type": "code",
   "execution_count": 2,
   "id": "08ae5830",
   "metadata": {
    "scrolled": true
   },
   "outputs": [
    {
     "ename": "ZeroDivisionError",
     "evalue": "division by zero",
     "output_type": "error",
     "traceback": [
      "\u001b[1;31m---------------------------------------------------------------------------\u001b[0m",
      "\u001b[1;31mZeroDivisionError\u001b[0m                         Traceback (most recent call last)",
      "Input \u001b[1;32mIn [2]\u001b[0m, in \u001b[0;36m<cell line: 1>\u001b[1;34m()\u001b[0m\n\u001b[1;32m----> 1\u001b[0m c\u001b[38;5;241m=\u001b[39m\u001b[43ma\u001b[49m\u001b[38;5;241;43m/\u001b[39;49m\u001b[43mb\u001b[49m\n",
      "\u001b[1;31mZeroDivisionError\u001b[0m: division by zero"
     ]
    }
   ],
   "source": [
    "c=a/b"
   ]
  },
  {
   "cell_type": "raw",
   "id": "01f096de",
   "metadata": {},
   "source": [
    " this above error is called the exception handeling "
   ]
  },
  {
   "cell_type": "raw",
   "id": "e2bf3e58",
   "metadata": {},
   "source": [
    " now we will use the try and catch block to  handle the file "
   ]
  },
  {
   "cell_type": "code",
   "execution_count": null,
   "id": "e296ce9b",
   "metadata": {},
   "outputs": [],
   "source": [
    "try:\n",
    "    a=55\n",
    "    b=0\n",
    "    c=a/b\n",
    "except ZeroDivisionError as e:\n",
    "    print(str(e))\n"
   ]
  },
  {
   "cell_type": "code",
   "execution_count": null,
   "id": "358cf06e",
   "metadata": {},
   "outputs": [],
   "source": [
    "try:\n",
    "    a=55\n",
    "    b=0\n",
    "    c=a/b\n",
    "except ZeroDivisionError:\n",
    "    pass"
   ]
  },
  {
   "cell_type": "code",
   "execution_count": null,
   "id": "274d6408",
   "metadata": {},
   "outputs": [],
   "source": [
    "try:\n",
    "    a=55\n",
    "    b=0\n",
    "    c=a/b\n",
    "except:\n",
    "    pass"
   ]
  },
  {
   "cell_type": "code",
   "execution_count": null,
   "id": "c2338373",
   "metadata": {},
   "outputs": [],
   "source": [
    "try:\n",
    "    a=55\n",
    "    b=0\n",
    "    c=a/b\n",
    "except:Exceptiton as e:\n",
    "        print(str(e))\n",
    "    "
   ]
  },
  {
   "cell_type": "code",
   "execution_count": null,
   "id": "ec0c76a6",
   "metadata": {},
   "outputs": [],
   "source": [
    "assert==3"
   ]
  },
  {
   "cell_type": "code",
   "execution_count": null,
   "id": "1e75425f",
   "metadata": {},
   "outputs": [],
   "source": [
    "try:\n",
    "    assert 2==3\n",
    "except AssertionError as e:\n",
    "    peint(str(e))"
   ]
  },
  {
   "cell_type": "code",
   "execution_count": null,
   "id": "70d9ce84",
   "metadata": {},
   "outputs": [],
   "source": [
    "f=open(\"newfile.txt\")\n",
    "print(\"hello\")"
   ]
  },
  {
   "cell_type": "code",
   "execution_count": null,
   "id": "97bd1d90",
   "metadata": {},
   "outputs": [],
   "source": [
    "try:\n",
    "    f=open(\"newfile.txt\")\n",
    "except fileNotFoundError as e:\n",
    "    print(str(e))\n",
    "print(\"hello\")"
   ]
  },
  {
   "cell_type": "code",
   "execution_count": null,
   "id": "21f17dd7",
   "metadata": {},
   "outputs": [],
   "source": [
    "try:\n",
    "    f=open(\"newfile.txt\",encoding=\"\")"
   ]
  },
  {
   "cell_type": "code",
   "execution_count": null,
   "id": "0bb2578d",
   "metadata": {},
   "outputs": [],
   "source": [
    "finally # this clause is executed no matter wht , and is generally used to release external resources "
   ]
  }
 ],
 "metadata": {
  "kernelspec": {
   "display_name": "Python 3 (ipykernel)",
   "language": "python",
   "name": "python3"
  },
  "language_info": {
   "codemirror_mode": {
    "name": "ipython",
    "version": 3
   },
   "file_extension": ".py",
   "mimetype": "text/x-python",
   "name": "python",
   "nbconvert_exporter": "python",
   "pygments_lexer": "ipython3",
   "version": "3.8.10"
  }
 },
 "nbformat": 4,
 "nbformat_minor": 5
}
