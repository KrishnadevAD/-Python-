{
 "cells": [
  {
   "cell_type": "code",
   "execution_count": 17,
   "id": "6713990a",
   "metadata": {},
   "outputs": [
    {
     "name": "stdout",
     "output_type": "stream",
     "text": [
      "[]\n",
      "[-5]\n",
      "[-5, -4]\n",
      "[-5, -4, -3]\n",
      "[-5, -4, -3, -2]\n",
      "[-5, -4, -3, -2, -1]\n",
      "[-5, -4, -3, -2, -1, 0]\n",
      "[-5, -4, -3, -2, -1, 0, 1]\n",
      "[-5, -4, -3, -2, -1, 0, 1, 2]\n",
      "[-5, -4, -3, -2, -1, 0, 1, 2, 3]\n"
     ]
    }
   ],
   "source": [
    "some_list=[]\n",
    "for index in range(-5,5):\n",
    "    print(some_list)\n",
    "    some_list.append(index)"
   ]
  },
  {
   "cell_type": "raw",
   "id": "a7894043",
   "metadata": {},
   "source": [
    "Python List comprehension provides a much more short syntax for creating\n",
    "a new list based on the values of an existing list."
   ]
  },
  {
   "cell_type": "markdown",
   "id": "06b79bfa",
   "metadata": {},
   "source": [
    "#### Advantages of List Comprehension"
   ]
  },
  {
   "cell_type": "raw",
   "id": "920427f5",
   "metadata": {},
   "source": [
    " * More time-efficient and space-efficient than loops.\n",
    " * Require fewer lines of code.\n",
    " * Transforms iterative statement into a formula."
   ]
  },
  {
   "cell_type": "code",
   "execution_count": 18,
   "id": "1b974fd4",
   "metadata": {},
   "outputs": [
    {
     "name": "stdout",
     "output_type": "stream",
     "text": [
      "[]\n",
      "-5\n",
      "[]\n",
      "-4\n",
      "[]\n",
      "-3\n",
      "[]\n",
      "-2\n",
      "[]\n",
      "-1\n",
      "[]\n",
      "0\n",
      "[]\n",
      "1\n",
      "[]\n",
      "2\n",
      "[]\n",
      "3\n",
      "[]\n",
      "4\n"
     ]
    }
   ],
   "source": [
    "some_list=[]\n",
    "for index in range(-5,5):\n",
    "    print(some_list)\n",
    "    print(index)"
   ]
  },
  {
   "cell_type": "code",
   "execution_count": 3,
   "id": "f6bb758b",
   "metadata": {},
   "outputs": [
    {
     "name": "stdout",
     "output_type": "stream",
     "text": [
      "[]\n",
      "[25]\n",
      "[25, 16]\n",
      "[25, 16, 9]\n",
      "[25, 16, 9, 4]\n",
      "[25, 16, 9, 4, 1]\n",
      "[25, 16, 9, 4, 1, 0]\n",
      "[25, 16, 9, 4, 1, 0, 1]\n",
      "[25, 16, 9, 4, 1, 0, 1, 4]\n",
      "[25, 16, 9, 4, 1, 0, 1, 4, 9]\n"
     ]
    }
   ],
   "source": [
    "some_list=[]\n",
    "for index in range(-5,5):\n",
    "    print(some_list)\n",
    "    some_list.append(index**2)"
   ]
  },
  {
   "cell_type": "raw",
   "id": "beac6236",
   "metadata": {},
   "source": [
    " list comprehensin"
   ]
  },
  {
   "cell_type": "code",
   "execution_count": 4,
   "id": "1e450d25",
   "metadata": {},
   "outputs": [],
   "source": [
    "num=[2,5,7,11,13]"
   ]
  },
  {
   "cell_type": "code",
   "execution_count": 5,
   "id": "640ddcef",
   "metadata": {},
   "outputs": [],
   "source": [
    "squates=[]\n",
    "for item in num:\n",
    "    sq=item**2"
   ]
  },
  {
   "cell_type": "code",
   "execution_count": 6,
   "id": "a9db4e1d",
   "metadata": {},
   "outputs": [
    {
     "name": "stdout",
     "output_type": "stream",
     "text": [
      "169\n"
     ]
    }
   ],
   "source": [
    "print(sq)"
   ]
  },
  {
   "cell_type": "code",
   "execution_count": 7,
   "id": "5496cfac",
   "metadata": {},
   "outputs": [],
   "source": [
    "squares=[]\n",
    "for item in num:\n",
    "    sq=item**2\n",
    "    squares.append(sq)"
   ]
  },
  {
   "cell_type": "code",
   "execution_count": 8,
   "id": "b7b7c071",
   "metadata": {},
   "outputs": [
    {
     "data": {
      "text/plain": [
       "[4, 25, 49, 121, 169]"
      ]
     },
     "execution_count": 8,
     "metadata": {},
     "output_type": "execute_result"
    }
   ],
   "source": [
    "squares"
   ]
  },
  {
   "cell_type": "markdown",
   "id": "5bbf8f8e",
   "metadata": {},
   "source": [
    " ## now its time for  list compresnseation "
   ]
  },
  {
   "cell_type": "code",
   "execution_count": 9,
   "id": "45cb3c5c",
   "metadata": {},
   "outputs": [
    {
     "data": {
      "text/plain": [
       "[]"
      ]
     },
     "execution_count": 9,
     "metadata": {},
     "output_type": "execute_result"
    }
   ],
   "source": [
    "[]"
   ]
  },
  {
   "cell_type": "code",
   "execution_count": 10,
   "id": "80aa3789",
   "metadata": {},
   "outputs": [
    {
     "data": {
      "text/plain": [
       "[4, 25, 49, 121, 169]"
      ]
     },
     "execution_count": 10,
     "metadata": {},
     "output_type": "execute_result"
    }
   ],
   "source": [
    "[ item**2 for item in num]"
   ]
  },
  {
   "cell_type": "code",
   "execution_count": 11,
   "id": "7a08f537",
   "metadata": {},
   "outputs": [
    {
     "data": {
      "text/plain": [
       "[4, 7, 9, 13, 15]"
      ]
     },
     "execution_count": 11,
     "metadata": {},
     "output_type": "execute_result"
    }
   ],
   "source": [
    "[ item+2 for item in num]"
   ]
  },
  {
   "cell_type": "code",
   "execution_count": 12,
   "id": "5f79fc77",
   "metadata": {},
   "outputs": [],
   "source": [
    "nput1 =[2,5,6]"
   ]
  },
  {
   "cell_type": "code",
   "execution_count": 13,
   "id": "2db7401a",
   "metadata": {},
   "outputs": [
    {
     "data": {
      "text/plain": [
       "[5, 8, 9]"
      ]
     },
     "execution_count": 13,
     "metadata": {},
     "output_type": "execute_result"
    }
   ],
   "source": [
    "[item+3 for item in nput1]"
   ]
  },
  {
   "cell_type": "code",
   "execution_count": 14,
   "id": "85c837df",
   "metadata": {},
   "outputs": [],
   "source": [
    "plus3=[]\n",
    "\n",
    "for item in nput1:\n",
    "    sq=item+3\n",
    "    plus3.append(sq)"
   ]
  },
  {
   "cell_type": "code",
   "execution_count": 15,
   "id": "a407908b",
   "metadata": {},
   "outputs": [
    {
     "data": {
      "text/plain": [
       "[5, 8, 9]"
      ]
     },
     "execution_count": 15,
     "metadata": {},
     "output_type": "execute_result"
    }
   ],
   "source": [
    "plus3"
   ]
  },
  {
   "cell_type": "raw",
   "id": "3b2521e3",
   "metadata": {},
   "source": [
    " assignment --->> use list compresension to find   cube  from 1 to 5 using both for loop and the list comprehension "
   ]
  },
  {
   "cell_type": "code",
   "execution_count": null,
   "id": "b1660028",
   "metadata": {},
   "outputs": [],
   "source": []
  }
 ],
 "metadata": {
  "kernelspec": {
   "display_name": "Python 3 (ipykernel)",
   "language": "python",
   "name": "python3"
  },
  "language_info": {
   "codemirror_mode": {
    "name": "ipython",
    "version": 3
   },
   "file_extension": ".py",
   "mimetype": "text/x-python",
   "name": "python",
   "nbconvert_exporter": "python",
   "pygments_lexer": "ipython3",
   "version": "3.10.6"
  }
 },
 "nbformat": 4,
 "nbformat_minor": 5
}
