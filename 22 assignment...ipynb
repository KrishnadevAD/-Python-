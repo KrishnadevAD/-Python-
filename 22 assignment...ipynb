{
 "cells": [
  {
   "cell_type": "code",
   "execution_count": 1,
   "id": "2400b782",
   "metadata": {},
   "outputs": [],
   "source": [
    "a = 1\n",
    "b = 2\n",
    "c = a"
   ]
  },
  {
   "cell_type": "code",
   "execution_count": 2,
   "id": "8c6b0337",
   "metadata": {},
   "outputs": [
    {
     "data": {
      "text/plain": [
       "1"
      ]
     },
     "execution_count": 2,
     "metadata": {},
     "output_type": "execute_result"
    }
   ],
   "source": [
    "a"
   ]
  },
  {
   "cell_type": "code",
   "execution_count": 3,
   "id": "52e43f53",
   "metadata": {},
   "outputs": [],
   "source": [
    "a = 1\n",
    "b = 2\n",
    "c = a"
   ]
  },
  {
   "cell_type": "code",
   "execution_count": 4,
   "id": "0bb1818b",
   "metadata": {},
   "outputs": [
    {
     "data": {
      "text/plain": [
       "1"
      ]
     },
     "execution_count": 4,
     "metadata": {},
     "output_type": "execute_result"
    }
   ],
   "source": [
    "c"
   ]
  },
  {
   "cell_type": "code",
   "execution_count": 5,
   "id": "33e7ab50",
   "metadata": {},
   "outputs": [],
   "source": [
    "a = 1\n",
    "a = 2\n",
    "a = 3"
   ]
  },
  {
   "cell_type": "code",
   "execution_count": 6,
   "id": "84cee9d5",
   "metadata": {},
   "outputs": [
    {
     "data": {
      "text/plain": [
       "3"
      ]
     },
     "execution_count": 6,
     "metadata": {},
     "output_type": "execute_result"
    }
   ],
   "source": [
    "a"
   ]
  },
  {
   "cell_type": "code",
   "execution_count": 7,
   "id": "19660867",
   "metadata": {},
   "outputs": [],
   "source": [
    "a, b, c = 1, 2, 3\n",
    "a, b, c = c, a, b"
   ]
  },
  {
   "cell_type": "code",
   "execution_count": 8,
   "id": "447e90bc",
   "metadata": {},
   "outputs": [
    {
     "data": {
      "text/plain": [
       "3"
      ]
     },
     "execution_count": 8,
     "metadata": {},
     "output_type": "execute_result"
    }
   ],
   "source": [
    "a"
   ]
  },
  {
   "cell_type": "code",
   "execution_count": 9,
   "id": "27326b79",
   "metadata": {},
   "outputs": [
    {
     "data": {
      "text/plain": [
       "1"
      ]
     },
     "execution_count": 9,
     "metadata": {},
     "output_type": "execute_result"
    }
   ],
   "source": [
    "b"
   ]
  },
  {
   "cell_type": "code",
   "execution_count": 10,
   "id": "e52da252",
   "metadata": {},
   "outputs": [
    {
     "data": {
      "text/plain": [
       "2"
      ]
     },
     "execution_count": 10,
     "metadata": {},
     "output_type": "execute_result"
    }
   ],
   "source": [
    "c"
   ]
  },
  {
   "cell_type": "code",
   "execution_count": 11,
   "id": "f6290560",
   "metadata": {},
   "outputs": [
    {
     "name": "stdout",
     "output_type": "stream",
     "text": [
      "False\n",
      "True\n"
     ]
    },
    {
     "name": "stderr",
     "output_type": "stream",
     "text": [
      "<>:1: SyntaxWarning: \"is\" with a literal. Did you mean \"==\"?\n",
      "<>:1: SyntaxWarning: \"is\" with a literal. Did you mean \"==\"?\n",
      "C:\\Users\\DELL\\AppData\\Local\\Temp\\ipykernel_5316\\1697506866.py:1: SyntaxWarning: \"is\" with a literal. Did you mean \"==\"?\n",
      "  print( 1 is None )\n"
     ]
    }
   ],
   "source": [
    "print( 1 is None )\n",
    "print( True is not None )"
   ]
  },
  {
   "cell_type": "markdown",
   "id": "37964a9a",
   "metadata": {},
   "source": [
    "### Evaluating to True or False"
   ]
  },
  {
   "cell_type": "markdown",
   "id": "3e4de94d",
   "metadata": {},
   "source": [
    " == Equals\n",
    "\n",
    "!= Not Equals\n",
    "\n",
    " < Less Than\n",
    "\n",
    " <= Less Than or Equal\n",
    "\n",
    " > Greater Than\n",
    "\n",
    " >= Greater Than or Equal\n",
    "\n"
   ]
  },
  {
   "cell_type": "code",
   "execution_count": 12,
   "id": "7e6f3036",
   "metadata": {},
   "outputs": [
    {
     "name": "stdout",
     "output_type": "stream",
     "text": [
      "False\n",
      "True\n",
      "True\n",
      "False\n",
      "True\n"
     ]
    }
   ],
   "source": [
    "print( 1 == 'b' )\n",
    "print( 1 != 2 )\n",
    "print( 1 == 1.0 )\n",
    "print( 1 == '1' )\n",
    "print( 1 != 2 )"
   ]
  },
  {
   "cell_type": "code",
   "execution_count": 13,
   "id": "f01aab2e",
   "metadata": {},
   "outputs": [
    {
     "name": "stdout",
     "output_type": "stream",
     "text": [
      "True\n",
      "True\n",
      "True\n",
      "True\n",
      "True\n"
     ]
    }
   ],
   "source": [
    "print( 1 < 33 )\n",
    "print( 2 >= 2 )\n",
    "print( 3.0 > 0 )\n",
    "print( 'z' >= 'a' )\n",
    "print( 1 <= 1.0 < 4 )"
   ]
  },
  {
   "cell_type": "code",
   "execution_count": 14,
   "id": "a4c1f72c",
   "metadata": {},
   "outputs": [
    {
     "name": "stdout",
     "output_type": "stream",
     "text": [
      "False\n",
      "True\n"
     ]
    },
    {
     "name": "stderr",
     "output_type": "stream",
     "text": [
      "<>:1: SyntaxWarning: \"is\" with a literal. Did you mean \"==\"?\n",
      "<>:1: SyntaxWarning: \"is\" with a literal. Did you mean \"==\"?\n",
      "C:\\Users\\DELL\\AppData\\Local\\Temp\\ipykernel_5316\\1697506866.py:1: SyntaxWarning: \"is\" with a literal. Did you mean \"==\"?\n",
      "  print( 1 is None )\n"
     ]
    }
   ],
   "source": [
    "print( 1 is None )\n",
    "print( True is not None )"
   ]
  },
  {
   "cell_type": "code",
   "execution_count": 15,
   "id": "ebb6ee33",
   "metadata": {},
   "outputs": [
    {
     "name": "stdout",
     "output_type": "stream",
     "text": [
      "True\n",
      "True\n"
     ]
    }
   ],
   "source": [
    "print('e' in 'Henry' )\n",
    "print('a' not in 'Henry' )"
   ]
  },
  {
   "cell_type": "code",
   "execution_count": 16,
   "id": "61083a3e",
   "metadata": {},
   "outputs": [
    {
     "name": "stdout",
     "output_type": "stream",
     "text": [
      "False\n",
      "True\n",
      "False\n",
      "False\n",
      "True\n"
     ]
    }
   ],
   "source": [
    "print( True and False )\n",
    "print( True and True )\n",
    "print( False and True )\n",
    "print( not True )\n",
    "print( (False and False) or (not False) )"
   ]
  },
  {
   "cell_type": "markdown",
   "id": "a7a255b3",
   "metadata": {},
   "source": [
    "Object Evaluations"
   ]
  },
  {
   "cell_type": "code",
   "execution_count": 17,
   "id": "946687a5",
   "metadata": {},
   "outputs": [
    {
     "name": "stdout",
     "output_type": "stream",
     "text": [
      "a\n",
      "0\n"
     ]
    }
   ],
   "source": [
    "print( 0 or 'a' )\n",
    "print( 0 and 0.0 )"
   ]
  },
  {
   "cell_type": "code",
   "execution_count": null,
   "id": "e75b4269",
   "metadata": {},
   "outputs": [],
   "source": []
  }
 ],
 "metadata": {
  "kernelspec": {
   "display_name": "Python 3 (ipykernel)",
   "language": "python",
   "name": "python3"
  },
  "language_info": {
   "codemirror_mode": {
    "name": "ipython",
    "version": 3
   },
   "file_extension": ".py",
   "mimetype": "text/x-python",
   "name": "python",
   "nbconvert_exporter": "python",
   "pygments_lexer": "ipython3",
   "version": "3.8.10"
  }
 },
 "nbformat": 4,
 "nbformat_minor": 5
}
