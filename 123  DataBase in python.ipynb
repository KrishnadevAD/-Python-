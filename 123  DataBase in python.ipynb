{
 "cells": [
  {
   "cell_type": "code",
   "execution_count": null,
   "id": "333d039b",
   "metadata": {},
   "outputs": [],
   "source": [
    "# sql "
   ]
  },
  {
   "cell_type": "markdown",
   "id": "086a0e63",
   "metadata": {},
   "source": [
    "CRUID \n",
    "create \n",
    "read \n",
    "update \n",
    "Insert \n",
    "Delete"
   ]
  },
  {
   "cell_type": "code",
   "execution_count": 25,
   "id": "e6090c11",
   "metadata": {},
   "outputs": [],
   "source": [
    "# import squlite3\n",
    "# con=squlite3.connect(\"users.db\")"
   ]
  },
  {
   "cell_type": "code",
   "execution_count": 24,
   "id": "1195ac96",
   "metadata": {},
   "outputs": [],
   "source": [
    "import sqlite3 # py's inbuilt db\n"
   ]
  },
  {
   "cell_type": "code",
   "execution_count": 31,
   "id": "c97da0e8",
   "metadata": {},
   "outputs": [],
   "source": [
    "con=sqlite3.connect(\"class.db\")\n"
   ]
  },
  {
   "cell_type": "code",
   "execution_count": 32,
   "id": "0cc221d3",
   "metadata": {},
   "outputs": [
    {
     "data": {
      "text/plain": [
       "<sqlite3.Cursor at 0x22140da7420>"
      ]
     },
     "execution_count": 32,
     "metadata": {},
     "output_type": "execute_result"
    }
   ],
   "source": [
    "con.cursor()"
   ]
  },
  {
   "cell_type": "code",
   "execution_count": 33,
   "id": "f22811c4",
   "metadata": {},
   "outputs": [],
   "source": [
    "cur=con.cursor()"
   ]
  },
  {
   "cell_type": "code",
   "execution_count": 34,
   "id": "ca2f9b42",
   "metadata": {},
   "outputs": [],
   "source": [
    "query='''\n",
    "create table class1\n",
    "(\n",
    "rollno int,\n",
    "name varchar(50)\n",
    ")\n",
    "'''"
   ]
  },
  {
   "cell_type": "code",
   "execution_count": 35,
   "id": "17c2892a",
   "metadata": {},
   "outputs": [
    {
     "data": {
      "text/plain": [
       "<sqlite3.Cursor at 0x22140da7d50>"
      ]
     },
     "execution_count": 35,
     "metadata": {},
     "output_type": "execute_result"
    }
   ],
   "source": [
    "con.execute(query)"
   ]
  },
  {
   "cell_type": "code",
   "execution_count": 36,
   "id": "e9164b34",
   "metadata": {},
   "outputs": [],
   "source": [
    "con.commit()"
   ]
  },
  {
   "cell_type": "markdown",
   "id": "08fff97f",
   "metadata": {},
   "source": [
    "## insert statement in SQL "
   ]
  },
  {
   "cell_type": "code",
   "execution_count": 37,
   "id": "2ab54b63",
   "metadata": {},
   "outputs": [],
   "source": [
    "insert_query='''\n",
    "insert into class1\n",
    "(rollno,name) values\n",
    "(1,'krishna'),\n",
    "(2,'dev0'),\n",
    "(3,'adhikari')\n",
    "\n",
    "'''"
   ]
  },
  {
   "cell_type": "code",
   "execution_count": 38,
   "id": "9b488072",
   "metadata": {},
   "outputs": [
    {
     "data": {
      "text/plain": [
       "<sqlite3.Cursor at 0x22140da7f80>"
      ]
     },
     "execution_count": 38,
     "metadata": {},
     "output_type": "execute_result"
    }
   ],
   "source": [
    "con.execute(insert_query)"
   ]
  },
  {
   "cell_type": "code",
   "execution_count": 39,
   "id": "bb6f1dc5",
   "metadata": {},
   "outputs": [],
   "source": [
    "con.commit()"
   ]
  },
  {
   "cell_type": "code",
   "execution_count": 41,
   "id": "1c830c0e",
   "metadata": {},
   "outputs": [],
   "source": [
    "# select statement in SQL \n",
    "# select*from table_name"
   ]
  },
  {
   "cell_type": "code",
   "execution_count": 47,
   "id": "0353f8e6",
   "metadata": {},
   "outputs": [],
   "source": [
    "read_query='select * from {}'.format('class1')"
   ]
  },
  {
   "cell_type": "code",
   "execution_count": 48,
   "id": "afd39f3c",
   "metadata": {},
   "outputs": [
    {
     "data": {
      "text/plain": [
       "'select * from class1'"
      ]
     },
     "execution_count": 48,
     "metadata": {},
     "output_type": "execute_result"
    }
   ],
   "source": [
    "read_query"
   ]
  },
  {
   "cell_type": "code",
   "execution_count": 49,
   "id": "105dc03b",
   "metadata": {},
   "outputs": [
    {
     "data": {
      "text/plain": [
       "[(1, 'krishna'), (2, 'dev0'), (3, 'adhikari')]"
      ]
     },
     "execution_count": 49,
     "metadata": {},
     "output_type": "execute_result"
    }
   ],
   "source": [
    "con.execute(read_query).fetchall()"
   ]
  },
  {
   "cell_type": "code",
   "execution_count": 60,
   "id": "fac7975e",
   "metadata": {},
   "outputs": [
    {
     "ename": "OperationalError",
     "evalue": "no such table: calss1",
     "output_type": "error",
     "traceback": [
      "\u001b[1;31m---------------------------------------------------------------------------\u001b[0m",
      "\u001b[1;31mOperationalError\u001b[0m                          Traceback (most recent call last)",
      "Input \u001b[1;32mIn [60]\u001b[0m, in \u001b[0;36m<cell line: 5>\u001b[1;34m()\u001b[0m\n\u001b[0;32m      1\u001b[0m q\u001b[38;5;241m=\u001b[39m\u001b[38;5;124m'''\u001b[39m\n\u001b[0;32m      2\u001b[0m \u001b[38;5;124mselect * from calss1 where rollno=2\u001b[39m\n\u001b[0;32m      3\u001b[0m \n\u001b[0;32m      4\u001b[0m \u001b[38;5;124m'''\u001b[39m\n\u001b[1;32m----> 5\u001b[0m \u001b[43mcon\u001b[49m\u001b[38;5;241;43m.\u001b[39;49m\u001b[43mexecute\u001b[49m\u001b[43m(\u001b[49m\u001b[43mq\u001b[49m\u001b[43m)\u001b[49m\u001b[38;5;241m.\u001b[39mfetchall()\n",
      "\u001b[1;31mOperationalError\u001b[0m: no such table: calss1"
     ]
    }
   ],
   "source": [
    "q='''\n",
    "select * from calss1 where rollno=2\n",
    "\n",
    "'''\n",
    "con.execute(q).fetchall()"
   ]
  },
  {
   "cell_type": "markdown",
   "id": "f985639d",
   "metadata": {},
   "source": [
    "# upadate in sql"
   ]
  },
  {
   "cell_type": "code",
   "execution_count": 56,
   "id": "da675bb0",
   "metadata": {},
   "outputs": [],
   "source": [
    "up_query='''\n",
    "update class\n",
    "set name = \"dev0\"\n",
    "where\n",
    "rollno=2\n",
    "\n",
    "'''"
   ]
  },
  {
   "cell_type": "code",
   "execution_count": 57,
   "id": "4c275cc5",
   "metadata": {},
   "outputs": [
    {
     "ename": "OperationalError",
     "evalue": "no such table: class",
     "output_type": "error",
     "traceback": [
      "\u001b[1;31m---------------------------------------------------------------------------\u001b[0m",
      "\u001b[1;31mOperationalError\u001b[0m                          Traceback (most recent call last)",
      "Input \u001b[1;32mIn [57]\u001b[0m, in \u001b[0;36m<cell line: 1>\u001b[1;34m()\u001b[0m\n\u001b[1;32m----> 1\u001b[0m \u001b[43mcur\u001b[49m\u001b[38;5;241;43m.\u001b[39;49m\u001b[43mexecute\u001b[49m\u001b[43m(\u001b[49m\u001b[43mup_query\u001b[49m\u001b[43m)\u001b[49m\n",
      "\u001b[1;31mOperationalError\u001b[0m: no such table: class"
     ]
    }
   ],
   "source": [
    "cur.execute(up_query)"
   ]
  },
  {
   "cell_type": "code",
   "execution_count": 58,
   "id": "90c99aeb",
   "metadata": {},
   "outputs": [],
   "source": [
    "con.commit()"
   ]
  },
  {
   "cell_type": "code",
   "execution_count": 59,
   "id": "3b70f8a6",
   "metadata": {},
   "outputs": [
    {
     "ename": "OperationalError",
     "evalue": "no such table: class",
     "output_type": "error",
     "traceback": [
      "\u001b[1;31m---------------------------------------------------------------------------\u001b[0m",
      "\u001b[1;31mOperationalError\u001b[0m                          Traceback (most recent call last)",
      "Input \u001b[1;32mIn [59]\u001b[0m, in \u001b[0;36m<cell line: 1>\u001b[1;34m()\u001b[0m\n\u001b[1;32m----> 1\u001b[0m \u001b[43mcur\u001b[49m\u001b[38;5;241;43m.\u001b[39;49m\u001b[43mexecute\u001b[49m\u001b[43m(\u001b[49m\u001b[38;5;124;43m'\u001b[39;49m\u001b[38;5;124;43mselect * from class\u001b[39;49m\u001b[38;5;124;43m'\u001b[39;49m\u001b[43m)\u001b[49m\u001b[38;5;241m.\u001b[39mfetchall()\n",
      "\u001b[1;31mOperationalError\u001b[0m: no such table: class"
     ]
    }
   ],
   "source": [
    "cur.execute('select * from class').fetchall()\n"
   ]
  },
  {
   "cell_type": "markdown",
   "id": "ea0989f2",
   "metadata": {},
   "source": [
    " # executeMany"
   ]
  },
  {
   "cell_type": "code",
   "execution_count": 66,
   "id": "cd2e05d6",
   "metadata": {},
   "outputs": [],
   "source": [
    "data=[\n",
    "    (4,'krishnadev'),\n",
    "    (5,'sapana')\n",
    "]"
   ]
  },
  {
   "cell_type": "code",
   "execution_count": 67,
   "id": "c4f7d3b5",
   "metadata": {},
   "outputs": [
    {
     "ename": "SyntaxError",
     "evalue": "EOL while scanning string literal (1650385196.py, line 1)",
     "output_type": "error",
     "traceback": [
      "\u001b[1;36m  Input \u001b[1;32mIn [67]\u001b[1;36m\u001b[0m\n\u001b[1;33m    con.executemany('Insert Into class(rollno,name)values(?,?),data)\u001b[0m\n\u001b[1;37m                                                                    ^\u001b[0m\n\u001b[1;31mSyntaxError\u001b[0m\u001b[1;31m:\u001b[0m EOL while scanning string literal\n"
     ]
    }
   ],
   "source": [
    "con.executemany('Insert Into class(rollno,name)values(?,?),data)"
   ]
  },
  {
   "cell_type": "markdown",
   "id": "4bebdf04",
   "metadata": {},
   "source": [
    "#  Delete statement in sql"
   ]
  },
  {
   "cell_type": "code",
   "execution_count": 68,
   "id": "0a013efe",
   "metadata": {},
   "outputs": [
    {
     "ename": "OperationalError",
     "evalue": "near \"wher\": syntax error",
     "output_type": "error",
     "traceback": [
      "\u001b[1;31m---------------------------------------------------------------------------\u001b[0m",
      "\u001b[1;31mOperationalError\u001b[0m                          Traceback (most recent call last)",
      "Input \u001b[1;32mIn [68]\u001b[0m, in \u001b[0;36m<cell line: 1>\u001b[1;34m()\u001b[0m\n\u001b[1;32m----> 1\u001b[0m \u001b[43mcon\u001b[49m\u001b[38;5;241;43m.\u001b[39;49m\u001b[43mexecute\u001b[49m\u001b[43m(\u001b[49m\u001b[38;5;124;43m'\u001b[39;49m\u001b[38;5;124;43mDelete from class wher rollno=2\u001b[39;49m\u001b[38;5;124;43m'\u001b[39;49m\u001b[43m)\u001b[49m\n",
      "\u001b[1;31mOperationalError\u001b[0m: near \"wher\": syntax error"
     ]
    }
   ],
   "source": [
    "con.execute('Delete from class wher rollno=2')\n"
   ]
  },
  {
   "cell_type": "code",
   "execution_count": 69,
   "id": "aeb4cca0",
   "metadata": {},
   "outputs": [
    {
     "ename": "OperationalError",
     "evalue": "no such table: class",
     "output_type": "error",
     "traceback": [
      "\u001b[1;31m---------------------------------------------------------------------------\u001b[0m",
      "\u001b[1;31mOperationalError\u001b[0m                          Traceback (most recent call last)",
      "Input \u001b[1;32mIn [69]\u001b[0m, in \u001b[0;36m<cell line: 1>\u001b[1;34m()\u001b[0m\n\u001b[1;32m----> 1\u001b[0m \u001b[43mcon\u001b[49m\u001b[38;5;241;43m.\u001b[39;49m\u001b[43mexecute\u001b[49m\u001b[43m(\u001b[49m\u001b[38;5;124;43m'\u001b[39;49m\u001b[38;5;124;43mselect * from class\u001b[39;49m\u001b[38;5;124;43m'\u001b[39;49m\u001b[43m)\u001b[49m\u001b[38;5;241m.\u001b[39mfetchall()\n",
      "\u001b[1;31mOperationalError\u001b[0m: no such table: class"
     ]
    }
   ],
   "source": [
    "con.execute('select * from class').fetchall()"
   ]
  },
  {
   "cell_type": "code",
   "execution_count": null,
   "id": "57042f37",
   "metadata": {},
   "outputs": [],
   "source": []
  }
 ],
 "metadata": {
  "kernelspec": {
   "display_name": "Python 3 (ipykernel)",
   "language": "python",
   "name": "python3"
  },
  "language_info": {
   "codemirror_mode": {
    "name": "ipython",
    "version": 3
   },
   "file_extension": ".py",
   "mimetype": "text/x-python",
   "name": "python",
   "nbconvert_exporter": "python",
   "pygments_lexer": "ipython3",
   "version": "3.8.10"
  }
 },
 "nbformat": 4,
 "nbformat_minor": 5
}
