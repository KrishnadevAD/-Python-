{
 "cells": [
  {
   "cell_type": "markdown",
   "id": "9f807f17",
   "metadata": {},
   "source": [
    "# dunder or magic method in Python"
   ]
  },
  {
   "cell_type": "raw",
   "id": "c0575e82",
   "metadata": {},
   "source": [
    "\n",
    "__int__ ,__add__,__len__,__repr__ etc"
   ]
  },
  {
   "cell_type": "raw",
   "id": "5d0d085b",
   "metadata": {},
   "source": [
    "dunders means double under score in both front and back \n",
    "it is used in operator overloading "
   ]
  },
  {
   "cell_type": "markdown",
   "id": "0a3b090f",
   "metadata": {},
   "source": [
    "# polymorphysm "
   ]
  },
  {
   "cell_type": "code",
   "execution_count": 2,
   "id": "b6ba8a0c",
   "metadata": {},
   "outputs": [],
   "source": [
    " class alpha:\n",
    "        def display(self):\n",
    "            print(\"this is alpha displa\")"
   ]
  },
  {
   "cell_type": "code",
   "execution_count": 7,
   "id": "e83bedc9",
   "metadata": {},
   "outputs": [],
   "source": [
    "class beta(alpha):\n",
    "    def __init__(self):\n",
    "        super().__init__()\n",
    "    def display(self):# overloading\n",
    "        print(\"this is beta display\")\n",
    "    "
   ]
  },
  {
   "cell_type": "code",
   "execution_count": 8,
   "id": "9ba4a1e9",
   "metadata": {},
   "outputs": [],
   "source": [
    "b=beta()"
   ]
  },
  {
   "cell_type": "code",
   "execution_count": 9,
   "id": "a7e3a4bb",
   "metadata": {},
   "outputs": [
    {
     "name": "stdout",
     "output_type": "stream",
     "text": [
      "this is beta display\n"
     ]
    }
   ],
   "source": [
    "b.display()"
   ]
  },
  {
   "cell_type": "raw",
   "id": "5940da06",
   "metadata": {},
   "source": [
    " This is function overloading /over writing "
   ]
  },
  {
   "cell_type": "code",
   "execution_count": null,
   "id": "5f7a0b10",
   "metadata": {},
   "outputs": [],
   "source": []
  }
 ],
 "metadata": {
  "kernelspec": {
   "display_name": "Python 3 (ipykernel)",
   "language": "python",
   "name": "python3"
  },
  "language_info": {
   "codemirror_mode": {
    "name": "ipython",
    "version": 3
   },
   "file_extension": ".py",
   "mimetype": "text/x-python",
   "name": "python",
   "nbconvert_exporter": "python",
   "pygments_lexer": "ipython3",
   "version": "3.8.10"
  }
 },
 "nbformat": 4,
 "nbformat_minor": 5
}
