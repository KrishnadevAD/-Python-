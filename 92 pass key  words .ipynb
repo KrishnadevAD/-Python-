{
 "cells": [
  {
   "cell_type": "markdown",
   "id": "67d9b0d4",
   "metadata": {},
   "source": [
    "# pass key words"
   ]
  },
  {
   "cell_type": "code",
   "execution_count": 2,
   "id": "ff3b6d41",
   "metadata": {},
   "outputs": [],
   "source": [
    "if 2==2:\n",
    "    pass "
   ]
  },
  {
   "cell_type": "code",
   "execution_count": 3,
   "id": "d7c8cd6c",
   "metadata": {},
   "outputs": [],
   "source": [
    "for i in range(5):\n",
    "    pass "
   ]
  },
  {
   "cell_type": "code",
   "execution_count": 4,
   "id": "45ab70da",
   "metadata": {},
   "outputs": [],
   "source": [
    "def test():\n",
    "    pass "
   ]
  },
  {
   "cell_type": "markdown",
   "id": "0df602a3",
   "metadata": {},
   "source": [
    "## break continue  and pass in loops "
   ]
  },
  {
   "cell_type": "code",
   "execution_count": 7,
   "id": "17ea52b9",
   "metadata": {},
   "outputs": [],
   "source": [
    " for index in range(5):\n",
    "        break"
   ]
  },
  {
   "cell_type": "code",
   "execution_count": 8,
   "id": "73dc8112",
   "metadata": {},
   "outputs": [],
   "source": [
    "fruits = [\"apple\",\"banana\",\"mango\",\"kiwi\"]"
   ]
  },
  {
   "cell_type": "code",
   "execution_count": 10,
   "id": "2d5be197",
   "metadata": {},
   "outputs": [
    {
     "name": "stdout",
     "output_type": "stream",
     "text": [
      "apple\n",
      "banana\n"
     ]
    }
   ],
   "source": [
    "for item in fruits:\n",
    "    if item == \"mango\":\n",
    "        break\n",
    "    else:\n",
    "         print(item)\n",
    "    "
   ]
  },
  {
   "cell_type": "raw",
   "id": "cbcf81cc",
   "metadata": {},
   "source": [
    " breaks break particulat things "
   ]
  },
  {
   "cell_type": "code",
   "execution_count": 12,
   "id": "bb3a3a2f",
   "metadata": {},
   "outputs": [
    {
     "name": "stdout",
     "output_type": "stream",
     "text": [
      "apple\n",
      "banana\n",
      "kiwi\n"
     ]
    }
   ],
   "source": [
    "for item in fruits:\n",
    "    if item == \"mango\":\n",
    "        continue \n",
    "    else:\n",
    "         print(item)\n",
    "    "
   ]
  },
  {
   "cell_type": "raw",
   "id": "764d6fee",
   "metadata": {},
   "source": [
    " continue replaces the given text "
   ]
  },
  {
   "cell_type": "code",
   "execution_count": 13,
   "id": "3e3427be",
   "metadata": {},
   "outputs": [
    {
     "name": "stdout",
     "output_type": "stream",
     "text": [
      "apple\n",
      "banana\n",
      "kiwi\n"
     ]
    }
   ],
   "source": [
    "for item in fruits:\n",
    "    if item == \"mango\":\n",
    "        pass \n",
    "    else:\n",
    "         print(item)\n",
    "    "
   ]
  },
  {
   "cell_type": "raw",
   "id": "911e045b",
   "metadata": {},
   "source": [
    "def greet():\n",
    "    pass\n",
    " never  write code in pass "
   ]
  },
  {
   "cell_type": "code",
   "execution_count": null,
   "id": "b4f1d605",
   "metadata": {},
   "outputs": [],
   "source": []
  }
 ],
 "metadata": {
  "kernelspec": {
   "display_name": "Python 3 (ipykernel)",
   "language": "python",
   "name": "python3"
  },
  "language_info": {
   "codemirror_mode": {
    "name": "ipython",
    "version": 3
   },
   "file_extension": ".py",
   "mimetype": "text/x-python",
   "name": "python",
   "nbconvert_exporter": "python",
   "pygments_lexer": "ipython3",
   "version": "3.8.10"
  }
 },
 "nbformat": 4,
 "nbformat_minor": 5
}
