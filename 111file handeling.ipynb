{
 "cells": [
  {
   "cell_type": "markdown",
   "id": "c6e4e045",
   "metadata": {},
   "source": [
    "# file handeling"
   ]
  },
  {
   "cell_type": "markdown",
   "id": "3c018162",
   "metadata": {},
   "source": [
    "#### read text file in python "
   ]
  },
  {
   "cell_type": "code",
   "execution_count": 6,
   "id": "5a03809d",
   "metadata": {},
   "outputs": [
    {
     "data": {
      "text/plain": [
       "<_io.TextIOWrapper name='file.txt' mode='r' encoding='cp1252'>"
      ]
     },
     "execution_count": 6,
     "metadata": {},
     "output_type": "execute_result"
    }
   ],
   "source": [
    "open(\"file.txt\",\"r\") # its objet"
   ]
  },
  {
   "cell_type": "code",
   "execution_count": 7,
   "id": "38c8a205",
   "metadata": {},
   "outputs": [],
   "source": [
    "f=open(\"file.txt\",\"r\")"
   ]
  },
  {
   "cell_type": "code",
   "execution_count": 8,
   "id": "084a232c",
   "metadata": {},
   "outputs": [],
   "source": [
    "content=f.read()"
   ]
  },
  {
   "cell_type": "code",
   "execution_count": 9,
   "id": "934d413d",
   "metadata": {},
   "outputs": [
    {
     "data": {
      "text/plain": [
       "'Polymorphism is one of the core concepts of object-oriented programming (OOP).\\nDescribes situations in which something occurs in several different forms.\\nIn computer science, it describes the concept that you can access objects of different types through the same interface. \\nEach type can provide its own independent implementation of this interface.'"
      ]
     },
     "execution_count": 9,
     "metadata": {},
     "output_type": "execute_result"
    }
   ],
   "source": [
    "content"
   ]
  },
  {
   "cell_type": "code",
   "execution_count": 11,
   "id": "e94295d5",
   "metadata": {},
   "outputs": [],
   "source": [
    "f=open(\"file.txt\",\"r\")\n",
    "content=f.readlines()"
   ]
  },
  {
   "cell_type": "code",
   "execution_count": 12,
   "id": "cc1ea8bf",
   "metadata": {},
   "outputs": [
    {
     "data": {
      "text/plain": [
       "['Polymorphism is one of the core concepts of object-oriented programming (OOP).\\n',\n",
       " 'Describes situations in which something occurs in several different forms.\\n',\n",
       " 'In computer science, it describes the concept that you can access objects of different types through the same interface. \\n',\n",
       " 'Each type can provide its own independent implementation of this interface.']"
      ]
     },
     "execution_count": 12,
     "metadata": {},
     "output_type": "execute_result"
    }
   ],
   "source": [
    "content"
   ]
  },
  {
   "cell_type": "code",
   "execution_count": 13,
   "id": "091c9802",
   "metadata": {},
   "outputs": [],
   "source": [
    "f=open(\"file.txt\",\"r\")\n",
    "content=f.readline()\n"
   ]
  },
  {
   "cell_type": "code",
   "execution_count": 14,
   "id": "59de5ace",
   "metadata": {},
   "outputs": [
    {
     "data": {
      "text/plain": [
       "'Polymorphism is one of the core concepts of object-oriented programming (OOP).\\n'"
      ]
     },
     "execution_count": 14,
     "metadata": {},
     "output_type": "execute_result"
    }
   ],
   "source": [
    "content"
   ]
  },
  {
   "cell_type": "code",
   "execution_count": 17,
   "id": "3806cf82",
   "metadata": {},
   "outputs": [],
   "source": [
    "f=open(\"file.txt\",\"r\")\n",
    "content=f.readlines()\n",
    "f.close()# closing the file "
   ]
  },
  {
   "cell_type": "code",
   "execution_count": 18,
   "id": "e1f3e583",
   "metadata": {},
   "outputs": [
    {
     "data": {
      "text/plain": [
       "['Polymorphism is one of the core concepts of object-oriented programming (OOP).\\n',\n",
       " 'Describes situations in which something occurs in several different forms.\\n',\n",
       " 'In computer science, it describes the concept that you can access objects of different types through the same interface. \\n',\n",
       " 'Each type can provide its own independent implementation of this interface.']"
      ]
     },
     "execution_count": 18,
     "metadata": {},
     "output_type": "execute_result"
    }
   ],
   "source": [
    "content"
   ]
  },
  {
   "cell_type": "code",
   "execution_count": 21,
   "id": "1fdfd879",
   "metadata": {},
   "outputs": [],
   "source": [
    "with open(\"file.txt\",\"r\") as f:# it is the standard which automatically closes the file \n",
    "    content=f.readlines() # it is the standard which automatically closes the file "
   ]
  },
  {
   "cell_type": "code",
   "execution_count": 22,
   "id": "78be640f",
   "metadata": {},
   "outputs": [
    {
     "data": {
      "text/plain": [
       "['Polymorphism is one of the core concepts of object-oriented programming (OOP).\\n',\n",
       " 'Describes situations in which something occurs in several different forms.\\n',\n",
       " 'In computer science, it describes the concept that you can access objects of different types through the same interface. \\n',\n",
       " 'Each type can provide its own independent implementation of this interface.']"
      ]
     },
     "execution_count": 22,
     "metadata": {},
     "output_type": "execute_result"
    }
   ],
   "source": [
    "content"
   ]
  },
  {
   "cell_type": "markdown",
   "id": "25423f2d",
   "metadata": {},
   "source": [
    "#### Write in  file in python "
   ]
  },
  {
   "cell_type": "code",
   "execution_count": 35,
   "id": "5d80b9ff",
   "metadata": {},
   "outputs": [],
   "source": [
    "with open(\"write.txt\",\"w\") as f:\n",
    "    f.write(\"This is first \")"
   ]
  },
  {
   "cell_type": "code",
   "execution_count": 36,
   "id": "66945c26",
   "metadata": {},
   "outputs": [],
   "source": [
    "with open(\"write.txt\",\"r\") as f:\n",
    "    txt=f.read()\n",
    "    "
   ]
  },
  {
   "cell_type": "code",
   "execution_count": 37,
   "id": "09fefb1a",
   "metadata": {},
   "outputs": [
    {
     "data": {
      "text/plain": [
       "'This is first '"
      ]
     },
     "execution_count": 37,
     "metadata": {},
     "output_type": "execute_result"
    }
   ],
   "source": [
    "txt"
   ]
  },
  {
   "cell_type": "code",
   "execution_count": 38,
   "id": "5e73f074",
   "metadata": {},
   "outputs": [],
   "source": [
    "# write overwrites in file"
   ]
  },
  {
   "cell_type": "code",
   "execution_count": 41,
   "id": "bf3398a6",
   "metadata": {},
   "outputs": [],
   "source": [
    "with open(\"write.txt\",\"w\") as f:\n",
    "    f.write(\"This is  second \")"
   ]
  },
  {
   "cell_type": "code",
   "execution_count": 42,
   "id": "3c787684",
   "metadata": {},
   "outputs": [],
   "source": [
    "with open(\"write.txt\",\"r\") as f:\n",
    "    txt=f.read()"
   ]
  },
  {
   "cell_type": "code",
   "execution_count": 43,
   "id": "4d637ebc",
   "metadata": {},
   "outputs": [
    {
     "data": {
      "text/plain": [
       "'This is  second '"
      ]
     },
     "execution_count": 43,
     "metadata": {},
     "output_type": "execute_result"
    }
   ],
   "source": [
    "txt"
   ]
  },
  {
   "cell_type": "code",
   "execution_count": 44,
   "id": "30df5223",
   "metadata": {},
   "outputs": [],
   "source": [
    "# append node in file handeling"
   ]
  },
  {
   "cell_type": "code",
   "execution_count": 45,
   "id": "2cb6428c",
   "metadata": {},
   "outputs": [],
   "source": [
    "with open(\"write.txt\",\"a\") as f:\n",
    "    f.write(\"this is append txt\")"
   ]
  },
  {
   "cell_type": "code",
   "execution_count": 48,
   "id": "ece3210f",
   "metadata": {},
   "outputs": [
    {
     "name": "stdout",
     "output_type": "stream",
     "text": [
      "This is  second this is append txt\n"
     ]
    }
   ],
   "source": [
    "with open(\"write.txt\",\"r\") as f:\n",
    "    print(f.read())"
   ]
  },
  {
   "cell_type": "code",
   "execution_count": 62,
   "id": "68d6b3dd",
   "metadata": {},
   "outputs": [],
   "source": [
    "with open(\"newfile.txt\",\"a\") as f: # append creates the file if it is not there \n",
    "    f.write(\"this is append txt\")"
   ]
  },
  {
   "cell_type": "code",
   "execution_count": 63,
   "id": "9cceeb31",
   "metadata": {},
   "outputs": [
    {
     "name": "stdout",
     "output_type": "stream",
     "text": [
      "this is append txtthis is append txtthis is append txtthis is append txt\n"
     ]
    }
   ],
   "source": [
    "with open(\"newfile.txt\",\"r\") as f:\n",
    "    print(f.read())"
   ]
  },
  {
   "cell_type": "markdown",
   "id": "a0b934a9",
   "metadata": {},
   "source": [
    " ### remove file in python"
   ]
  },
  {
   "cell_type": "code",
   "execution_count": 69,
   "id": "aa8c6776",
   "metadata": {},
   "outputs": [],
   "source": [
    "import os\n"
   ]
  },
  {
   "cell_type": "code",
   "execution_count": 70,
   "id": "e36fcdcb",
   "metadata": {},
   "outputs": [
    {
     "data": {
      "text/plain": [
       "False"
      ]
     },
     "execution_count": 70,
     "metadata": {},
     "output_type": "execute_result"
    }
   ],
   "source": [
    "os.path.exists(\"newfile.txt\") # the file is  there so it returns the true "
   ]
  },
  {
   "cell_type": "code",
   "execution_count": 71,
   "id": "7086bd45",
   "metadata": {},
   "outputs": [
    {
     "name": "stdout",
     "output_type": "stream",
     "text": [
      "file doesnot exist\n"
     ]
    }
   ],
   "source": [
    "if os.path.exists(\"newfile.txt\"):\n",
    "    os.remove(\"newfile.txt\")\n",
    "    print(\"file removed\")\n",
    "else:\n",
    "    print(\"file doesnot exist\")"
   ]
  },
  {
   "cell_type": "code",
   "execution_count": 72,
   "id": "beb37d46",
   "metadata": {},
   "outputs": [
    {
     "name": "stdout",
     "output_type": "stream",
     "text": [
      "file doesnot exist\n"
     ]
    }
   ],
   "source": [
    "if os.path.exists(\"newfile.txt\"):\n",
    "    os.remove(\"newfile.txt\")\n",
    "    print(\"file removed\")\n",
    "else:\n",
    "    print(\"file doesnot exist\")"
   ]
  },
  {
   "cell_type": "code",
   "execution_count": null,
   "id": "e7e8d9fd",
   "metadata": {},
   "outputs": [],
   "source": []
  }
 ],
 "metadata": {
  "kernelspec": {
   "display_name": "Python 3 (ipykernel)",
   "language": "python",
   "name": "python3"
  },
  "language_info": {
   "codemirror_mode": {
    "name": "ipython",
    "version": 3
   },
   "file_extension": ".py",
   "mimetype": "text/x-python",
   "name": "python",
   "nbconvert_exporter": "python",
   "pygments_lexer": "ipython3",
   "version": "3.8.10"
  }
 },
 "nbformat": 4,
 "nbformat_minor": 5
}
