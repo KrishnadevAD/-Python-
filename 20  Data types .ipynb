{
 "cells": [
  {
   "cell_type": "markdown",
   "id": "4c1f3fe9",
   "metadata": {},
   "source": [
    "## Data types "
   ]
  },
  {
   "cell_type": "markdown",
   "id": "24aee00c",
   "metadata": {},
   "source": [
    " sometimes all the  variable is named in the  cappital letter because of ita value never chhange  like ( PI = 22/7)"
   ]
  },
  {
   "cell_type": "markdown",
   "id": "f3900400",
   "metadata": {},
   "source": [
    "# how to give the  bold\n",
    "## __ krishnadev adhikari__"
   ]
  },
  {
   "cell_type": "code",
   "execution_count": 1,
   "id": "7f354f57",
   "metadata": {},
   "outputs": [
    {
     "name": "stdout",
     "output_type": "stream",
     "text": [
      "<class 'int'>\n"
     ]
    }
   ],
   "source": [
    "port_address =2002\n",
    "print(type(port_address))\n",
    "    "
   ]
  },
  {
   "cell_type": "markdown",
   "id": "462c48d8",
   "metadata": {},
   "source": [
    " today we will learn about the  to take input from the users "
   ]
  },
  {
   "cell_type": "markdown",
   "id": "c8c6dc32",
   "metadata": {},
   "source": [
    "## take input from the users"
   ]
  },
  {
   "cell_type": "code",
   "execution_count": 2,
   "id": "4259db1e",
   "metadata": {},
   "outputs": [
    {
     "name": "stdout",
     "output_type": "stream",
     "text": [
      " enter a value99\n"
     ]
    },
    {
     "data": {
      "text/plain": [
       "'99'"
      ]
     },
     "execution_count": 2,
     "metadata": {},
     "output_type": "execute_result"
    }
   ],
   "source": [
    "input(\" enter a value\")"
   ]
  },
  {
   "cell_type": "code",
   "execution_count": 3,
   "id": "30dca423",
   "metadata": {},
   "outputs": [
    {
     "name": "stdout",
     "output_type": "stream",
     "text": [
      " Enter a number :88\n"
     ]
    }
   ],
   "source": [
    "user_input =input(\" Enter a number :\")"
   ]
  },
  {
   "cell_type": "code",
   "execution_count": 4,
   "id": "b3840702",
   "metadata": {},
   "outputs": [
    {
     "data": {
      "text/plain": [
       "'88'"
      ]
     },
     "execution_count": 4,
     "metadata": {},
     "output_type": "execute_result"
    }
   ],
   "source": [
    "user_input"
   ]
  },
  {
   "cell_type": "markdown",
   "id": "1dae7c31",
   "metadata": {},
   "source": [
    "### add two number"
   ]
  },
  {
   "cell_type": "code",
   "execution_count": 5,
   "id": "72649bb8",
   "metadata": {},
   "outputs": [
    {
     "name": "stdout",
     "output_type": "stream",
     "text": [
      "enter a first number :77\n",
      "enter a second number :99\n",
      " the sum of 77 and 99 is 7799\n"
     ]
    }
   ],
   "source": [
    " num1=input(\"enter a first number :\")\n",
    " num2 = input(\"enter a second number :\")\n",
    "total = num1 +num2 \n",
    "print( \" the sum of {} and {} is {}\".format(num1,num2 , total))"
   ]
  },
  {
   "cell_type": "code",
   "execution_count": 6,
   "id": "e5663e31",
   "metadata": {},
   "outputs": [
    {
     "name": "stdout",
     "output_type": "stream",
     "text": [
      "enter a number:888\n"
     ]
    },
    {
     "data": {
      "text/plain": [
       "str"
      ]
     },
     "execution_count": 6,
     "metadata": {},
     "output_type": "execute_result"
    }
   ],
   "source": [
    "user_input = input(\"enter a number:\")\n",
    "type(user_input)"
   ]
  },
  {
   "cell_type": "markdown",
   "id": "b76d2818",
   "metadata": {},
   "source": [
    "## typer conversion --> one data type to another data type  of python obkect to other data type "
   ]
  },
  {
   "cell_type": "markdown",
   "id": "54d11ca6",
   "metadata": {},
   "source": [
    "user_input = int(input(\"enter a number:\"))\n",
    "type(user_input)"
   ]
  },
  {
   "cell_type": "code",
   "execution_count": 7,
   "id": "1f579235",
   "metadata": {},
   "outputs": [
    {
     "name": "stdout",
     "output_type": "stream",
     "text": [
      "enter a first number :88\n",
      "enter a second number :88\n",
      " the sum of 88 and 88 is 176\n"
     ]
    }
   ],
   "source": [
    " num1=int(input(\"enter a first number :\"))\n",
    " num2 = int(input(\"enter a second number :\"))\n",
    "total = num1 +num2 \n",
    "print( \" the sum of {} and {} is {}\".format(num1,num2 , total))"
   ]
  },
  {
   "cell_type": "markdown",
   "id": "cb823248",
   "metadata": {},
   "source": [
    "  # write a program to check the odd or even "
   ]
  },
  {
   "cell_type": "code",
   "execution_count": 8,
   "id": "061ea12f",
   "metadata": {},
   "outputs": [
    {
     "ename": "SyntaxError",
     "evalue": "invalid syntax (1796347526.py, line 1)",
     "output_type": "error",
     "traceback": [
      "\u001b[1;36m  Input \u001b[1;32mIn [8]\u001b[1;36m\u001b[0m\n\u001b[1;33m    * we will learn  about the expression\u001b[0m\n\u001b[1;37m         ^\u001b[0m\n\u001b[1;31mSyntaxError\u001b[0m\u001b[1;31m:\u001b[0m invalid syntax\n"
     ]
    }
   ],
   "source": [
    "* we will learn  about the expression \n",
    " *   == is the comparison operator"
   ]
  },
  {
   "cell_type": "code",
   "execution_count": null,
   "id": "3b3a70ac",
   "metadata": {},
   "outputs": [],
   "source": [
    " input_number=int(input(\"enter a number :\"))# colon used to work as the block seperation\n",
    "    if input_number %2 == 0:\n",
    "        print(\"it is even number \")\n",
    "    else\n",
    "        print(\"it is odd number \")"
   ]
  },
  {
   "cell_type": "code",
   "execution_count": null,
   "id": "6ec26837",
   "metadata": {},
   "outputs": [],
   "source": [
    " input_number=int(input(\"enter a number :\"))# colon used to work as the block seperation\n",
    "    if input_number %2 == 0:\n",
    "        print(\"it is even number \")\n",
    "    else\n",
    "        print(\"it is odd number \")"
   ]
  },
  {
   "cell_type": "markdown",
   "id": "4b1a4081",
   "metadata": {},
   "source": [
    " Python boolens are true and false"
   ]
  },
  {
   "cell_type": "code",
   "execution_count": null,
   "id": "a5d48dc8",
   "metadata": {},
   "outputs": [],
   "source": [
    "print(2==2) # equals to \n",
    "print(2!=2) #not equal\n",
    "print(2<2)  #les than\n",
    "print(2>2)  # greater than\n",
    "print(2<=2)  # less than or equals\n",
    "print(2>=2)   #greater than or equal"
   ]
  },
  {
   "cell_type": "code",
   "execution_count": null,
   "id": "7b08be1f",
   "metadata": {},
   "outputs": [],
   "source": []
  }
 ],
 "metadata": {
  "kernelspec": {
   "display_name": "Python 3 (ipykernel)",
   "language": "python",
   "name": "python3"
  },
  "language_info": {
   "codemirror_mode": {
    "name": "ipython",
    "version": 3
   },
   "file_extension": ".py",
   "mimetype": "text/x-python",
   "name": "python",
   "nbconvert_exporter": "python",
   "pygments_lexer": "ipython3",
   "version": "3.8.10"
  }
 },
 "nbformat": 4,
 "nbformat_minor": 5
}
