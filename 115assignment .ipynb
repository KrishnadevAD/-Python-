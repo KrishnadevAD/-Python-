{
 "cells": [
  {
   "cell_type": "markdown",
   "id": "a882721b",
   "metadata": {},
   "source": [
    " # filter and map in lambda "
   ]
  },
  {
   "cell_type": "markdown",
   "id": "ee053fd4",
   "metadata": {},
   "source": [
    "## lambda"
   ]
  },
  {
   "cell_type": "raw",
   "id": "b9038463",
   "metadata": {},
   "source": [
    "Lambda is a keyword in Python used to define functions, more specifically Anonymous Functions, \n",
    "and such functions are known as Lambda Functions or Lambda Expressions."
   ]
  },
  {
   "cell_type": "raw",
   "id": "39b00236",
   "metadata": {},
   "source": [
    "* Function with many arguments but only one expression.\n",
    "* It helps to make our code pythonic and to create function wrappers."
   ]
  },
  {
   "cell_type": "code",
   "execution_count": 5,
   "id": "e341c605",
   "metadata": {},
   "outputs": [],
   "source": [
    "square = lambda n: n ** 2"
   ]
  },
  {
   "cell_type": "code",
   "execution_count": 6,
   "id": "d3df2831",
   "metadata": {},
   "outputs": [
    {
     "data": {
      "text/plain": [
       "25"
      ]
     },
     "execution_count": 6,
     "metadata": {},
     "output_type": "execute_result"
    }
   ],
   "source": [
    "# Calling lambda function\n",
    "square(5)"
   ]
  },
  {
   "cell_type": "raw",
   "id": "baba1cfd",
   "metadata": {},
   "source": [
    "We can also extend the lambda functions by adding conditional statements. Refer to the following self-explanatory example."
   ]
  },
  {
   "cell_type": "code",
   "execution_count": 7,
   "id": "738fdf0d",
   "metadata": {},
   "outputs": [
    {
     "data": {
      "text/plain": [
       "6"
      ]
     },
     "execution_count": 7,
     "metadata": {},
     "output_type": "execute_result"
    }
   ],
   "source": [
    "maxi = lambda x, y: x if x > y else y\n",
    "maxi(4, 6)"
   ]
  },
  {
   "cell_type": "markdown",
   "id": "95c55f7b",
   "metadata": {},
   "source": [
    "#### limitation of lambda function is :\n"
   ]
  },
  {
   "cell_type": "raw",
   "id": "c389f32c",
   "metadata": {},
   "source": [
    "* Lambda functions is that they can have any number of arguments but only one expression."
   ]
  },
  {
   "cell_type": "markdown",
   "id": "3c3fe845",
   "metadata": {},
   "source": [
    "## map"
   ]
  },
  {
   "cell_type": "markdown",
   "id": "2ea31ba9",
   "metadata": {},
   "source": [
    "##### Lambda functions are mainly used with the map functions as in-place functions"
   ]
  },
  {
   "cell_type": "raw",
   "id": "785bb8f2",
   "metadata": {},
   "source": [
    "* A function that applies a given function to each item of an iterable and returns an iterator.\n",
    "* It provides a faster way to transform an iterable based on the given condition.\n",
    "* It can have multiple iterables."
   ]
  },
  {
   "cell_type": "code",
   "execution_count": 8,
   "id": "8e775b3e",
   "metadata": {},
   "outputs": [],
   "source": [
    " # normal way of squaring it \n",
    "squares = []\n",
    "for n in range(1, 10, 2):\n",
    "    squares.append(n ** 2)"
   ]
  },
  {
   "cell_type": "code",
   "execution_count": 9,
   "id": "6c694ce3",
   "metadata": {},
   "outputs": [
    {
     "data": {
      "text/plain": [
       "[1, 9, 25, 49, 81]"
      ]
     },
     "execution_count": 9,
     "metadata": {},
     "output_type": "execute_result"
    }
   ],
   "source": [
    "squares"
   ]
  },
  {
   "cell_type": "code",
   "execution_count": 10,
   "id": "eb690a82",
   "metadata": {},
   "outputs": [],
   "source": [
    "# syntax ---> map(function, iterable)"
   ]
  },
  {
   "cell_type": "raw",
   "id": "69bc0b06",
   "metadata": {},
   "source": [
    " To find the square of the  no. in the range "
   ]
  },
  {
   "cell_type": "raw",
   "id": "5e30f9b1",
   "metadata": {},
   "source": [
    "The map function takes in a function and an iterable(list, tuple, etc.) as an input; applies passed function to each item of an iterable and returns a map object(an iterator).\n",
    "\n",
    "Let us re-implement the above example using the map function."
   ]
  },
  {
   "cell_type": "code",
   "execution_count": 11,
   "id": "bd46a1a9",
   "metadata": {},
   "outputs": [
    {
     "data": {
      "text/plain": [
       "<map at 0x1f4ccc61e80>"
      ]
     },
     "execution_count": 11,
     "metadata": {},
     "output_type": "execute_result"
    }
   ],
   "source": [
    "def square(n):\n",
    "    return n ** 2\n",
    "squares = map(square, range(1, 10, 2))  \n",
    "squares\n"
   ]
  },
  {
   "cell_type": "code",
   "execution_count": 12,
   "id": "8b845735",
   "metadata": {},
   "outputs": [
    {
     "data": {
      "text/plain": [
       "[1, 9, 25, 49, 81]"
      ]
     },
     "execution_count": 12,
     "metadata": {},
     "output_type": "execute_result"
    }
   ],
   "source": [
    "# returns map object\n",
    "list(squares)\n",
    "# Output: [1, 9, 25, 49, 81]"
   ]
  },
  {
   "cell_type": "raw",
   "id": "f7213542",
   "metadata": {},
   "source": [
    "The square function returns the square of any number. \n",
    "The map function takes in square function and range(1, 10, 2) as arguments.\n",
    "It applies the square function on a given range(1, 3, 5, 7, and 9)  and \n",
    "which returns a map object and is later converted into the list."
   ]
  },
  {
   "cell_type": "code",
   "execution_count": 13,
   "id": "8119f6e2",
   "metadata": {},
   "outputs": [],
   "source": [
    "squares = list(map(lambda n: n ** 2, range(1, 10, 2)))"
   ]
  },
  {
   "cell_type": "raw",
   "id": "ab0e7577",
   "metadata": {},
   "source": [
    "The map function can have multiple iterables"
   ]
  },
  {
   "cell_type": "code",
   "execution_count": 14,
   "id": "f25e4ef3",
   "metadata": {},
   "outputs": [],
   "source": [
    "num1 = [2, 4, 9]\n",
    "num2 = [3, 8, 5]\n",
    "result = list(map(lambda x, y: x + y, num1, num2))"
   ]
  },
  {
   "cell_type": "code",
   "execution_count": 15,
   "id": "a210a820",
   "metadata": {},
   "outputs": [
    {
     "data": {
      "text/plain": [
       "[5, 12, 14]"
      ]
     },
     "execution_count": 15,
     "metadata": {},
     "output_type": "execute_result"
    }
   ],
   "source": [
    "result"
   ]
  },
  {
   "cell_type": "raw",
   "id": "1d483148",
   "metadata": {},
   "source": [
    "Here, we have performed element-wise addition of lists.\n",
    "\n",
    "Keep in mind that the map can take any iterable as an argument and not only a list."
   ]
  },
  {
   "cell_type": "markdown",
   "id": "3d14c0fe",
   "metadata": {},
   "source": [
    "## Filter "
   ]
  },
  {
   "cell_type": "raw",
   "id": "c096e22c",
   "metadata": {},
   "source": [
    "* It has the same syntax as the map function.\n",
    "* It helps in extracting items from an iterable based on the given condition."
   ]
  },
  {
   "cell_type": "raw",
   "id": "4fbf3a67",
   "metadata": {},
   "source": [
    "Let’s say you want to find the odd numbers from a given list. A quick way to approach this problem is to use a for loop inside a list comprehension."
   ]
  },
  {
   "cell_type": "code",
   "execution_count": 16,
   "id": "92235166",
   "metadata": {},
   "outputs": [],
   "source": [
    "nums = [1, 34, 23, 56, 89, 44, 92]\n",
    "odd_nums = [num for num in nums if num % 2 != 0]"
   ]
  },
  {
   "cell_type": "code",
   "execution_count": 17,
   "id": "0aaaa992",
   "metadata": {},
   "outputs": [
    {
     "data": {
      "text/plain": [
       "[1, 23, 89]"
      ]
     },
     "execution_count": 17,
     "metadata": {},
     "output_type": "execute_result"
    }
   ],
   "source": [
    "odd_nums"
   ]
  },
  {
   "cell_type": "raw",
   "id": "c3f867e5",
   "metadata": {},
   "source": [
    "The loop iterates through nums and stores every odd number. The conditional statement here filters out the even numbers and returns only the odd numbers. This kind of functionality is known as filtering."
   ]
  },
  {
   "cell_type": "code",
   "execution_count": 18,
   "id": "72e97c1c",
   "metadata": {},
   "outputs": [],
   "source": [
    "# syntax --->  filter(funtion,iterable )"
   ]
  },
  {
   "cell_type": "raw",
   "id": "1080b2aa",
   "metadata": {},
   "source": [
    "It works similarly to the map. \n",
    "It returns a filter object, unlike a map object."
   ]
  },
  {
   "cell_type": "code",
   "execution_count": 19,
   "id": "a1b73ee5",
   "metadata": {},
   "outputs": [],
   "source": [
    "def find_odd(x):\n",
    "    if x % 2 != 0:\n",
    "        return x\n",
    "nums = [1, 34, 23, 56, 89, 44, 92]\n",
    "odds = list(filter(find_odd, nums))\n"
   ]
  },
  {
   "cell_type": "code",
   "execution_count": 20,
   "id": "a6a68665",
   "metadata": {},
   "outputs": [
    {
     "name": "stdout",
     "output_type": "stream",
     "text": [
      "[1, 23, 89]\n"
     ]
    }
   ],
   "source": [
    "print(odds)"
   ]
  },
  {
   "cell_type": "raw",
   "id": "d54e90b2",
   "metadata": {},
   "source": [
    "Let us convert this find_odd function to a lambda function and rewrite the code to make it shorter."
   ]
  },
  {
   "cell_type": "code",
   "execution_count": 21,
   "id": "a1f36f0f",
   "metadata": {},
   "outputs": [],
   "source": [
    "nums = [1, 34, 23, 56, 89, 44, 92]\n",
    "odds = list(filter(lambda x: x % 2 != 0, nums))\n"
   ]
  },
  {
   "cell_type": "code",
   "execution_count": 22,
   "id": "127bc00d",
   "metadata": {},
   "outputs": [
    {
     "name": "stdout",
     "output_type": "stream",
     "text": [
      "[1, 23, 89]\n"
     ]
    }
   ],
   "source": [
    "print(odds)"
   ]
  },
  {
   "cell_type": "raw",
   "id": "a110f10e",
   "metadata": {},
   "source": [
    "All the items of an iterable for which the lambda function evaluates to true will get added to the odd."
   ]
  },
  {
   "cell_type": "markdown",
   "id": "54a235cf",
   "metadata": {},
   "source": [
    "# The Difference between the  Map() and fileter ()"
   ]
  },
  {
   "cell_type": "markdown",
   "id": "8844ac94",
   "metadata": {},
   "source": [
    "### * Python map() function is used to apply a function on all the elements of specified iterable and return map object.\n",
    "### * Python map object is an iterator, so we can iterate over its elements.\n",
    "### * We can also convert map object to sequence objects such as list, tuple etc. using their factory functions.\n",
    "### * The filter() method constructs an iterator from elements of an iterable for which a function returns true.\n",
    "### * In simple words, filter() method filters the given iterable with the help of a function that tests each element in the iterable to be true or not."
   ]
  },
  {
   "cell_type": "code",
   "execution_count": null,
   "id": "cb1cd0c5",
   "metadata": {},
   "outputs": [],
   "source": []
  }
 ],
 "metadata": {
  "kernelspec": {
   "display_name": "Python 3 (ipykernel)",
   "language": "python",
   "name": "python3"
  },
  "language_info": {
   "codemirror_mode": {
    "name": "ipython",
    "version": 3
   },
   "file_extension": ".py",
   "mimetype": "text/x-python",
   "name": "python",
   "nbconvert_exporter": "python",
   "pygments_lexer": "ipython3",
   "version": "3.10.6"
  }
 },
 "nbformat": 4,
 "nbformat_minor": 5
}
