{
 "cells": [
  {
   "cell_type": "markdown",
   "id": "39c6d597",
   "metadata": {},
   "source": [
    " # class  and Object in python "
   ]
  },
  {
   "cell_type": "code",
   "execution_count": 2,
   "id": "4efb325a",
   "metadata": {},
   "outputs": [],
   "source": [
    "class Alpha: # standard written in chaplital letter in pyton\n",
    "    pass "
   ]
  },
  {
   "cell_type": "code",
   "execution_count": 3,
   "id": "93e936f2",
   "metadata": {},
   "outputs": [],
   "source": [
    "obj = Alpha()"
   ]
  },
  {
   "cell_type": "code",
   "execution_count": 4,
   "id": "69652310",
   "metadata": {},
   "outputs": [
    {
     "data": {
      "text/plain": [
       "__main__.Alpha"
      ]
     },
     "execution_count": 4,
     "metadata": {},
     "output_type": "execute_result"
    }
   ],
   "source": [
    "type(obj)"
   ]
  },
  {
   "cell_type": "raw",
   "id": "42e245d0",
   "metadata": {},
   "source": [
    "------>>     \"main\" is the entry point of the program "
   ]
  },
  {
   "cell_type": "code",
   "execution_count": 7,
   "id": "a8ffc76f",
   "metadata": {},
   "outputs": [
    {
     "name": "stdout",
     "output_type": "stream",
     "text": [
      "<class '__main__.Alpha'>\n"
     ]
    }
   ],
   "source": [
    "if __name__ == \"__main__\":# entry point of the program \n",
    "    obj =Alpha()\n",
    "    print(type(obj))"
   ]
  },
  {
   "cell_type": "code",
   "execution_count": 33,
   "id": "ecc41ade",
   "metadata": {},
   "outputs": [],
   "source": [
    "class vehicle:\n",
    "    wheeler = 4 # class attribute "
   ]
  },
  {
   "cell_type": "code",
   "execution_count": 34,
   "id": "6254685b",
   "metadata": {},
   "outputs": [],
   "source": [
    "car = vehicle()"
   ]
  },
  {
   "cell_type": "code",
   "execution_count": 35,
   "id": "9e31179d",
   "metadata": {},
   "outputs": [
    {
     "data": {
      "text/plain": [
       "__main__.vehicle"
      ]
     },
     "execution_count": 35,
     "metadata": {},
     "output_type": "execute_result"
    }
   ],
   "source": [
    "type(car)"
   ]
  },
  {
   "cell_type": "code",
   "execution_count": 36,
   "id": "87ab9a4b",
   "metadata": {},
   "outputs": [
    {
     "data": {
      "text/plain": [
       "4"
      ]
     },
     "execution_count": 36,
     "metadata": {},
     "output_type": "execute_result"
    }
   ],
   "source": [
    "car.wheeler"
   ]
  },
  {
   "cell_type": "code",
   "execution_count": 37,
   "id": "4cfb95a2",
   "metadata": {},
   "outputs": [],
   "source": [
    "bus = vehicle()"
   ]
  },
  {
   "cell_type": "code",
   "execution_count": 38,
   "id": "0f5a63f4",
   "metadata": {},
   "outputs": [
    {
     "data": {
      "text/plain": [
       "4"
      ]
     },
     "execution_count": 38,
     "metadata": {},
     "output_type": "execute_result"
    }
   ],
   "source": [
    "bus.wheeler"
   ]
  },
  {
   "cell_type": "code",
   "execution_count": 39,
   "id": "e11dfa08",
   "metadata": {},
   "outputs": [],
   "source": [
    "class vehicle:\n",
    "    wheeler = 4 # class attribute \n",
    "    def __init__(self,no_set):# __init__ , it is dendors \n",
    "        print(type(self))\n",
    "        self.no_seat=no_seat # object attribute "
   ]
  },
  {
   "cell_type": "code",
   "execution_count": 40,
   "id": "a7b28669",
   "metadata": {},
   "outputs": [
    {
     "name": "stdout",
     "output_type": "stream",
     "text": [
      "<class '__main__.vehicle'>\n"
     ]
    },
    {
     "ename": "NameError",
     "evalue": "name 'no_seat' is not defined",
     "output_type": "error",
     "traceback": [
      "\u001b[1;31m---------------------------------------------------------------------------\u001b[0m",
      "\u001b[1;31mNameError\u001b[0m                                 Traceback (most recent call last)",
      "Input \u001b[1;32mIn [40]\u001b[0m, in \u001b[0;36m<cell line: 1>\u001b[1;34m()\u001b[0m\n\u001b[1;32m----> 1\u001b[0m car\u001b[38;5;241m=\u001b[39m\u001b[43mvehicle\u001b[49m\u001b[43m(\u001b[49m\u001b[38;5;241;43m4\u001b[39;49m\u001b[43m)\u001b[49m\n",
      "Input \u001b[1;32mIn [39]\u001b[0m, in \u001b[0;36mvehicle.__init__\u001b[1;34m(self, no_set)\u001b[0m\n\u001b[0;32m      3\u001b[0m \u001b[38;5;28;01mdef\u001b[39;00m \u001b[38;5;21m__init__\u001b[39m(\u001b[38;5;28mself\u001b[39m,no_set):\u001b[38;5;66;03m# __init__ , it is dendors \u001b[39;00m\n\u001b[0;32m      4\u001b[0m     \u001b[38;5;28mprint\u001b[39m(\u001b[38;5;28mtype\u001b[39m(\u001b[38;5;28mself\u001b[39m))\n\u001b[1;32m----> 5\u001b[0m     \u001b[38;5;28mself\u001b[39m\u001b[38;5;241m.\u001b[39mno_seat\u001b[38;5;241m=\u001b[39m\u001b[43mno_seat\u001b[49m\n",
      "\u001b[1;31mNameError\u001b[0m: name 'no_seat' is not defined"
     ]
    }
   ],
   "source": [
    "car=vehicle(4)"
   ]
  },
  {
   "cell_type": "code",
   "execution_count": 41,
   "id": "1a2028a4",
   "metadata": {},
   "outputs": [
    {
     "ename": "AttributeError",
     "evalue": "'vehicle' object has no attribute 'no_seat'",
     "output_type": "error",
     "traceback": [
      "\u001b[1;31m---------------------------------------------------------------------------\u001b[0m",
      "\u001b[1;31mAttributeError\u001b[0m                            Traceback (most recent call last)",
      "Input \u001b[1;32mIn [41]\u001b[0m, in \u001b[0;36m<cell line: 1>\u001b[1;34m()\u001b[0m\n\u001b[1;32m----> 1\u001b[0m \u001b[43mcar\u001b[49m\u001b[38;5;241;43m.\u001b[39;49m\u001b[43mno_seat\u001b[49m\n",
      "\u001b[1;31mAttributeError\u001b[0m: 'vehicle' object has no attribute 'no_seat'"
     ]
    }
   ],
   "source": [
    "car.no_seat"
   ]
  },
  {
   "cell_type": "code",
   "execution_count": null,
   "id": "60e90d31",
   "metadata": {},
   "outputs": [],
   "source": []
  }
 ],
 "metadata": {
  "kernelspec": {
   "display_name": "Python 3 (ipykernel)",
   "language": "python",
   "name": "python3"
  },
  "language_info": {
   "codemirror_mode": {
    "name": "ipython",
    "version": 3
   },
   "file_extension": ".py",
   "mimetype": "text/x-python",
   "name": "python",
   "nbconvert_exporter": "python",
   "pygments_lexer": "ipython3",
   "version": "3.8.10"
  }
 },
 "nbformat": 4,
 "nbformat_minor": 5
}
