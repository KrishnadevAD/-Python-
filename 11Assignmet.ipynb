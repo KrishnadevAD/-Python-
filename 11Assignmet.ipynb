{
 "cells": [
  {
   "cell_type": "markdown",
   "id": "bf01acde",
   "metadata": {},
   "source": [
    "### _Assignment_"
   ]
  },
  {
   "cell_type": "markdown",
   "id": "df6e6bea",
   "metadata": {},
   "source": [
    "### *__Questions__\n"
   ]
  },
  {
   "cell_type": "code",
   "execution_count": null,
   "id": "203e4b5c",
   "metadata": {},
   "outputs": [],
   "source": [
    "start  the python interpreter and use it as a calculator "
   ]
  },
  {
   "cell_type": "markdown",
   "id": "ccfcf01c",
   "metadata": {},
   "source": [
    "0.)   How many seconds are there in 42 minutes 42 seconds?\n",
    "\n"
   ]
  },
  {
   "cell_type": "markdown",
   "id": "c26f6b70",
   "metadata": {},
   "source": [
    "1.)   How many miles in 10 kilometers ? (hint: there are 1.609 kilometers in a mile )."
   ]
  },
  {
   "cell_type": "markdown",
   "id": "7b32ea83",
   "metadata": {},
   "source": [
    "2.)   If you run a 10 kilometer race in 42 minutes 42 seconds , what is your average pace ( time per mile in minutes and             seconds ) ? "
   ]
  },
  {
   "cell_type": "markdown",
   "id": "ab8a2bd5",
   "metadata": {},
   "source": [
    "3.)   The volume of  a sphere with radius r is 4/3 pi r^3 . What is the  volume of a sphere with radius 5 ?"
   ]
  },
  {
   "cell_type": "markdown",
   "id": "923a1ec0",
   "metadata": {},
   "source": [
    " Question Number(0.)\n",
    "\n",
    "we know that \n",
    "60 second = 1 minutes\n",
    "60 minutes = 1 hours \n",
    "\n",
    "    "
   ]
  },
  {
   "cell_type": "code",
   "execution_count": 6,
   "id": "6dc7997c",
   "metadata": {},
   "outputs": [],
   "source": [
    "  first_number = 42 ## in minutes \n",
    "  Second_number =  42 ## seconds\n",
    "## converting the minute into seconds \n",
    " #fist number = 60*42 #second "
   ]
  },
  {
   "cell_type": "code",
   "execution_count": 7,
   "id": "8351def2",
   "metadata": {},
   "outputs": [],
   "source": [
    "first_number = 60*42 # in seconds"
   ]
  },
  {
   "cell_type": "code",
   "execution_count": 8,
   "id": "b414ff7c",
   "metadata": {},
   "outputs": [],
   "source": [
    " add = first_number + Second_number "
   ]
  },
  {
   "cell_type": "code",
   "execution_count": 22,
   "id": "c166a5d7",
   "metadata": {},
   "outputs": [
    {
     "name": "stdout",
     "output_type": "stream",
     "text": [
      " There are 2562  Seconds in 42 minutes and 42 seconds\n"
     ]
    }
   ],
   "source": [
    "print(\" There are {}  Seconds in 42 minutes and 42 seconds\".format(add))\n"
   ]
  },
  {
   "cell_type": "markdown",
   "id": "c4b79eb3",
   "metadata": {},
   "source": [
    "Question Number(1.)\n",
    "\n",
    " (hint: there are 1.609 kilometers in a mile ).\n",
    "  1.609 km =1 miles \n",
    "  1 km =1/1.609 miles \n",
    "  10 km  = (1/1.609)*10 miles \n",
    " "
   ]
  },
  {
   "cell_type": "code",
   "execution_count": 16,
   "id": "df3c49dd",
   "metadata": {},
   "outputs": [],
   "source": [
    " km = 10  # into miles\n",
    " miles = (1/1.609)*10  # in miles \n",
    " "
   ]
  },
  {
   "cell_type": "code",
   "execution_count": 17,
   "id": "33c86aab",
   "metadata": {},
   "outputs": [
    {
     "name": "stdout",
     "output_type": "stream",
     "text": [
      " There are 6.215040397762586 Miles in 10 Kilometers\n"
     ]
    }
   ],
   "source": [
    "print(\" There are {} Miles in 10 Kilometers\".format(miles))"
   ]
  },
  {
   "cell_type": "markdown",
   "id": "6a5c5029",
   "metadata": {},
   "source": [
    " Question Number(2.)\n",
    " "
   ]
  },
  {
   "cell_type": "code",
   "execution_count": 26,
   "id": "a9acae01",
   "metadata": {},
   "outputs": [
    {
     "name": "stdout",
     "output_type": "stream",
     "text": [
      " Average pace is2568.2150403977626 Miles per second. \n",
      "If i run a 10 kilometer race in 42 minutes 42 seconds.\n"
     ]
    }
   ],
   "source": [
    "average =add + miles\n",
    "print(\" Average pace is{} Miles per second. \".format(average) )\n",
    "print(\"If i run a 10 kilometer race in 42 minutes 42 seconds.\")"
   ]
  },
  {
   "cell_type": "markdown",
   "id": "fb8791d0",
   "metadata": {},
   "source": [
    " Question Number (3.)\n",
    " volume of sphere is 4/3*Pi*r**3\n",
    "  "
   ]
  },
  {
   "cell_type": "code",
   "execution_count": 28,
   "id": "ad42b6d9",
   "metadata": {},
   "outputs": [],
   "source": [
    " radius = 5 \n",
    " volume = ((4/3)*(22/7)*(radius**3))"
   ]
  },
  {
   "cell_type": "code",
   "execution_count": 31,
   "id": "3a243adf",
   "metadata": {},
   "outputs": [
    {
     "name": "stdout",
     "output_type": "stream",
     "text": [
      " The volume of a sphere with radius 5 is 523.8095238095237 \n"
     ]
    }
   ],
   "source": [
    " print(\" The volume of a sphere with radius 5 is {} \".format(volume))"
   ]
  },
  {
   "cell_type": "code",
   "execution_count": null,
   "id": "7ebcf2d2",
   "metadata": {},
   "outputs": [],
   "source": []
  }
 ],
 "metadata": {
  "kernelspec": {
   "display_name": "Python 3 (ipykernel)",
   "language": "python",
   "name": "python3"
  },
  "language_info": {
   "codemirror_mode": {
    "name": "ipython",
    "version": 3
   },
   "file_extension": ".py",
   "mimetype": "text/x-python",
   "name": "python",
   "nbconvert_exporter": "python",
   "pygments_lexer": "ipython3",
   "version": "3.8.10"
  }
 },
 "nbformat": 4,
 "nbformat_minor": 5
}
