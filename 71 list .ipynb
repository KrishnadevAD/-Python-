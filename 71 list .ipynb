{
 "cells": [
  {
   "cell_type": "raw",
   "id": "9ee1c897",
   "metadata": {},
   "source": []
  },
  {
   "cell_type": "code",
   "execution_count": 1,
   "id": "2d10f808",
   "metadata": {},
   "outputs": [],
   "source": [
    "cars =['maruti','audi','bmw','tata']"
   ]
  },
  {
   "cell_type": "code",
   "execution_count": 2,
   "id": "6e18faad",
   "metadata": {},
   "outputs": [
    {
     "data": {
      "text/plain": [
       "list"
      ]
     },
     "execution_count": 2,
     "metadata": {},
     "output_type": "execute_result"
    }
   ],
   "source": [
    "type(cars)"
   ]
  },
  {
   "cell_type": "code",
   "execution_count": 3,
   "id": "36effd7f",
   "metadata": {},
   "outputs": [
    {
     "data": {
      "text/plain": [
       "['maruti', 'audi', 'bmw', 'tata']"
      ]
     },
     "execution_count": 3,
     "metadata": {},
     "output_type": "execute_result"
    }
   ],
   "source": [
    "cars"
   ]
  },
  {
   "cell_type": "code",
   "execution_count": 4,
   "id": "dcb5002c",
   "metadata": {},
   "outputs": [
    {
     "data": {
      "text/plain": [
       "'tata'"
      ]
     },
     "execution_count": 4,
     "metadata": {},
     "output_type": "execute_result"
    }
   ],
   "source": [
    "cars[-1] # negative indexing"
   ]
  },
  {
   "cell_type": "code",
   "execution_count": 5,
   "id": "d6798b09",
   "metadata": {},
   "outputs": [
    {
     "data": {
      "text/plain": [
       "'audi'"
      ]
     },
     "execution_count": 5,
     "metadata": {},
     "output_type": "execute_result"
    }
   ],
   "source": [
    "cars[-3]"
   ]
  },
  {
   "cell_type": "code",
   "execution_count": 7,
   "id": "e12e0823",
   "metadata": {},
   "outputs": [
    {
     "data": {
      "text/plain": [
       "['maruti', 'audi', 'bmw']"
      ]
     },
     "execution_count": 7,
     "metadata": {},
     "output_type": "execute_result"
    }
   ],
   "source": [
    "cars[:3] # slicing :  exclude 3 rd item means 0 , 1,2 index item  are printd "
   ]
  },
  {
   "cell_type": "code",
   "execution_count": 8,
   "id": "a11d97ef",
   "metadata": {},
   "outputs": [
    {
     "data": {
      "text/plain": [
       "['bmw', 'tata']"
      ]
     },
     "execution_count": 8,
     "metadata": {},
     "output_type": "execute_result"
    }
   ],
   "source": [
    "cars[2:]# slicing  prints items in list from inndex 2"
   ]
  },
  {
   "cell_type": "code",
   "execution_count": 9,
   "id": "4bed0172",
   "metadata": {},
   "outputs": [
    {
     "data": {
      "text/plain": [
       "['audi', 'bmw']"
      ]
     },
     "execution_count": 9,
     "metadata": {},
     "output_type": "execute_result"
    }
   ],
   "source": [
    "cars[1:3]#  slicing from index 1 to 3 "
   ]
  },
  {
   "cell_type": "markdown",
   "id": "5bfe9a6f",
   "metadata": {},
   "source": [
    "## insert() methods in python "
   ]
  },
  {
   "cell_type": "code",
   "execution_count": 17,
   "id": "4319b27a",
   "metadata": {},
   "outputs": [],
   "source": [
    "cars =['maruti','audi','bmw','tata']"
   ]
  },
  {
   "cell_type": "code",
   "execution_count": 18,
   "id": "ca31c279",
   "metadata": {},
   "outputs": [
    {
     "data": {
      "text/plain": [
       "['maruti', 'audi', 'bmw', 'tata']"
      ]
     },
     "execution_count": 18,
     "metadata": {},
     "output_type": "execute_result"
    }
   ],
   "source": [
    "cars"
   ]
  },
  {
   "cell_type": "code",
   "execution_count": 19,
   "id": "f5cc5ce9",
   "metadata": {},
   "outputs": [
    {
     "data": {
      "text/plain": [
       "4"
      ]
     },
     "execution_count": 19,
     "metadata": {},
     "output_type": "execute_result"
    }
   ],
   "source": [
    "len(cars)"
   ]
  },
  {
   "cell_type": "code",
   "execution_count": 20,
   "id": "a4345214",
   "metadata": {},
   "outputs": [],
   "source": [
    "cars.insert(2,\"Tesla\")"
   ]
  },
  {
   "cell_type": "code",
   "execution_count": 21,
   "id": "6eb5765c",
   "metadata": {},
   "outputs": [
    {
     "data": {
      "text/plain": [
       "['maruti', 'audi', 'Tesla', 'bmw', 'tata']"
      ]
     },
     "execution_count": 21,
     "metadata": {},
     "output_type": "execute_result"
    }
   ],
   "source": [
    "cars"
   ]
  },
  {
   "cell_type": "code",
   "execution_count": 22,
   "id": "cb1a8db1",
   "metadata": {},
   "outputs": [
    {
     "data": {
      "text/plain": [
       "5"
      ]
     },
     "execution_count": 22,
     "metadata": {},
     "output_type": "execute_result"
    }
   ],
   "source": [
    "len(cars)"
   ]
  },
  {
   "cell_type": "markdown",
   "id": "9a755e47",
   "metadata": {},
   "source": [
    "## append() method in pythod list "
   ]
  },
  {
   "cell_type": "markdown",
   "id": "a91e3d5a",
   "metadata": {},
   "source": [
    "# most important "
   ]
  },
  {
   "cell_type": "code",
   "execution_count": 23,
   "id": "5d31c806",
   "metadata": {},
   "outputs": [],
   "source": [
    "num=[44,33,-8.5]"
   ]
  },
  {
   "cell_type": "code",
   "execution_count": 24,
   "id": "7db30b2e",
   "metadata": {},
   "outputs": [
    {
     "data": {
      "text/plain": [
       "[44, 33, -8.5]"
      ]
     },
     "execution_count": 24,
     "metadata": {},
     "output_type": "execute_result"
    }
   ],
   "source": [
    "num"
   ]
  },
  {
   "cell_type": "code",
   "execution_count": 25,
   "id": "3850263e",
   "metadata": {},
   "outputs": [],
   "source": [
    "num.append(20)"
   ]
  },
  {
   "cell_type": "code",
   "execution_count": 26,
   "id": "2298dc8d",
   "metadata": {},
   "outputs": [
    {
     "data": {
      "text/plain": [
       "[44, 33, -8.5, 20]"
      ]
     },
     "execution_count": 26,
     "metadata": {},
     "output_type": "execute_result"
    }
   ],
   "source": [
    "num"
   ]
  },
  {
   "cell_type": "markdown",
   "id": "e4837988",
   "metadata": {},
   "source": [
    " ####  list initialization technique ( khai list banaune ...........)"
   ]
  },
  {
   "cell_type": "code",
   "execution_count": 31,
   "id": "7d110ba2",
   "metadata": {},
   "outputs": [],
   "source": [
    "list1 = []\n"
   ]
  },
  {
   "cell_type": "code",
   "execution_count": 32,
   "id": "df72f946",
   "metadata": {},
   "outputs": [
    {
     "data": {
      "text/plain": [
       "[]"
      ]
     },
     "execution_count": 32,
     "metadata": {},
     "output_type": "execute_result"
    }
   ],
   "source": [
    "list1"
   ]
  },
  {
   "cell_type": "code",
   "execution_count": 33,
   "id": "de063bf0",
   "metadata": {},
   "outputs": [
    {
     "data": {
      "text/plain": [
       "list"
      ]
     },
     "execution_count": 33,
     "metadata": {},
     "output_type": "execute_result"
    }
   ],
   "source": [
    "type(list1)"
   ]
  },
  {
   "cell_type": "code",
   "execution_count": 36,
   "id": "c8e2e866",
   "metadata": {},
   "outputs": [
    {
     "ename": "TypeError",
     "evalue": "'list' object is not callable",
     "output_type": "error",
     "traceback": [
      "\u001b[1;31m---------------------------------------------------------------------------\u001b[0m",
      "\u001b[1;31mTypeError\u001b[0m                                 Traceback (most recent call last)",
      "Input \u001b[1;32mIn [36]\u001b[0m, in \u001b[0;36m<cell line: 1>\u001b[1;34m()\u001b[0m\n\u001b[1;32m----> 1\u001b[0m list2 \u001b[38;5;241m=\u001b[39m \u001b[38;5;28;43mlist\u001b[39;49m\u001b[43m(\u001b[49m\u001b[43m)\u001b[49m\n",
      "\u001b[1;31mTypeError\u001b[0m: 'list' object is not callable"
     ]
    }
   ],
   "source": [
    "list2 = list()# list initialization"
   ]
  },
  {
   "cell_type": "code",
   "execution_count": 37,
   "id": "43b7a1d5",
   "metadata": {},
   "outputs": [
    {
     "ename": "NameError",
     "evalue": "name 'list2' is not defined",
     "output_type": "error",
     "traceback": [
      "\u001b[1;31m---------------------------------------------------------------------------\u001b[0m",
      "\u001b[1;31mNameError\u001b[0m                                 Traceback (most recent call last)",
      "Input \u001b[1;32mIn [37]\u001b[0m, in \u001b[0;36m<cell line: 1>\u001b[1;34m()\u001b[0m\n\u001b[1;32m----> 1\u001b[0m \u001b[43mlist2\u001b[49m\n",
      "\u001b[1;31mNameError\u001b[0m: name 'list2' is not defined"
     ]
    }
   ],
   "source": [
    "list2 "
   ]
  },
  {
   "cell_type": "code",
   "execution_count": 38,
   "id": "001aae7f",
   "metadata": {},
   "outputs": [
    {
     "ename": "NameError",
     "evalue": "name 'ist2' is not defined",
     "output_type": "error",
     "traceback": [
      "\u001b[1;31m---------------------------------------------------------------------------\u001b[0m",
      "\u001b[1;31mNameError\u001b[0m                                 Traceback (most recent call last)",
      "Input \u001b[1;32mIn [38]\u001b[0m, in \u001b[0;36m<cell line: 1>\u001b[1;34m()\u001b[0m\n\u001b[1;32m----> 1\u001b[0m \u001b[38;5;28mtype\u001b[39m(\u001b[43mist2\u001b[49m)\n",
      "\u001b[1;31mNameError\u001b[0m: name 'ist2' is not defined"
     ]
    }
   ],
   "source": [
    "type(ist2)"
   ]
  },
  {
   "cell_type": "code",
   "execution_count": 39,
   "id": "261ee41e",
   "metadata": {},
   "outputs": [],
   "source": [
    "list1=[]"
   ]
  },
  {
   "cell_type": "code",
   "execution_count": 40,
   "id": "429c6038",
   "metadata": {},
   "outputs": [],
   "source": [
    "list1.append(44)"
   ]
  },
  {
   "cell_type": "code",
   "execution_count": 41,
   "id": "750d859f",
   "metadata": {},
   "outputs": [
    {
     "data": {
      "text/plain": [
       "[44]"
      ]
     },
     "execution_count": 41,
     "metadata": {},
     "output_type": "execute_result"
    }
   ],
   "source": [
    "list1"
   ]
  },
  {
   "cell_type": "code",
   "execution_count": 42,
   "id": "626295d9",
   "metadata": {},
   "outputs": [],
   "source": [
    "list1.append(8888)"
   ]
  },
  {
   "cell_type": "code",
   "execution_count": 43,
   "id": "c0fb2ffa",
   "metadata": {},
   "outputs": [
    {
     "data": {
      "text/plain": [
       "[44, 8888]"
      ]
     },
     "execution_count": 43,
     "metadata": {},
     "output_type": "execute_result"
    }
   ],
   "source": [
    "list1"
   ]
  },
  {
   "cell_type": "code",
   "execution_count": 44,
   "id": "7548154d",
   "metadata": {},
   "outputs": [],
   "source": [
    "list2=[44,555,4]\n"
   ]
  },
  {
   "cell_type": "code",
   "execution_count": 66,
   "id": "936e6e55",
   "metadata": {},
   "outputs": [
    {
     "data": {
      "text/plain": [
       "list"
      ]
     },
     "execution_count": 66,
     "metadata": {},
     "output_type": "execute_result"
    }
   ],
   "source": [
    "type(list2)"
   ]
  },
  {
   "cell_type": "code",
   "execution_count": 45,
   "id": "b80ced11",
   "metadata": {},
   "outputs": [],
   "source": [
    "list2.append([2,3])"
   ]
  },
  {
   "cell_type": "code",
   "execution_count": 58,
   "id": "f72357ca",
   "metadata": {},
   "outputs": [
    {
     "data": {
      "text/plain": [
       "[44, 555, 4, [2, 3]]"
      ]
     },
     "execution_count": 58,
     "metadata": {},
     "output_type": "execute_result"
    }
   ],
   "source": [
    "list2 # list of list "
   ]
  },
  {
   "cell_type": "code",
   "execution_count": 59,
   "id": "f2092819",
   "metadata": {},
   "outputs": [
    {
     "data": {
      "text/plain": [
       "4"
      ]
     },
     "execution_count": 59,
     "metadata": {},
     "output_type": "execute_result"
    }
   ],
   "source": [
    "len(list2)"
   ]
  },
  {
   "cell_type": "code",
   "execution_count": 64,
   "id": "2e00479a",
   "metadata": {},
   "outputs": [
    {
     "data": {
      "text/plain": [
       "[2, 3]"
      ]
     },
     "execution_count": 64,
     "metadata": {},
     "output_type": "execute_result"
    }
   ],
   "source": [
    "list2[3]"
   ]
  },
  {
   "cell_type": "code",
   "execution_count": 65,
   "id": "8df579e4",
   "metadata": {},
   "outputs": [
    {
     "data": {
      "text/plain": [
       "list"
      ]
     },
     "execution_count": 65,
     "metadata": {},
     "output_type": "execute_result"
    }
   ],
   "source": [
    "type(list2)"
   ]
  },
  {
   "cell_type": "code",
   "execution_count": 61,
   "id": "e34db084",
   "metadata": {},
   "outputs": [
    {
     "data": {
      "text/plain": [
       "2"
      ]
     },
     "execution_count": 61,
     "metadata": {},
     "output_type": "execute_result"
    }
   ],
   "source": [
    "list2[3][0]"
   ]
  },
  {
   "cell_type": "code",
   "execution_count": 62,
   "id": "ff3a9583",
   "metadata": {},
   "outputs": [
    {
     "data": {
      "text/plain": [
       "3"
      ]
     },
     "execution_count": 62,
     "metadata": {},
     "output_type": "execute_result"
    }
   ],
   "source": [
    "list2[3][1]"
   ]
  },
  {
   "cell_type": "code",
   "execution_count": 63,
   "id": "aed9f327",
   "metadata": {},
   "outputs": [
    {
     "ename": "IndexError",
     "evalue": "list index out of range",
     "output_type": "error",
     "traceback": [
      "\u001b[1;31m---------------------------------------------------------------------------\u001b[0m",
      "\u001b[1;31mIndexError\u001b[0m                                Traceback (most recent call last)",
      "Input \u001b[1;32mIn [63]\u001b[0m, in \u001b[0;36m<cell line: 1>\u001b[1;34m()\u001b[0m\n\u001b[1;32m----> 1\u001b[0m \u001b[43mlist2\u001b[49m\u001b[43m[\u001b[49m\u001b[38;5;241;43m3\u001b[39;49m\u001b[43m]\u001b[49m\u001b[43m[\u001b[49m\u001b[38;5;241;43m2\u001b[39;49m\u001b[43m]\u001b[49m\n",
      "\u001b[1;31mIndexError\u001b[0m: list index out of range"
     ]
    }
   ],
   "source": [
    "list2[3][2]# list out of  range "
   ]
  },
  {
   "cell_type": "markdown",
   "id": "ab5c6db7",
   "metadata": {},
   "source": [
    "# extend( )  method s in  python list "
   ]
  },
  {
   "cell_type": "code",
   "execution_count": 67,
   "id": "dbc03723",
   "metadata": {},
   "outputs": [],
   "source": [
    "cars1=['tata','ford']\n",
    "cars2=['bmw','merceres','tesla']"
   ]
  },
  {
   "cell_type": "code",
   "execution_count": 68,
   "id": "890d2b32",
   "metadata": {},
   "outputs": [],
   "source": [
    "cars1.extend(cars2) #  it will concatenate  the valaues in the same list "
   ]
  },
  {
   "cell_type": "code",
   "execution_count": 69,
   "id": "75f3e4fd",
   "metadata": {},
   "outputs": [
    {
     "data": {
      "text/plain": [
       "['tata', 'ford', 'bmw', 'merceres', 'tesla']"
      ]
     },
     "execution_count": 69,
     "metadata": {},
     "output_type": "execute_result"
    }
   ],
   "source": [
    "cars1"
   ]
  },
  {
   "cell_type": "code",
   "execution_count": 71,
   "id": "293ee1cf",
   "metadata": {},
   "outputs": [
    {
     "data": {
      "text/plain": [
       "['bmw', 'merceres', 'tesla']"
      ]
     },
     "execution_count": 71,
     "metadata": {},
     "output_type": "execute_result"
    }
   ],
   "source": [
    "cars2"
   ]
  },
  {
   "cell_type": "code",
   "execution_count": 72,
   "id": "0a594821",
   "metadata": {},
   "outputs": [],
   "source": [
    "cars2.extend(cars1)"
   ]
  },
  {
   "cell_type": "code",
   "execution_count": 73,
   "id": "b87ed267",
   "metadata": {},
   "outputs": [
    {
     "data": {
      "text/plain": [
       "['bmw', 'merceres', 'tesla', 'tata', 'ford', 'bmw', 'merceres', 'tesla']"
      ]
     },
     "execution_count": 73,
     "metadata": {},
     "output_type": "execute_result"
    }
   ],
   "source": [
    "cars2\n"
   ]
  },
  {
   "cell_type": "code",
   "execution_count": 76,
   "id": "6386379e",
   "metadata": {},
   "outputs": [],
   "source": [
    "cars3 =cars1 + cars2 # concarenatiton "
   ]
  },
  {
   "cell_type": "code",
   "execution_count": 77,
   "id": "0330b450",
   "metadata": {},
   "outputs": [
    {
     "data": {
      "text/plain": [
       "['tata',\n",
       " 'ford',\n",
       " 'bmw',\n",
       " 'merceres',\n",
       " 'tesla',\n",
       " 'bmw',\n",
       " 'merceres',\n",
       " 'tesla',\n",
       " 'tata',\n",
       " 'ford',\n",
       " 'bmw',\n",
       " 'merceres',\n",
       " 'tesla']"
      ]
     },
     "execution_count": 77,
     "metadata": {},
     "output_type": "execute_result"
    }
   ],
   "source": [
    "cars3"
   ]
  },
  {
   "cell_type": "raw",
   "id": "5c64111c",
   "metadata": {},
   "source": [
    " you can append itmes on lists - add additional item on\n",
    "    "
   ]
  },
  {
   "cell_type": "markdown",
   "id": "da1afdf5",
   "metadata": {},
   "source": []
  },
  {
   "cell_type": "markdown",
   "id": "131d4a62",
   "metadata": {},
   "source": [
    "# remove() method in python list"
   ]
  },
  {
   "cell_type": "code",
   "execution_count": 85,
   "id": "eb6a0d12",
   "metadata": {},
   "outputs": [],
   "source": [
    "cars1=['tata','ford']\n",
    "cars2=['bmw','merceres','tesla','bmw', 'merceres', 'tesla']"
   ]
  },
  {
   "cell_type": "code",
   "execution_count": 86,
   "id": "42193c10",
   "metadata": {},
   "outputs": [
    {
     "data": {
      "text/plain": [
       "['bmw', 'merceres', 'tesla', 'bmw', 'merceres', 'tesla']"
      ]
     },
     "execution_count": 86,
     "metadata": {},
     "output_type": "execute_result"
    }
   ],
   "source": [
    "cars2"
   ]
  },
  {
   "cell_type": "raw",
   "id": "cab6df96",
   "metadata": {},
   "source": [
    " in pyton all them are object because it is object oriented , so suppose it usese list class object , \n",
    "    to access the object we need to access bu useng . operator"
   ]
  },
  {
   "cell_type": "code",
   "execution_count": 87,
   "id": "c104ff94",
   "metadata": {},
   "outputs": [],
   "source": [
    "cars2.remove('tesla')"
   ]
  },
  {
   "cell_type": "code",
   "execution_count": 88,
   "id": "04b255dd",
   "metadata": {},
   "outputs": [
    {
     "data": {
      "text/plain": [
       "['bmw', 'merceres', 'bmw', 'merceres', 'tesla']"
      ]
     },
     "execution_count": 88,
     "metadata": {},
     "output_type": "execute_result"
    }
   ],
   "source": [
    "cars2"
   ]
  },
  {
   "cell_type": "raw",
   "id": "c8b5040f",
   "metadata": {},
   "source": [
    " hence it removes the first  occurance of the gven item "
   ]
  },
  {
   "cell_type": "markdown",
   "id": "e5538dae",
   "metadata": {},
   "source": [
    "# how to google search --> python list methods python .org ( appply this accordingly)"
   ]
  },
  {
   "cell_type": "markdown",
   "id": "c34429a3",
   "metadata": {},
   "source": [
    "# pthon list as stack \n",
    "# pop() methods in list "
   ]
  },
  {
   "cell_type": "code",
   "execution_count": 91,
   "id": "b700021a",
   "metadata": {},
   "outputs": [
    {
     "ename": "SyntaxError",
     "evalue": "invalid syntax (2307009526.py, line 1)",
     "output_type": "error",
     "traceback": [
      "\u001b[1;36m  Input \u001b[1;32mIn [91]\u001b[1;36m\u001b[0m\n\u001b[1;33m    <img src=\"https://www.programiz.com/dsa/stack\">\u001b[0m\n\u001b[1;37m    ^\u001b[0m\n\u001b[1;31mSyntaxError\u001b[0m\u001b[1;31m:\u001b[0m invalid syntax\n"
     ]
    }
   ],
   "source": [
    "<img src=\"https://www.programiz.com/dsa/stack\">\n"
   ]
  },
  {
   "cell_type": "code",
   "execution_count": 92,
   "id": "46374f5e",
   "metadata": {},
   "outputs": [
    {
     "ename": "SyntaxError",
     "evalue": "invalid syntax (2297282666.py, line 1)",
     "output_type": "error",
     "traceback": [
      "\u001b[1;36m  Input \u001b[1;32mIn [92]\u001b[1;36m\u001b[0m\n\u001b[1;33m    <img src=\"https://www.programiz.com/dsa/stack\">\u001b[0m\n\u001b[1;37m    ^\u001b[0m\n\u001b[1;31mSyntaxError\u001b[0m\u001b[1;31m:\u001b[0m invalid syntax\n"
     ]
    }
   ],
   "source": [
    "<img src=\"\">"
   ]
  },
  {
   "cell_type": "markdown",
   "id": "b93a084e",
   "metadata": {},
   "source": [
    " # stack   works with LIFO principle \n",
    "  # LIFO : last In first out \n",
    "  "
   ]
  },
  {
   "cell_type": "code",
   "execution_count": 104,
   "id": "0bc27cf6",
   "metadata": {},
   "outputs": [],
   "source": [
    "list =[2,55,11,6,5]"
   ]
  },
  {
   "cell_type": "code",
   "execution_count": 105,
   "id": "50c9d184",
   "metadata": {},
   "outputs": [
    {
     "data": {
      "text/plain": [
       "[2, 55, 11, 6, 5]"
      ]
     },
     "execution_count": 105,
     "metadata": {},
     "output_type": "execute_result"
    }
   ],
   "source": [
    "list"
   ]
  },
  {
   "cell_type": "code",
   "execution_count": 106,
   "id": "3b33b50c",
   "metadata": {},
   "outputs": [],
   "source": [
    "list.append(55)"
   ]
  },
  {
   "cell_type": "code",
   "execution_count": 107,
   "id": "d0457aff",
   "metadata": {},
   "outputs": [
    {
     "data": {
      "text/plain": [
       "[2, 55, 11, 6, 5, 55]"
      ]
     },
     "execution_count": 107,
     "metadata": {},
     "output_type": "execute_result"
    }
   ],
   "source": [
    "list"
   ]
  },
  {
   "cell_type": "code",
   "execution_count": 108,
   "id": "73464864",
   "metadata": {},
   "outputs": [
    {
     "data": {
      "text/plain": [
       "55"
      ]
     },
     "execution_count": 108,
     "metadata": {},
     "output_type": "execute_result"
    }
   ],
   "source": [
    "list.pop() # temoves list digit"
   ]
  },
  {
   "cell_type": "code",
   "execution_count": 109,
   "id": "5931c35c",
   "metadata": {},
   "outputs": [
    {
     "data": {
      "text/plain": [
       "5"
      ]
     },
     "execution_count": 109,
     "metadata": {},
     "output_type": "execute_result"
    }
   ],
   "source": [
    "list.pop()# removes last digit "
   ]
  },
  {
   "cell_type": "markdown",
   "id": "fadc9b6f",
   "metadata": {},
   "source": [
    "# pop methods with index in python list "
   ]
  },
  {
   "cell_type": "code",
   "execution_count": 112,
   "id": "d89fda44",
   "metadata": {},
   "outputs": [],
   "source": [
    "\n",
    "cars2=['bmw','merceres','tesla','tata','ford']"
   ]
  },
  {
   "cell_type": "code",
   "execution_count": 113,
   "id": "6fb13b22",
   "metadata": {},
   "outputs": [
    {
     "data": {
      "text/plain": [
       "'tata'"
      ]
     },
     "execution_count": 113,
     "metadata": {},
     "output_type": "execute_result"
    }
   ],
   "source": [
    "cars2.pop(3)"
   ]
  },
  {
   "cell_type": "raw",
   "id": "bcb631c3",
   "metadata": {},
   "source": []
  },
  {
   "cell_type": "code",
   "execution_count": 115,
   "id": "e37b3d1b",
   "metadata": {},
   "outputs": [
    {
     "data": {
      "text/plain": [
       "['bmw', 'merceres', 'tesla', 'ford']"
      ]
     },
     "execution_count": 115,
     "metadata": {},
     "output_type": "execute_result"
    }
   ],
   "source": [
    "cars2 # it pop up the values of list at the positon 3 "
   ]
  },
  {
   "cell_type": "code",
   "execution_count": 116,
   "id": "d670af46",
   "metadata": {},
   "outputs": [
    {
     "data": {
      "text/plain": [
       "'ford'"
      ]
     },
     "execution_count": 116,
     "metadata": {},
     "output_type": "execute_result"
    }
   ],
   "source": [
    "cars2.pop()"
   ]
  },
  {
   "cell_type": "code",
   "execution_count": 117,
   "id": "56fc16cf",
   "metadata": {},
   "outputs": [
    {
     "data": {
      "text/plain": [
       "['bmw', 'merceres', 'tesla']"
      ]
     },
     "execution_count": 117,
     "metadata": {},
     "output_type": "execute_result"
    }
   ],
   "source": [
    "cars2"
   ]
  },
  {
   "cell_type": "markdown",
   "id": "e73e9cb0",
   "metadata": {},
   "source": [
    "# shorting methods in python"
   ]
  },
  {
   "cell_type": "code",
   "execution_count": 118,
   "id": "a537160e",
   "metadata": {},
   "outputs": [],
   "source": [
    "data=[88,-6,11,2,48,4,55,6666,666,453]"
   ]
  },
  {
   "cell_type": "code",
   "execution_count": 124,
   "id": "0c1b0afb",
   "metadata": {},
   "outputs": [],
   "source": [
    "data.sort() # by default it sorts in ascending order "
   ]
  },
  {
   "cell_type": "code",
   "execution_count": 125,
   "id": "98721659",
   "metadata": {},
   "outputs": [
    {
     "data": {
      "text/plain": [
       "[-6, 2, 4, 11, 48, 55, 88, 453, 666, 6666]"
      ]
     },
     "execution_count": 125,
     "metadata": {},
     "output_type": "execute_result"
    }
   ],
   "source": [
    "data"
   ]
  },
  {
   "cell_type": "code",
   "execution_count": 126,
   "id": "0a215994",
   "metadata": {},
   "outputs": [],
   "source": [
    "data.sort(reverse=True) # it short in descending order "
   ]
  },
  {
   "cell_type": "code",
   "execution_count": 127,
   "id": "b89ad9b0",
   "metadata": {},
   "outputs": [
    {
     "data": {
      "text/plain": [
       "[6666, 666, 453, 88, 55, 48, 11, 4, 2, -6]"
      ]
     },
     "execution_count": 127,
     "metadata": {},
     "output_type": "execute_result"
    }
   ],
   "source": [
    "data"
   ]
  },
  {
   "cell_type": "markdown",
   "id": "d02dd12c",
   "metadata": {},
   "source": [
    "### it does same in the string too"
   ]
  },
  {
   "cell_type": "code",
   "execution_count": 133,
   "id": "dc37615d",
   "metadata": {},
   "outputs": [],
   "source": [
    "cars2=['bmw','merceres','tesla','tata','ford']"
   ]
  },
  {
   "cell_type": "code",
   "execution_count": 134,
   "id": "1a08bd8b",
   "metadata": {},
   "outputs": [],
   "source": [
    "cars2.sort()"
   ]
  },
  {
   "cell_type": "code",
   "execution_count": 135,
   "id": "0c57ba1e",
   "metadata": {},
   "outputs": [
    {
     "data": {
      "text/plain": [
       "['bmw', 'ford', 'merceres', 'tata', 'tesla']"
      ]
     },
     "execution_count": 135,
     "metadata": {},
     "output_type": "execute_result"
    }
   ],
   "source": [
    "cars2"
   ]
  },
  {
   "cell_type": "code",
   "execution_count": 136,
   "id": "3522f6ef",
   "metadata": {},
   "outputs": [],
   "source": [
    "cars2.sort(reverse=True)"
   ]
  },
  {
   "cell_type": "code",
   "execution_count": 137,
   "id": "2c6f7565",
   "metadata": {},
   "outputs": [
    {
     "data": {
      "text/plain": [
       "['tesla', 'tata', 'merceres', 'ford', 'bmw']"
      ]
     },
     "execution_count": 137,
     "metadata": {},
     "output_type": "execute_result"
    }
   ],
   "source": [
    "cars2"
   ]
  },
  {
   "cell_type": "markdown",
   "id": "ecc82734",
   "metadata": {},
   "source": [
    " ### py sorted  to sort"
   ]
  },
  {
   "cell_type": "code",
   "execution_count": 138,
   "id": "bd2bdd76",
   "metadata": {},
   "outputs": [],
   "source": [
    "cars2=['bmw','merceres','tesla','tata','ford']"
   ]
  },
  {
   "cell_type": "code",
   "execution_count": 139,
   "id": "2d4c2661",
   "metadata": {},
   "outputs": [
    {
     "data": {
      "text/plain": [
       "['bmw', 'ford', 'merceres', 'tata', 'tesla']"
      ]
     },
     "execution_count": 139,
     "metadata": {},
     "output_type": "execute_result"
    }
   ],
   "source": [
    "sorted(cars2)"
   ]
  },
  {
   "cell_type": "code",
   "execution_count": 140,
   "id": "66eb9345",
   "metadata": {},
   "outputs": [
    {
     "data": {
      "text/plain": [
       "['tesla', 'tata', 'merceres', 'ford', 'bmw']"
      ]
     },
     "execution_count": 140,
     "metadata": {},
     "output_type": "execute_result"
    }
   ],
   "source": [
    "sorted(cars2,reverse = True)"
   ]
  },
  {
   "cell_type": "code",
   "execution_count": null,
   "id": "f8ba22d0",
   "metadata": {},
   "outputs": [],
   "source": []
  }
 ],
 "metadata": {
  "kernelspec": {
   "display_name": "Python 3 (ipykernel)",
   "language": "python",
   "name": "python3"
  },
  "language_info": {
   "codemirror_mode": {
    "name": "ipython",
    "version": 3
   },
   "file_extension": ".py",
   "mimetype": "text/x-python",
   "name": "python",
   "nbconvert_exporter": "python",
   "pygments_lexer": "ipython3",
   "version": "3.8.10"
  }
 },
 "nbformat": 4,
 "nbformat_minor": 5
}
