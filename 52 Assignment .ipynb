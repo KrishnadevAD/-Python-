{
 "cells": [
  {
   "cell_type": "markdown",
   "id": "d11728bf",
   "metadata": {},
   "source": [
    "#### question0\n",
    " "
   ]
  },
  {
   "cell_type": "raw",
   "id": "3b07b007",
   "metadata": {},
   "source": [
    " ## string  manipuation technique  : extract fruits from txt "
   ]
  },
  {
   "cell_type": "code",
   "execution_count": 101,
   "id": "f15d2b42",
   "metadata": {},
   "outputs": [],
   "source": [
    "txt = \" i like  orange apple banana and kiwi \""
   ]
  },
  {
   "cell_type": "code",
   "execution_count": 102,
   "id": "c3df7ff5",
   "metadata": {},
   "outputs": [],
   "source": [
    "txt = \" i like  orange apple banana and kiwi \"\n",
    "#fruits = ['orange ','apple','bananana','kiwi']|"
   ]
  },
  {
   "cell_type": "code",
   "execution_count": 103,
   "id": "84f023f5",
   "metadata": {},
   "outputs": [
    {
     "data": {
      "text/plain": [
       "['', 'i', 'like', '', 'orange', 'apple', 'banana', 'and', 'kiwi', '']"
      ]
     },
     "execution_count": 103,
     "metadata": {},
     "output_type": "execute_result"
    }
   ],
   "source": [
    " txt = txt.split(\" \")\n",
    "txt"
   ]
  },
  {
   "cell_type": "code",
   "execution_count": 104,
   "id": "4301f252",
   "metadata": {},
   "outputs": [],
   "source": [
    "fruits1 =txt[4:7]"
   ]
  },
  {
   "cell_type": "code",
   "execution_count": 105,
   "id": "73e1af18",
   "metadata": {},
   "outputs": [],
   "source": [
    "fruits2 = txt[8:9]"
   ]
  },
  {
   "cell_type": "code",
   "execution_count": 106,
   "id": "f232eb34",
   "metadata": {},
   "outputs": [],
   "source": [
    "fruits =fruits1 + fruits2 # concatenation of the two strings "
   ]
  },
  {
   "cell_type": "code",
   "execution_count": 107,
   "id": "0b75d6b2",
   "metadata": {},
   "outputs": [
    {
     "name": "stdout",
     "output_type": "stream",
     "text": [
      " The fruits from the text are : ['orange', 'apple', 'banana', 'kiwi']\n"
     ]
    }
   ],
   "source": [
    "print(\" The fruits from the text are :\",fruits)"
   ]
  },
  {
   "cell_type": "markdown",
   "id": "210e54c7",
   "metadata": {},
   "source": [
    "### alternative "
   ]
  },
  {
   "cell_type": "code",
   "execution_count": 1,
   "id": "3eafc53d",
   "metadata": {},
   "outputs": [],
   "source": [
    "txt = \" i like  orange apple banana and kiwi \""
   ]
  },
  {
   "cell_type": "code",
   "execution_count": 2,
   "id": "4600d83e",
   "metadata": {},
   "outputs": [
    {
     "data": {
      "text/plain": [
       "' i like  orange apple banana and kiwi '"
      ]
     },
     "execution_count": 2,
     "metadata": {},
     "output_type": "execute_result"
    }
   ],
   "source": [
    "txt"
   ]
  },
  {
   "cell_type": "code",
   "execution_count": 3,
   "id": "1fbf20f1",
   "metadata": {},
   "outputs": [],
   "source": [
    "txt=txt.lower()"
   ]
  },
  {
   "cell_type": "code",
   "execution_count": 5,
   "id": "d504209a",
   "metadata": {},
   "outputs": [
    {
     "ename": "IndentationError",
     "evalue": "unexpected indent (4000701066.py, line 6)",
     "output_type": "error",
     "traceback": [
      "\u001b[1;36m  Input \u001b[1;32mIn [5]\u001b[1;36m\u001b[0m\n\u001b[1;33m    for index in range(len(fruits)):\u001b[0m\n\u001b[1;37m    ^\u001b[0m\n\u001b[1;31mIndentationError\u001b[0m\u001b[1;31m:\u001b[0m unexpected indent\n"
     ]
    }
   ],
   "source": [
    "txt=txt.replace(\"i like\",'')\n",
    "txt=txt.replace(\".\",\"\")\n",
    "txt=txt.replace(\"and\",\"\")\n",
    "fruits=txt.split()\n",
    "\n",
    "    for index in range(len(fruits)):\n",
    "        name = fruits[index]\n",
    "        \n",
    "        if name =='':\n",
    "            continue\n",
    "            print(\" this is after continue\")\n",
    "        print(name)\n",
    "        "
   ]
  },
  {
   "cell_type": "code",
   "execution_count": null,
   "id": "3a3ef31c",
   "metadata": {},
   "outputs": [],
   "source": []
  },
  {
   "cell_type": "markdown",
   "id": "f343e2a1",
   "metadata": {},
   "source": [
    "#### question1"
   ]
  },
  {
   "cell_type": "raw",
   "id": "4239724c",
   "metadata": {},
   "source": [
    "  suppose we have two strings\n",
    "  \n",
    "  string1 = \"NEPALINDIACHINA\"\n",
    "  string2 = \"indiachinanepal\"\n",
    "  \n",
    "  \n",
    "  suppose i shifted sting1 by five position right(circular ), i will get sting2.\n",
    "  this phenomenon is called rotation of string . This means string2 is the rotation string of string1"
   ]
  },
  {
   "cell_type": "code",
   "execution_count": 108,
   "id": "18c9a27f",
   "metadata": {},
   "outputs": [],
   "source": [
    "  string1 = \"NEPALINDIACHINA\"\n"
   ]
  },
  {
   "cell_type": "code",
   "execution_count": 109,
   "id": "26715807",
   "metadata": {},
   "outputs": [],
   "source": [
    "  string2 = 'indiachinanepal'"
   ]
  },
  {
   "cell_type": "code",
   "execution_count": 110,
   "id": "2683cda7",
   "metadata": {},
   "outputs": [
    {
     "data": {
      "text/plain": [
       "'NEPAL'"
      ]
     },
     "execution_count": 110,
     "metadata": {},
     "output_type": "execute_result"
    }
   ],
   "source": [
    "k1 =string1[0:5]\n",
    "k1"
   ]
  },
  {
   "cell_type": "code",
   "execution_count": 111,
   "id": "e2a7bef4",
   "metadata": {},
   "outputs": [
    {
     "data": {
      "text/plain": [
       "'INDIACHINA'"
      ]
     },
     "execution_count": 111,
     "metadata": {},
     "output_type": "execute_result"
    }
   ],
   "source": [
    "k2 =string1[5:]\n",
    "k2\n"
   ]
  },
  {
   "cell_type": "code",
   "execution_count": 112,
   "id": "523d85a0",
   "metadata": {},
   "outputs": [
    {
     "data": {
      "text/plain": [
       "'INDIACHINANEPAL'"
      ]
     },
     "execution_count": 112,
     "metadata": {},
     "output_type": "execute_result"
    }
   ],
   "source": [
    "k3=k2+k1 # concatenation of the strings \n",
    "k3"
   ]
  },
  {
   "cell_type": "code",
   "execution_count": 113,
   "id": "a8f9944d",
   "metadata": {},
   "outputs": [
    {
     "name": "stdout",
     "output_type": "stream",
     "text": [
      "the output is : INDIACHINANEPAL\n"
     ]
    }
   ],
   "source": [
    "print(\"the output is :\",k3)"
   ]
  },
  {
   "cell_type": "code",
   "execution_count": 114,
   "id": "4f76f899",
   "metadata": {},
   "outputs": [
    {
     "data": {
      "text/plain": [
       "'indiachinanepal'"
      ]
     },
     "execution_count": 114,
     "metadata": {},
     "output_type": "execute_result"
    }
   ],
   "source": [
    "string11=k3.lower() # converting string into the lower case \n",
    "string11"
   ]
  },
  {
   "cell_type": "code",
   "execution_count": 115,
   "id": "495558af",
   "metadata": {},
   "outputs": [],
   "source": [
    "string1=string11 # assigning the string11 to asting 1 "
   ]
  },
  {
   "cell_type": "code",
   "execution_count": 116,
   "id": "8c1942ef",
   "metadata": {},
   "outputs": [
    {
     "data": {
      "text/plain": [
       "True"
      ]
     },
     "execution_count": 116,
     "metadata": {},
     "output_type": "execute_result"
    }
   ],
   "source": [
    "string1==string2 # equating the strings"
   ]
  },
  {
   "cell_type": "markdown",
   "id": "e08d6e0b",
   "metadata": {},
   "source": [
    " ###### since, the string1 is equal to string2. Hence , its is called rotation of string.\n",
    " ###### which means  string2 is the rotation string of string1."
   ]
  },
  {
   "cell_type": "code",
   "execution_count": 7,
   "id": "845f4f08",
   "metadata": {},
   "outputs": [
    {
     "ename": "SyntaxError",
     "evalue": "unexpected EOF while parsing (2840976349.py, line 10)",
     "output_type": "error",
     "traceback": [
      "\u001b[1;36m  Input \u001b[1;32mIn [7]\u001b[1;36m\u001b[0m\n\u001b[1;33m    #print (shift_reverse(sr))\u001b[0m\n\u001b[1;37m                              ^\u001b[0m\n\u001b[1;31mSyntaxError\u001b[0m\u001b[1;31m:\u001b[0m unexpected EOF while parsing\n"
     ]
    }
   ],
   "source": [
    "sr= \"I Me You\"\n",
    "def shift_right(sr):\n",
    "    L=sr.split()\n",
    "    new_list=L[-1]\n",
    "\n",
    "    new_list= new_list.append(1,L[:0])\n",
    "    return (new_list)\n",
    "\n",
    "print(shift_right(sr)\n",
    "#print (shift_reverse(sr))"
   ]
  },
  {
   "cell_type": "code",
   "execution_count": 8,
   "id": "f4a68bd4",
   "metadata": {},
   "outputs": [],
   "source": [
    "def shift_str(s):\n",
    "    arr = s.split()\n",
    "    first = arr.pop(0)\n",
    "    arr.append(first)\n",
    "    return \" \".join(arr)"
   ]
  },
  {
   "cell_type": "code",
   "execution_count": 9,
   "id": "ce684388",
   "metadata": {},
   "outputs": [
    {
     "ename": "TypeError",
     "evalue": "unsupported operand type(s) for >>: 'str' and 'str'",
     "output_type": "error",
     "traceback": [
      "\u001b[1;31m---------------------------------------------------------------------------\u001b[0m",
      "\u001b[1;31mTypeError\u001b[0m                                 Traceback (most recent call last)",
      "Input \u001b[1;32mIn [9]\u001b[0m, in \u001b[0;36m<cell line: 1>\u001b[1;34m()\u001b[0m\n\u001b[1;32m----> 1\u001b[0m \u001b[43mshift_str\u001b[49m\u001b[43m(\u001b[49m\u001b[38;5;124;43m\"\u001b[39;49m\u001b[38;5;124;43mxxx ccc lklklk\u001b[39;49m\u001b[38;5;124;43m\"\u001b[39;49m\u001b[43m)\u001b[49m\u001b[43m \u001b[49m\u001b[38;5;241;43m>>\u001b[39;49m\u001b[43m \u001b[49m\u001b[38;5;124;43m'\u001b[39;49m\u001b[38;5;124;43mccc lklklk xxx\u001b[39;49m\u001b[38;5;124;43m'\u001b[39;49m\n",
      "\u001b[1;31mTypeError\u001b[0m: unsupported operand type(s) for >>: 'str' and 'str'"
     ]
    }
   ],
   "source": [
    "shift_str(\"xxx ccc lklklk\") >> 'ccc lklklk xxx'"
   ]
  },
  {
   "cell_type": "code",
   "execution_count": 11,
   "id": "316ab176",
   "metadata": {},
   "outputs": [
    {
     "name": "stdout",
     "output_type": "stream",
     "text": [
      "The original string is :  NepalIndiaChina\n",
      "The string after rotation is :  IndiaChinaNepal\n"
     ]
    }
   ],
   "source": [
    "# Python3 code to demonstrate working of\n",
    "# Right and Left Shift characters in String\n",
    "# Using String multiplication + string slicing\n",
    "\n",
    "# initializing string\n",
    "test_str = 'NepalIndiaChina'\n",
    "\n",
    "# printing original string\n",
    "print(\"The original string is : \" ,test_str)\n",
    "\n",
    "# initializing right rot\n",
    "r_rot = 8\n",
    "\n",
    "# initializing left rot\n",
    "#l_rot = 3\n",
    "\n",
    "# Right and Left Shift characters in String\n",
    "# Using String multiplication + string slicing\n",
    "res = (test_str * 3)[len(test_str) + r_rot - l_rot :\n",
    "\t\t2 * len(test_str) +r_rot - l_rot]\n",
    "\n",
    "# printing result\n",
    "print(\"The string after rotation is : \",str(res))\n"
   ]
  },
  {
   "cell_type": "code",
   "execution_count": null,
   "id": "535343ce",
   "metadata": {},
   "outputs": [],
   "source": []
  }
 ],
 "metadata": {
  "kernelspec": {
   "display_name": "Python 3 (ipykernel)",
   "language": "python",
   "name": "python3"
  },
  "language_info": {
   "codemirror_mode": {
    "name": "ipython",
    "version": 3
   },
   "file_extension": ".py",
   "mimetype": "text/x-python",
   "name": "python",
   "nbconvert_exporter": "python",
   "pygments_lexer": "ipython3",
   "version": "3.8.10"
  }
 },
 "nbformat": 4,
 "nbformat_minor": 5
}
