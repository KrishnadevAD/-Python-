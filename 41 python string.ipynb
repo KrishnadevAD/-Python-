{
 "cells": [
  {
   "cell_type": "markdown",
   "id": "8d93cbf2",
   "metadata": {},
   "source": [
    "## python string"
   ]
  },
  {
   "cell_type": "code",
   "execution_count": 1,
   "id": "32df6d85",
   "metadata": {},
   "outputs": [],
   "source": [
    "txt1 =\"hi\"\n",
    "txt2 ='hi'"
   ]
  },
  {
   "cell_type": "code",
   "execution_count": 2,
   "id": "32920080",
   "metadata": {},
   "outputs": [
    {
     "data": {
      "text/plain": [
       "True"
      ]
     },
     "execution_count": 2,
     "metadata": {},
     "output_type": "execute_result"
    }
   ],
   "source": [
    "txt1 == txt2"
   ]
  },
  {
   "cell_type": "code",
   "execution_count": 3,
   "id": "6a8d5823",
   "metadata": {},
   "outputs": [],
   "source": [
    "txt1 =\"hi\"\n",
    "txt2 ='hi....'"
   ]
  },
  {
   "cell_type": "code",
   "execution_count": 4,
   "id": "b5e643df",
   "metadata": {},
   "outputs": [
    {
     "data": {
      "text/plain": [
       "False"
      ]
     },
     "execution_count": 4,
     "metadata": {},
     "output_type": "execute_result"
    }
   ],
   "source": [
    "txt1 == txt2"
   ]
  },
  {
   "cell_type": "code",
   "execution_count": 6,
   "id": "a78337c9",
   "metadata": {},
   "outputs": [
    {
     "ename": "NameError",
     "evalue": "name 'text1' is not defined",
     "output_type": "error",
     "traceback": [
      "\u001b[1;31m---------------------------------------------------------------------------\u001b[0m",
      "\u001b[1;31mNameError\u001b[0m                                 Traceback (most recent call last)",
      "Input \u001b[1;32mIn [6]\u001b[0m, in \u001b[0;36m<cell line: 1>\u001b[1;34m()\u001b[0m\n\u001b[1;32m----> 1\u001b[0m \u001b[38;5;28;01massert\u001b[39;00m \u001b[43mtext1\u001b[49m \u001b[38;5;241m==\u001b[39m text2\n",
      "\u001b[1;31mNameError\u001b[0m: name 'text1' is not defined"
     ]
    }
   ],
   "source": [
    "assert text1 == text2 # \" asset\" key word is used to show the error if it is true than python code will rune "
   ]
  },
  {
   "cell_type": "code",
   "execution_count": 7,
   "id": "11ec6256",
   "metadata": {},
   "outputs": [
    {
     "ename": "SyntaxError",
     "evalue": "EOL while scanning string literal (4239288103.py, line 1)",
     "output_type": "error",
     "traceback": [
      "\u001b[1;36m  Input \u001b[1;32mIn [7]\u001b[1;36m\u001b[0m\n\u001b[1;33m    txt \" krishnadev\u001b[0m\n\u001b[1;37m                     ^\u001b[0m\n\u001b[1;31mSyntaxError\u001b[0m\u001b[1;31m:\u001b[0m EOL while scanning string literal\n"
     ]
    }
   ],
   "source": [
    "txt =\" krishnadev \n",
    "asikari \n",
    "danuar \""
   ]
  },
  {
   "cell_type": "code",
   "execution_count": 11,
   "id": "ee02c454",
   "metadata": {},
   "outputs": [],
   "source": [
    "txt = \"\"\"\n",
    "\n",
    " hello krishna\n",
    "  this is \n",
    "  krishnadev \n",
    "  adhikar\n",
    " \n",
    "\"\"\""
   ]
  },
  {
   "cell_type": "code",
   "execution_count": 12,
   "id": "1cc838a7",
   "metadata": {},
   "outputs": [
    {
     "data": {
      "text/plain": [
       "'\\n\\n hello krishna\\n  this is \\n  krishnadev \\n  adhikar\\n \\n'"
      ]
     },
     "execution_count": 12,
     "metadata": {},
     "output_type": "execute_result"
    }
   ],
   "source": [
    "txt"
   ]
  },
  {
   "cell_type": "code",
   "execution_count": 14,
   "id": "f4b9320d",
   "metadata": {},
   "outputs": [],
   "source": [
    "txt1 =''' krishnadev \n",
    "karish a\n",
    "kakkakka\n",
    " adhikari \n",
    " '''"
   ]
  },
  {
   "cell_type": "code",
   "execution_count": 16,
   "id": "43e5d2af",
   "metadata": {},
   "outputs": [
    {
     "data": {
      "text/plain": [
       "' krishnadev \\nkarish a\\nkakkakka\\n adhikari \\n '"
      ]
     },
     "execution_count": 16,
     "metadata": {},
     "output_type": "execute_result"
    }
   ],
   "source": [
    "txt1"
   ]
  },
  {
   "cell_type": "raw",
   "id": "aad04b49",
   "metadata": {},
   "source": [
    "string  in multiple line code code  can be written in the \n",
    " multiple line as above \n",
    "    when it is written in the  \n",
    "    TRIPLE  quotation "
   ]
  },
  {
   "cell_type": "code",
   "execution_count": null,
   "id": "58bcd888",
   "metadata": {},
   "outputs": [],
   "source": [
    " a = \" hello world \""
   ]
  }
 ],
 "metadata": {
  "kernelspec": {
   "display_name": "Python 3 (ipykernel)",
   "language": "python",
   "name": "python3"
  },
  "language_info": {
   "codemirror_mode": {
    "name": "ipython",
    "version": 3
   },
   "file_extension": ".py",
   "mimetype": "text/x-python",
   "name": "python",
   "nbconvert_exporter": "python",
   "pygments_lexer": "ipython3",
   "version": "3.8.10"
  }
 },
 "nbformat": 4,
 "nbformat_minor": 5
}
