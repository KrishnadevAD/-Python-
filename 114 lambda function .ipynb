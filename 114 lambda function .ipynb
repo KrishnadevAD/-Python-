{
 "cells": [
  {
   "cell_type": "markdown",
   "id": "463c903e",
   "metadata": {},
   "source": [
    "## python lambda function also called ananynomys functon"
   ]
  },
  {
   "cell_type": "raw",
   "id": "4cf1d7f2",
   "metadata": {},
   "source": [
    " lambda -->   it is the function whose name is not given "
   ]
  },
  {
   "cell_type": "raw",
   "id": "f90fa85a",
   "metadata": {},
   "source": [
    " it is used to quick functioning \n",
    " it is the function without its name \n",
    " to do only one work the lambda is used \n",
    " it is used in quick processing \n",
    " It is used in filter and map "
   ]
  },
  {
   "cell_type": "code",
   "execution_count": 1,
   "id": "a2a949be",
   "metadata": {},
   "outputs": [
    {
     "data": {
      "text/plain": [
       "<function __main__.<lambda>(x)>"
      ]
     },
     "execution_count": 1,
     "metadata": {},
     "output_type": "execute_result"
    }
   ],
   "source": [
    "lambda x:x**2"
   ]
  },
  {
   "cell_type": "code",
   "execution_count": 2,
   "id": "237b627c",
   "metadata": {},
   "outputs": [],
   "source": [
    "square_of_num =lambda x:x**2"
   ]
  },
  {
   "cell_type": "code",
   "execution_count": 3,
   "id": "9908f1c7",
   "metadata": {},
   "outputs": [
    {
     "data": {
      "text/plain": [
       "16"
      ]
     },
     "execution_count": 3,
     "metadata": {},
     "output_type": "execute_result"
    }
   ],
   "source": [
    "square_of_num(4)"
   ]
  },
  {
   "cell_type": "markdown",
   "id": "78967dc2",
   "metadata": {},
   "source": [
    "#### lambda is used in filter and map ? why ? ( assignment )"
   ]
  },
  {
   "cell_type": "markdown",
   "id": "e0050ccc",
   "metadata": {},
   "source": [
    "#  loop in loop"
   ]
  },
  {
   "cell_type": "code",
   "execution_count": 5,
   "id": "78f0085d",
   "metadata": {},
   "outputs": [],
   "source": [
    "list=[[1,2],[5,6],[2,3,4,5,6]]"
   ]
  },
  {
   "cell_type": "code",
   "execution_count": 8,
   "id": "1b15918c",
   "metadata": {},
   "outputs": [
    {
     "data": {
      "text/plain": [
       "3"
      ]
     },
     "execution_count": 8,
     "metadata": {},
     "output_type": "execute_result"
    }
   ],
   "source": [
    "sum(list[0])"
   ]
  },
  {
   "cell_type": "code",
   "execution_count": 7,
   "id": "d2d643d4",
   "metadata": {},
   "outputs": [
    {
     "name": "stdout",
     "output_type": "stream",
     "text": [
      "................\n",
      "i=0\n",
      "...............\n",
      "j=0\n",
      "j=1\n",
      "j=2\n",
      "j=3\n",
      "j=4\n",
      "................\n",
      "i=0\n",
      "...............\n",
      "j=0\n",
      "j=1\n",
      "j=2\n",
      "j=3\n",
      "j=4\n",
      "................\n",
      "i=0\n",
      "...............\n",
      "j=0\n",
      "j=1\n",
      "j=2\n",
      "j=3\n",
      "j=4\n"
     ]
    }
   ],
   "source": [
    "for i in range(3):\n",
    "    print(\"................\")\n",
    "    print(\"i=0\".format(i))\n",
    "    print(\"...............\")\n",
    "    for j in range(5):\n",
    "        print(\"j={}\".format(j))"
   ]
  },
  {
   "cell_type": "code",
   "execution_count": null,
   "id": "5b1ab8d7",
   "metadata": {},
   "outputs": [],
   "source": [
    "list=[[1,2],[5,6],[2,3,4,5,6]]\n",
    "all_total="
   ]
  }
 ],
 "metadata": {
  "kernelspec": {
   "display_name": "Python 3 (ipykernel)",
   "language": "python",
   "name": "python3"
  },
  "language_info": {
   "codemirror_mode": {
    "name": "ipython",
    "version": 3
   },
   "file_extension": ".py",
   "mimetype": "text/x-python",
   "name": "python",
   "nbconvert_exporter": "python",
   "pygments_lexer": "ipython3",
   "version": "3.8.10"
  }
 },
 "nbformat": 4,
 "nbformat_minor": 5
}
