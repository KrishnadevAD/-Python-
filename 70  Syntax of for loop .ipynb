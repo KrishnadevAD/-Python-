{
 "cells": [
  {
   "cell_type": "markdown",
   "id": "70e32553",
   "metadata": {},
   "source": [
    " ### hello list "
   ]
  },
  {
   "cell_type": "markdown",
   "id": "12ae5866",
   "metadata": {},
   "source": [
    " how to add code in mark down "
   ]
  },
  {
   "cell_type": "markdown",
   "id": "0b893c5a",
   "metadata": {},
   "source": [
    "# one syntax of for loop using range ( ) method"
   ]
  },
  {
   "cell_type": "markdown",
   "id": "557d4293",
   "metadata": {},
   "source": [
    "```python\n",
    "for index in range(start,end ,step):\n",
    "    print(index)\n",
    "    "
   ]
  },
  {
   "cell_type": "code",
   "execution_count": 2,
   "id": "b7ceb24c",
   "metadata": {},
   "outputs": [
    {
     "ename": "SyntaxError",
     "evalue": "invalid syntax (2556843285.py, line 1)",
     "output_type": "error",
     "traceback": [
      "\u001b[1;36m  Input \u001b[1;32mIn [2]\u001b[1;36m\u001b[0m\n\u001b[1;33m    the above code will not run, as it is written in the markdown\u001b[0m\n\u001b[1;37m        ^\u001b[0m\n\u001b[1;31mSyntaxError\u001b[0m\u001b[1;31m:\u001b[0m invalid syntax\n"
     ]
    }
   ],
   "source": [
    " the above code will not run, as it is written in the markdown"
   ]
  },
  {
   "cell_type": "markdown",
   "id": "36ecbfa4",
   "metadata": {},
   "source": [
    "# another syntax of for loop using list "
   ]
  },
  {
   "cell_type": "markdown",
   "id": "7769d3cc",
   "metadata": {},
   "source": [
    "( ````` it is called tiltaa)"
   ]
  },
  {
   "cell_type": "code",
   "execution_count": 9,
   "id": "3a0b526e",
   "metadata": {},
   "outputs": [
    {
     "ename": "SyntaxError",
     "evalue": "invalid syntax (1221994908.py, line 1)",
     "output_type": "error",
     "traceback": [
      "\u001b[1;36m  Input \u001b[1;32mIn [9]\u001b[1;36m\u001b[0m\n\u001b[1;33m    ```python\u001b[0m\n\u001b[1;37m    ^\u001b[0m\n\u001b[1;31mSyntaxError\u001b[0m\u001b[1;31m:\u001b[0m invalid syntax\n"
     ]
    }
   ],
   "source": [
    "```python\n",
    "for item in list name :\n",
    "    print(item)#prints items on the list one by one"
   ]
  },
  {
   "cell_type": "code",
   "execution_count": null,
   "id": "ca6d7923",
   "metadata": {},
   "outputs": [],
   "source": []
  }
 ],
 "metadata": {
  "kernelspec": {
   "display_name": "Python 3 (ipykernel)",
   "language": "python",
   "name": "python3"
  },
  "language_info": {
   "codemirror_mode": {
    "name": "ipython",
    "version": 3
   },
   "file_extension": ".py",
   "mimetype": "text/x-python",
   "name": "python",
   "nbconvert_exporter": "python",
   "pygments_lexer": "ipython3",
   "version": "3.8.10"
  }
 },
 "nbformat": 4,
 "nbformat_minor": 5
}
