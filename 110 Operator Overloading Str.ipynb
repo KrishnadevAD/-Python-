{
 "cells": [
  {
   "cell_type": "markdown",
   "id": "3def7098",
   "metadata": {},
   "source": [
    "# dunders "
   ]
  },
  {
   "cell_type": "code",
   "execution_count": 6,
   "id": "2e436cca",
   "metadata": {},
   "outputs": [],
   "source": [
    "class person:\n",
    "    def __init__(self,name):\n",
    "        self.name=name"
   ]
  },
  {
   "cell_type": "code",
   "execution_count": 7,
   "id": "48a57696",
   "metadata": {},
   "outputs": [],
   "source": [
    "p1=person(\"krishnadev\")"
   ]
  },
  {
   "cell_type": "code",
   "execution_count": 8,
   "id": "8c440a04",
   "metadata": {},
   "outputs": [
    {
     "name": "stdout",
     "output_type": "stream",
     "text": [
      "<__main__.person object at 0x0000026A44755E20>\n"
     ]
    }
   ],
   "source": [
    "print(p1)"
   ]
  },
  {
   "cell_type": "code",
   "execution_count": 9,
   "id": "262ce8b7",
   "metadata": {},
   "outputs": [],
   "source": [
    "class person:\n",
    "    def __init__(self,name):\n",
    "        self.name=name\n",
    "    def __str__(self):\n",
    "        return f\"person{self.name})\""
   ]
  },
  {
   "cell_type": "code",
   "execution_count": 10,
   "id": "9071088f",
   "metadata": {},
   "outputs": [],
   "source": [
    "p1=person(\"krishnadev\")"
   ]
  },
  {
   "cell_type": "code",
   "execution_count": 11,
   "id": "7efd3221",
   "metadata": {},
   "outputs": [
    {
     "name": "stdout",
     "output_type": "stream",
     "text": [
      "personkrishnadev)\n"
     ]
    }
   ],
   "source": [
    "print(p1)"
   ]
  },
  {
   "cell_type": "code",
   "execution_count": 12,
   "id": "1c091f54",
   "metadata": {},
   "outputs": [],
   "source": [
    "class person:\n",
    "    def __init__(self,name):\n",
    "        self.name=name\n",
    "    def __str__(self):\n",
    "        return f\"person{self.name})\""
   ]
  },
  {
   "cell_type": "code",
   "execution_count": 13,
   "id": "3ed3bc6d",
   "metadata": {},
   "outputs": [],
   "source": [
    "p1=person(\"krishnadev\")"
   ]
  },
  {
   "cell_type": "code",
   "execution_count": 14,
   "id": "b87bf122",
   "metadata": {},
   "outputs": [
    {
     "data": {
      "text/plain": [
       "<__main__.person at 0x26a4479b220>"
      ]
     },
     "execution_count": 14,
     "metadata": {},
     "output_type": "execute_result"
    }
   ],
   "source": [
    "p1"
   ]
  },
  {
   "cell_type": "code",
   "execution_count": null,
   "id": "e5a8a3c6",
   "metadata": {},
   "outputs": [],
   "source": []
  }
 ],
 "metadata": {
  "kernelspec": {
   "display_name": "Python 3 (ipykernel)",
   "language": "python",
   "name": "python3"
  },
  "language_info": {
   "codemirror_mode": {
    "name": "ipython",
    "version": 3
   },
   "file_extension": ".py",
   "mimetype": "text/x-python",
   "name": "python",
   "nbconvert_exporter": "python",
   "pygments_lexer": "ipython3",
   "version": "3.8.10"
  }
 },
 "nbformat": 4,
 "nbformat_minor": 5
}
